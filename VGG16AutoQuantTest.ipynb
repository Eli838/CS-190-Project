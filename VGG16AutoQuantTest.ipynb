{
 "cells": [
  {
   "cell_type": "code",
   "execution_count": 1,
   "id": "5bbc5679-b34b-480b-96c7-c01b1c8c5c09",
   "metadata": {},
   "outputs": [
    {
     "name": "stderr",
     "output_type": "stream",
     "text": [
      "/Users/yanran/miniconda3/envs/hw2/lib/python3.11/site-packages/torchvision/io/image.py:13: UserWarning: Failed to load image Python extension: 'dlopen(/Users/yanran/miniconda3/envs/hw2/lib/python3.11/site-packages/torchvision/image.so, 0x0006): Symbol not found: __ZN3c1017RegisterOperatorsD1Ev\n",
      "  Referenced from: <CFED5F8E-EC3F-36FD-AAA3-2C6C7F8D3DD9> /Users/yanran/miniconda3/envs/hw2/lib/python3.11/site-packages/torchvision/image.so\n",
      "  Expected in:     <E459C462-F863-3A5A-AC9F-FD77B14BE845> /Users/yanran/miniconda3/envs/hw2/lib/python3.11/site-packages/torch/lib/libtorch_cpu.dylib'If you don't plan on using image functionality from `torchvision.io`, you can ignore this warning. Otherwise, there might be something wrong with your environment. Did you have `libjpeg` or `libpng` installed before building `torchvision` from source?\n",
      "  warn(\n",
      "/Users/yanran/miniconda3/envs/hw2/lib/python3.11/site-packages/tqdm/auto.py:21: TqdmWarning: IProgress not found. Please update jupyter and ipywidgets. See https://ipywidgets.readthedocs.io/en/stable/user_install.html\n",
      "  from .autonotebook import tqdm as notebook_tqdm\n"
     ]
    }
   ],
   "source": [
    "import torch\n",
    "import torchvision\n",
    "import torchvision.transforms as transforms\n",
    "import torch.nn as nn\n",
    "import datetime\n",
    "from matplotlib import pyplot as plt\n",
    "import numpy as np\n",
    "from tqdm import tqdm\n",
    "\n",
    "from pathlib import Path\n",
    "import pickle\n",
    "from IPython.display import display, Markdown, Latex"
   ]
  },
  {
   "cell_type": "markdown",
   "id": "47d7ca3c-74e7-4b68-ae8f-220fd3c03d5c",
   "metadata": {},
   "source": [
    "# Initialize Model"
   ]
  },
  {
   "cell_type": "code",
   "execution_count": 14,
   "id": "1feb0a29-c9de-42be-9375-748444149300",
   "metadata": {},
   "outputs": [],
   "source": [
    "bit_lengths = [7,6,5,4,3]\n"
   ]
  },
  {
   "cell_type": "code",
   "execution_count": 3,
   "id": "3c0a39c3-d403-452f-8d57-165bd494a11a",
   "metadata": {},
   "outputs": [],
   "source": [
    "model_path = Path('./models')"
   ]
  },
  {
   "cell_type": "code",
   "execution_count": 4,
   "id": "607d97c0-7088-4769-9314-b9616f4bf353",
   "metadata": {},
   "outputs": [],
   "source": [
    "fig_path = Path('./figures')"
   ]
  },
  {
   "cell_type": "code",
   "execution_count": 6,
   "id": "e1f69351-69a2-4de4-b7ba-d44e2152e4b7",
   "metadata": {},
   "outputs": [],
   "source": [
    "transform = transforms.Compose([\n",
    "    transforms.Resize(256),\n",
    "    transforms.CenterCrop(224),\n",
    "    transforms.ToTensor(),\n",
    "    transforms.Normalize(mean=[0.485, 0.456, 0.406], std=[0.229, 0.224, 0.225]),\n",
    "])"
   ]
  },
  {
   "cell_type": "code",
   "execution_count": 7,
   "id": "a3ae5115-68f1-4c23-bc2b-ef53fc859e17",
   "metadata": {},
   "outputs": [
    {
     "name": "stdout",
     "output_type": "stream",
     "text": [
      "Downloading https://www.cs.toronto.edu/~kriz/cifar-10-python.tar.gz to ../data/cifar-10-python.tar.gz\n"
     ]
    },
    {
     "name": "stderr",
     "output_type": "stream",
     "text": [
      "100%|██████████| 170498071/170498071 [03:11<00:00, 889648.84it/s] \n"
     ]
    },
    {
     "name": "stdout",
     "output_type": "stream",
     "text": [
      "Extracting ../data/cifar-10-python.tar.gz to ../data\n",
      "Files already downloaded and verified\n"
     ]
    }
   ],
   "source": [
    "train_data = torchvision.datasets.CIFAR10(root='../data', train=True, download=True, transform=transform)\n",
    "test_data = torchvision.datasets.CIFAR10(root='../data', train=False, download=True, transform=transform)\n",
    "\n",
    "trainloader = torch.utils.data.DataLoader(train_data, batch_size=4, shuffle=True, num_workers=2)\n",
    "testloader = torch.utils.data.DataLoader(test_data, batch_size=4, shuffle=False, num_workers=2)\n",
    "\n",
    "classes = ('Airplane', 'Car', 'Bird', 'Cat', 'Deer', 'Dog', 'Frog', 'Horse', 'Ship', 'Truck')"
   ]
  },
  {
   "cell_type": "code",
   "execution_count": 8,
   "id": "a1c3a5e0-a40f-4267-88b3-2a06d6bd2bf9",
   "metadata": {},
   "outputs": [],
   "source": [
    "device = torch.device(\"cuda:0\" if torch.cuda.is_available() else \"cpu\")"
   ]
  },
  {
   "cell_type": "code",
   "execution_count": 9,
   "id": "39017c41-3ccc-4504-bcfd-8d805a362d38",
   "metadata": {},
   "outputs": [],
   "source": [
    "import torchvision.models as models\n",
    "path = \"Automated_Output\"\n",
    "def create_model(bit_length):\n",
    "    vgg16 = models.vgg16(pretrained=False)\n",
    "    vgg16.classifier[4] = nn.Linear(4096,1024)\n",
    "    vgg16.classifier[6] = nn.Linear(1024,10)\n",
    "    vgg16.load_state_dict(torch.load(f'{path}/dt_quantized_model_bl_{bit_length}',map_location=device))\n",
    "    # vgg16.load_state_dict(torch.load(f'model_20240610_113550_DT_Quantized_NEW',map_location=device))\n",
    "\n",
    "    vgg16.eval()\n",
    "    return vgg16"
   ]
  },
  {
   "cell_type": "code",
   "execution_count": 10,
   "id": "a901b4ce-93b6-4eeb-a421-d33c0bc97245",
   "metadata": {},
   "outputs": [],
   "source": [
    "accuracies = {7: 85.22, 6: 85.12, 5: 85.06, 4: 84.87, 3: 83.51, 2: 83.51}#, 1: 25.24}"
   ]
  },
  {
   "cell_type": "code",
   "execution_count": 11,
   "id": "401ee329-5a88-43ff-a891-a36c61c8a59c",
   "metadata": {},
   "outputs": [],
   "source": [
    "# plt.plot(list(accuracies.keys()), list(accuracies.values()))\n",
    "# plt.gca().invert_xaxis()\n",
    "# plt.ylabel('Accuracy (%)')\n",
    "# plt.xlabel('Number of bits')\n",
    "# plt.title('vgg16 Accuracy vs Number of DT Bits')\n",
    "# plt.savefig(fig_path / 'vgg16_accuracy_v_bits.png')"
   ]
  },
  {
   "cell_type": "markdown",
   "id": "2bb73066-4699-433a-a5b1-9a218962e882",
   "metadata": {},
   "source": [
    "---"
   ]
  },
  {
   "cell_type": "code",
   "execution_count": 15,
   "id": "d2bd4726-be8d-49fd-a0aa-c247ce9a7cbc",
   "metadata": {},
   "outputs": [
    {
     "ename": "FileNotFoundError",
     "evalue": "[Errno 2] No such file or directory: 'Automated_Output/dt_counts_bl_7.pkl'",
     "output_type": "error",
     "traceback": [
      "\u001b[0;31m---------------------------------------------------------------------------\u001b[0m",
      "\u001b[0;31mFileNotFoundError\u001b[0m                         Traceback (most recent call last)",
      "Cell \u001b[0;32mIn[15], line 3\u001b[0m\n\u001b[1;32m      1\u001b[0m counts \u001b[38;5;241m=\u001b[39m []\n\u001b[1;32m      2\u001b[0m \u001b[38;5;28;01mfor\u001b[39;00m bit_length \u001b[38;5;129;01min\u001b[39;00m bit_lengths:\n\u001b[0;32m----> 3\u001b[0m     \u001b[38;5;28;01mwith\u001b[39;00m \u001b[38;5;28;43mopen\u001b[39;49m\u001b[43m(\u001b[49m\u001b[38;5;124;43mf\u001b[39;49m\u001b[38;5;124;43m'\u001b[39;49m\u001b[38;5;132;43;01m{\u001b[39;49;00m\u001b[43mpath\u001b[49m\u001b[38;5;132;43;01m}\u001b[39;49;00m\u001b[38;5;124;43m/dt_counts_bl_\u001b[39;49m\u001b[38;5;132;43;01m{\u001b[39;49;00m\u001b[43mbit_length\u001b[49m\u001b[38;5;132;43;01m}\u001b[39;49;00m\u001b[38;5;124;43m.pkl\u001b[39;49m\u001b[38;5;124;43m'\u001b[39;49m\u001b[43m,\u001b[49m\u001b[43m \u001b[49m\u001b[38;5;124;43m'\u001b[39;49m\u001b[38;5;124;43mrb\u001b[39;49m\u001b[38;5;124;43m'\u001b[39;49m\u001b[43m)\u001b[49m \u001b[38;5;28;01mas\u001b[39;00m f:\n\u001b[1;32m      4\u001b[0m         counts\u001b[38;5;241m.\u001b[39mappend(pickle\u001b[38;5;241m.\u001b[39mload(f))\n\u001b[1;32m      5\u001b[0m         \u001b[38;5;28mprint\u001b[39m(\u001b[38;5;124mf\u001b[39m\u001b[38;5;124m'\u001b[39m\u001b[38;5;132;01m{\u001b[39;00mbit_length\u001b[38;5;132;01m}\u001b[39;00m\u001b[38;5;124m bit exponent counts: \u001b[39m\u001b[38;5;132;01m{\u001b[39;00mcounts[\u001b[38;5;241m-\u001b[39m\u001b[38;5;241m1\u001b[39m]\u001b[38;5;132;01m}\u001b[39;00m\u001b[38;5;124m'\u001b[39m)\n",
      "File \u001b[0;32m~/miniconda3/envs/hw2/lib/python3.11/site-packages/IPython/core/interactiveshell.py:324\u001b[0m, in \u001b[0;36m_modified_open\u001b[0;34m(file, *args, **kwargs)\u001b[0m\n\u001b[1;32m    317\u001b[0m \u001b[38;5;28;01mif\u001b[39;00m file \u001b[38;5;129;01min\u001b[39;00m {\u001b[38;5;241m0\u001b[39m, \u001b[38;5;241m1\u001b[39m, \u001b[38;5;241m2\u001b[39m}:\n\u001b[1;32m    318\u001b[0m     \u001b[38;5;28;01mraise\u001b[39;00m \u001b[38;5;167;01mValueError\u001b[39;00m(\n\u001b[1;32m    319\u001b[0m         \u001b[38;5;124mf\u001b[39m\u001b[38;5;124m\"\u001b[39m\u001b[38;5;124mIPython won\u001b[39m\u001b[38;5;124m'\u001b[39m\u001b[38;5;124mt let you open fd=\u001b[39m\u001b[38;5;132;01m{\u001b[39;00mfile\u001b[38;5;132;01m}\u001b[39;00m\u001b[38;5;124m by default \u001b[39m\u001b[38;5;124m\"\u001b[39m\n\u001b[1;32m    320\u001b[0m         \u001b[38;5;124m\"\u001b[39m\u001b[38;5;124mas it is likely to crash IPython. If you know what you are doing, \u001b[39m\u001b[38;5;124m\"\u001b[39m\n\u001b[1;32m    321\u001b[0m         \u001b[38;5;124m\"\u001b[39m\u001b[38;5;124myou can use builtins\u001b[39m\u001b[38;5;124m'\u001b[39m\u001b[38;5;124m open.\u001b[39m\u001b[38;5;124m\"\u001b[39m\n\u001b[1;32m    322\u001b[0m     )\n\u001b[0;32m--> 324\u001b[0m \u001b[38;5;28;01mreturn\u001b[39;00m \u001b[43mio_open\u001b[49m\u001b[43m(\u001b[49m\u001b[43mfile\u001b[49m\u001b[43m,\u001b[49m\u001b[43m \u001b[49m\u001b[38;5;241;43m*\u001b[39;49m\u001b[43margs\u001b[49m\u001b[43m,\u001b[49m\u001b[43m \u001b[49m\u001b[38;5;241;43m*\u001b[39;49m\u001b[38;5;241;43m*\u001b[39;49m\u001b[43mkwargs\u001b[49m\u001b[43m)\u001b[49m\n",
      "\u001b[0;31mFileNotFoundError\u001b[0m: [Errno 2] No such file or directory: 'Automated_Output/dt_counts_bl_7.pkl'"
     ]
    }
   ],
   "source": [
    "counts = []\n",
    "for bit_length in bit_lengths:\n",
    "    with open(f'Automated_Output/dt_counts_bl_{bit_length}.pkl', 'rb') as f:\n",
    "        counts.append(pickle.load(f))\n",
    "        print(f'{bit_length} bit exponent counts: {counts[-1]}')"
   ]
  },
  {
   "cell_type": "code",
   "execution_count": null,
   "id": "64af68ca-cf77-409d-bd09-84c41da96e6f",
   "metadata": {
    "scrolled": true
   },
   "outputs": [],
   "source": [
    "my_models = {}\n",
    "for bit_length in bit_lengths:\n",
    "    my_models[bit_length] = create_model(bit_length);"
   ]
  },
  {
   "cell_type": "code",
   "execution_count": null,
   "id": "62222afa-0628-40a0-b588-6b751687a30c",
   "metadata": {},
   "outputs": [
    {
     "ename": "TypeError",
     "evalue": "'module' object is not subscriptable",
     "output_type": "error",
     "traceback": [
      "\u001b[0;31m---------------------------------------------------------------------------\u001b[0m",
      "\u001b[0;31mTypeError\u001b[0m                                 Traceback (most recent call last)",
      "Cell \u001b[0;32mIn[14], line 4\u001b[0m\n\u001b[1;32m      2\u001b[0m     \u001b[38;5;28;01mreturn\u001b[39;00m np\u001b[38;5;241m.\u001b[39munique(model\u001b[38;5;241m.\u001b[39mclassifier[\u001b[38;5;241m4\u001b[39m]\u001b[38;5;241m.\u001b[39mweight\u001b[38;5;241m.\u001b[39mflatten()\u001b[38;5;241m.\u001b[39mdetach()\u001b[38;5;241m.\u001b[39mnumpy())\u001b[38;5;241m.\u001b[39mshape\n\u001b[1;32m      3\u001b[0m \u001b[38;5;28;01mfor\u001b[39;00m bit_length \u001b[38;5;129;01min\u001b[39;00m bit_lengths:\n\u001b[0;32m----> 4\u001b[0m     \u001b[38;5;28mprint\u001b[39m(\u001b[38;5;124mf\u001b[39m\u001b[38;5;124m'\u001b[39m\u001b[38;5;124mNumber of unique values for \u001b[39m\u001b[38;5;132;01m{\u001b[39;00mbit_length\u001b[38;5;132;01m}\u001b[39;00m\u001b[38;5;124m exponent dt quantization: \u001b[39m\u001b[38;5;132;01m{\u001b[39;00mnum_unique_vals(\u001b[43mmodels\u001b[49m\u001b[43m[\u001b[49m\u001b[43mbit_length\u001b[49m\u001b[43m]\u001b[49m)\u001b[38;5;132;01m}\u001b[39;00m\u001b[38;5;124m'\u001b[39m)\n",
      "\u001b[0;31mTypeError\u001b[0m: 'module' object is not subscriptable"
     ]
    }
   ],
   "source": [
    "def num_unique_vals(model):\n",
    "    return np.unique(model.classifier[4].weight.flatten().detach().numpy()).shape\n",
    "for bit_length in bit_lengths:\n",
    "    print(f'Number of unique values for {bit_length} exponent dt quantization: {num_unique_vals(models[bit_length])}')"
   ]
  },
  {
   "cell_type": "markdown",
   "id": "49019756-60ec-4918-b5ba-4b978a035e66",
   "metadata": {},
   "source": [
    "# Size Estimation"
   ]
  },
  {
   "cell_type": "code",
   "execution_count": 15,
   "id": "cd966420-7284-48aa-b0ce-3f5afdd008c5",
   "metadata": {},
   "outputs": [],
   "source": [
    "def estimate_model_size_change(alexnet, bit_length):\n",
    "    data_type_sizes = []\n",
    "    abs_max_sizes = []\n",
    "    count = 0\n",
    "    bits_in_fp32 = 8 + 23\n",
    "    for layer in [*alexnet.features,*alexnet.classifier]:\n",
    "        count += 1 \n",
    "        # curr_layer_path = curr_path / f'layer{count}.npy' \n",
    "        curr_data_size = 0\n",
    "        curr_abs_max_size = 0\n",
    "        try:\n",
    "            data_type_sizes.append(0)\n",
    "            abs_max_sizes.append(0)\n",
    "            if len(layer.weight.shape) == 4:\n",
    "                weights = layer.weight.detach()\n",
    "                # print(f'Layer {count}')# weights shape pre-quantization: {weights.shape}\\nWeights: {weights}')\n",
    "                for filter in range(0, weights.shape[0]):\n",
    "                    # print(f'Filter num {filter}')\n",
    "                    for channel in range(0, weights.shape[1]):\n",
    "                        # print(f'Channel num {channel}')\n",
    "                        # print(layer.weight[filter,channel])\n",
    "                        data_type_sizes[-1] += weights[filter,channel].numel()\n",
    "                        abs_max_sizes[-1] += weights[filter,channel].shape[0]\n",
    "                        # for row in range(0,weights.shape[2]):\n",
    "                        #     weights[filter,channel, row] = quantize_dequantize_dt(weights[filter,channel,row])\n",
    "                        # print(f'Finish window')\n",
    "                # print(f'Layer {count} weights shape post-quantization: {weights.shape}\\nWeights: {weights}')\n",
    "                # layer.weight = nn.parameter.Parameter(weights)\n",
    "                # print(f'Layer {count} weights shape post-quantization: {weights.shape}\\nWeights: {weights}')\n",
    "                # layer.weight = nn.parameter.Parameter(weights)\n",
    "            else:\n",
    "                weights = layer.weight.detach()\n",
    "                # print(f'Layer {count}')# weights shape pre-quantization: {layer.weight.shape}\\nWeights: {weights}')\n",
    "                data_type_sizes[-1] += weights.numel()\n",
    "                abs_max_sizes[-1] += weights.shape[0]\n",
    "                # print(weights.shape)\n",
    "                # for row in tqdm(range(0,weights.shape[0])):\n",
    "                #     weights[row] = quantize_dequantize_dt(weights[row])\n",
    "                # layer.weight = nn.parameter.Parameter(weights)\n",
    "                # print(f'Layer {count} weights shape post-quantization: {layer.weight.shape}\\nWeights: {weights}')\n",
    "                # print(layer.weight)\n",
    "        except (TypeError, AttributeError):\n",
    "            pass\n",
    "    return {'data_type_counts': np.array(data_type_sizes), 'data_type_sizes': np.array(data_type_sizes) * bit_length, 'abs_max_counts': np.array(abs_max_sizes), 'abs_max_sizes': np.array(abs_max_sizes) * bits_in_fp32,\n",
    "           'data_type_sizes_original': np.array(data_type_sizes) * bits_in_fp32}"
   ]
  },
  {
   "cell_type": "code",
   "execution_count": 16,
   "id": "46c071df-2735-45c6-80c7-e14691112f57",
   "metadata": {},
   "outputs": [],
   "source": [
    "def bits_to_mb(bits):\n",
    "    return bits / 8000000"
   ]
  },
  {
   "cell_type": "code",
   "execution_count": 17,
   "id": "c674c076-22bf-4aed-9cc4-6e4fc9b98560",
   "metadata": {},
   "outputs": [],
   "source": [
    "def compute_model_size(model, bit_len):\n",
    "    bits_in_fp32 = 8 + 23\n",
    "    results = estimate_model_size_change(model, bit_len)\n",
    "    data_type_size = results['data_type_sizes'].sum()\n",
    "    abs_max_size = results['abs_max_sizes'].sum()\n",
    "    dt_counts = results['data_type_counts'].sum()\n",
    "    display(Markdown(f'## {bit_len} bits'))\n",
    "    print(f'{data_type_size} bits to represent the {bit_len} quantized dt and {abs_max_size} bits to represent the maxes')\n",
    "    print(f'{bits_to_mb(data_type_size)} mb to represent the {bit_len} quantized dt and {bits_to_mb(abs_max_size)} mb to represent the maxes')\n",
    "    print(f'\\nOriginal Model Size: {bits_to_mb( dt_counts * bits_in_fp32)} MB')\n",
    "    print(f'Quantized Model Size: {bits_to_mb( data_type_size +abs_max_size)} MB')\n",
    "    print(f'This is a {bits_to_mb( dt_counts * bits_in_fp32) / (bits_to_mb(data_type_size)+bits_to_mb(abs_max_size))}x decrease in size')\n",
    "    return (bits_to_mb(data_type_size)+bits_to_mb(abs_max_size))"
   ]
  },
  {
   "cell_type": "code",
   "execution_count": 18,
   "id": "d338e03d-825b-47c9-926b-07b7812a1050",
   "metadata": {},
   "outputs": [
    {
     "data": {
      "text/markdown": [
       "## 7 bits"
      ],
      "text/plain": [
       "<IPython.core.display.Markdown object>"
      ]
     },
     "metadata": {},
     "output_type": "display_data"
    },
    {
     "name": "stdout",
     "output_type": "stream",
     "text": [
      "969168704 bits to represent the 7 quantized dt and 152294134 bits to represent the maxes\n",
      "121.146088 mb to represent the 7 quantized dt and 19.03676675 mb to represent the maxes\n",
      "\n",
      "Original Model Size: 536.504104 MB\n",
      "Quantized Model Size: 140.18285475 MB\n",
      "This is a 3.8271734796440926x decrease in size\n"
     ]
    },
    {
     "data": {
      "text/markdown": [
       "---"
      ],
      "text/plain": [
       "<IPython.core.display.Markdown object>"
      ]
     },
     "metadata": {},
     "output_type": "display_data"
    },
    {
     "data": {
      "text/markdown": [
       "## 6 bits"
      ],
      "text/plain": [
       "<IPython.core.display.Markdown object>"
      ]
     },
     "metadata": {},
     "output_type": "display_data"
    },
    {
     "name": "stdout",
     "output_type": "stream",
     "text": [
      "830716032 bits to represent the 6 quantized dt and 152294134 bits to represent the maxes\n",
      "103.839504 mb to represent the 6 quantized dt and 19.03676675 mb to represent the maxes\n",
      "\n",
      "Original Model Size: 536.504104 MB\n",
      "Quantized Model Size: 122.87627075 MB\n",
      "This is a 4.366214084504188x decrease in size\n"
     ]
    },
    {
     "data": {
      "text/markdown": [
       "---"
      ],
      "text/plain": [
       "<IPython.core.display.Markdown object>"
      ]
     },
     "metadata": {},
     "output_type": "display_data"
    },
    {
     "data": {
      "text/markdown": [
       "## 5 bits"
      ],
      "text/plain": [
       "<IPython.core.display.Markdown object>"
      ]
     },
     "metadata": {},
     "output_type": "display_data"
    },
    {
     "name": "stdout",
     "output_type": "stream",
     "text": [
      "692263360 bits to represent the 5 quantized dt and 152294134 bits to represent the maxes\n",
      "86.53292 mb to represent the 5 quantized dt and 19.03676675 mb to represent the maxes\n",
      "\n",
      "Original Model Size: 536.504104 MB\n",
      "Quantized Model Size: 105.56968675 MB\n",
      "This is a 5.081990110196097x decrease in size\n"
     ]
    },
    {
     "data": {
      "text/markdown": [
       "---"
      ],
      "text/plain": [
       "<IPython.core.display.Markdown object>"
      ]
     },
     "metadata": {},
     "output_type": "display_data"
    },
    {
     "data": {
      "text/markdown": [
       "## 4 bits"
      ],
      "text/plain": [
       "<IPython.core.display.Markdown object>"
      ]
     },
     "metadata": {},
     "output_type": "display_data"
    },
    {
     "name": "stdout",
     "output_type": "stream",
     "text": [
      "553810688 bits to represent the 4 quantized dt and 152294134 bits to represent the maxes\n",
      "69.226336 mb to represent the 4 quantized dt and 19.03676675 mb to represent the maxes\n",
      "\n",
      "Original Model Size: 536.504104 MB\n",
      "Quantized Model Size: 88.26310275 MB\n",
      "This is a 6.078464129225278x decrease in size\n"
     ]
    },
    {
     "data": {
      "text/markdown": [
       "---"
      ],
      "text/plain": [
       "<IPython.core.display.Markdown object>"
      ]
     },
     "metadata": {},
     "output_type": "display_data"
    },
    {
     "data": {
      "text/markdown": [
       "## 3 bits"
      ],
      "text/plain": [
       "<IPython.core.display.Markdown object>"
      ]
     },
     "metadata": {},
     "output_type": "display_data"
    },
    {
     "name": "stdout",
     "output_type": "stream",
     "text": [
      "415358016 bits to represent the 3 quantized dt and 152294134 bits to represent the maxes\n",
      "51.919752 mb to represent the 3 quantized dt and 19.03676675 mb to represent the maxes\n",
      "\n",
      "Original Model Size: 536.504104 MB\n",
      "Quantized Model Size: 70.95651875 MB\n",
      "This is a 7.561026294007695x decrease in size\n"
     ]
    },
    {
     "data": {
      "text/markdown": [
       "---"
      ],
      "text/plain": [
       "<IPython.core.display.Markdown object>"
      ]
     },
     "metadata": {},
     "output_type": "display_data"
    },
    {
     "data": {
      "text/markdown": [
       "## 2 bits"
      ],
      "text/plain": [
       "<IPython.core.display.Markdown object>"
      ]
     },
     "metadata": {},
     "output_type": "display_data"
    },
    {
     "name": "stdout",
     "output_type": "stream",
     "text": [
      "276905344 bits to represent the 2 quantized dt and 152294134 bits to represent the maxes\n",
      "34.613168 mb to represent the 2 quantized dt and 19.03676675 mb to represent the maxes\n",
      "\n",
      "Original Model Size: 536.504104 MB\n",
      "Quantized Model Size: 53.64993475 MB\n",
      "This is a 10.000088658076141x decrease in size\n"
     ]
    },
    {
     "data": {
      "text/markdown": [
       "---"
      ],
      "text/plain": [
       "<IPython.core.display.Markdown object>"
      ]
     },
     "metadata": {},
     "output_type": "display_data"
    },
    {
     "data": {
      "text/markdown": [
       "## 1 bits"
      ],
      "text/plain": [
       "<IPython.core.display.Markdown object>"
      ]
     },
     "metadata": {},
     "output_type": "display_data"
    },
    {
     "name": "stdout",
     "output_type": "stream",
     "text": [
      "138452672 bits to represent the 1 quantized dt and 152294134 bits to represent the maxes\n",
      "17.306584 mb to represent the 1 quantized dt and 19.03676675 mb to represent the maxes\n",
      "\n",
      "Original Model Size: 536.504104 MB\n",
      "Quantized Model Size: 36.34335075 MB\n",
      "This is a 14.762097960931685x decrease in size\n"
     ]
    },
    {
     "data": {
      "text/markdown": [
       "---"
      ],
      "text/plain": [
       "<IPython.core.display.Markdown object>"
      ]
     },
     "metadata": {},
     "output_type": "display_data"
    }
   ],
   "source": [
    "compressed_sizes = []\n",
    "for bit_length in bit_lengths:\n",
    "    compressed_sizes.append(compute_model_size(create_model(bit_length), bit_length))\n",
    "    display(Markdown('---'))"
   ]
  },
  {
   "cell_type": "code",
   "execution_count": null,
   "id": "057bb8e5-29c6-458c-b01e-4a7c1ecc5e5e",
   "metadata": {},
   "outputs": [
    {
     "data": {
      "text/plain": [
       "Text(0.5, 1.0, 'VGG16 Weights Size vs Number of Bits')"
      ]
     },
     "execution_count": 64,
     "metadata": {},
     "output_type": "execute_result"
    },
    {
     "data": {
      "image/png": "[encoded data removed]",
      "text/plain": [
       "<Figure size 640x480 with 1 Axes>"
      ]
     },
     "metadata": {},
     "output_type": "display_data"
    }
   ],
   "source": [
    "plt.plot(bit_lengths,compressed_sizes)\n",
    "plt.gca().invert_xaxis()\n",
    "plt.xlabel('Number of Bits')\n",
    "plt.ylabel('VGG16 Weights Size (MB)')\n",
    "plt.title('VGG16 Weights Size vs Number of Bits')"
   ]
  },
  {
   "cell_type": "markdown",
   "id": "bc329eb8",
   "metadata": {},
   "source": []
  },
  {
   "cell_type": "markdown",
   "id": "377897bc-a19b-4546-a76e-b007f6d13b69",
   "metadata": {},
   "source": [
    "# MSE Computer"
   ]
  },
  {
   "cell_type": "code",
   "execution_count": null,
   "id": "6e7e30e2-0d5d-4c69-87b3-256d90a9ae28",
   "metadata": {},
   "outputs": [],
   "source": [
    "# Flatten and Concatenate Entire Network"
   ]
  },
  {
   "cell_type": "code",
   "execution_count": 36,
   "id": "574ba859-e04e-4857-9fd5-e17aa3f1c25a",
   "metadata": {},
   "outputs": [],
   "source": [
    "def flatten_model(model):\n",
    "    flattened_model = torch.tensor([])\n",
    "    for layer in [*model.features,*model.classifier]:\n",
    "        try:\n",
    "            weights = layer.weight.detach()\n",
    "            flattened_model = torch.concatenate((flattened_model, weights.flatten()))\n",
    "        except (TypeError, AttributeError):\n",
    "            pass\n",
    "    return flattened_model"
   ]
  },
  {
   "cell_type": "code",
   "execution_count": null,
   "id": "a2275c5c-465a-4465-8e30-5ee2ac11f800",
   "metadata": {},
   "outputs": [
    {
     "data": {
      "text/plain": [
       "torch.Size([44421824])"
      ]
     },
     "execution_count": 65,
     "metadata": {},
     "output_type": "execute_result"
    }
   ],
   "source": [
    "flatten_model(alexnet).shape"
   ]
  },
  {
   "cell_type": "code",
   "execution_count": 38,
   "id": "4549de63-6f46-4822-8a19-4b4bba85db76",
   "metadata": {},
   "outputs": [
    {
     "name": "stdout",
     "output_type": "stream",
     "text": [
      "8 model MSE: 1.5750142523529576e-08\n",
      "7 model MSE: 1.9603097811682346e-08\n",
      "6 model MSE: 3.5132252662606334e-08\n",
      "5 model MSE: 1.0101683756147395e-07\n",
      "4 model MSE: 3.602037565997307e-07\n",
      "3 model MSE: 1.3539826113628806e-06\n",
      "2 model MSE: 1.3539826113628806e-06\n",
      "1 model MSE: 0.00012342177797108889\n",
      "8 model MSE: 1.5750142523529576e-08\n",
      "7 model MSE: 1.9603097811682346e-08\n",
      "6 model MSE: 3.5132252662606334e-08\n",
      "5 model MSE: 1.0101683756147395e-07\n",
      "4 model MSE: 3.602037565997307e-07\n",
      "3 model MSE: 1.3539826113628806e-06\n",
      "2 model MSE: 1.3539826113628806e-06\n",
      "1 model MSE: 0.00012342177797108889\n",
      "\n"
     ]
    }
   ],
   "source": [
    "import torchvision.models as models\n",
    "device = 'cpu'\n",
    "vgg16 = models.vgg16(pretrained=False)\n",
    "model_path = 'checkpoints/finetuned_vgg16_9'\n",
    "vgg16.classifier[4] = nn.Linear(4096,1024)\n",
    "vgg16.classifier[6] = nn.Linear(1024,10)\n",
    "vgg16.load_state_dict(torch.load(model_path))\n",
    "vgg16.to(device)\n",
    "output = ''\n",
    "for bit_length in bit_lengths:\n",
    "    model = create_model(bit_length)\n",
    "    flattened_vgg16 = flatten_model(vgg16)\n",
    "    flattened_quantized_vgg16 = flatten_model(model)\n",
    "    model_size = flattened_vgg16.shape[0]\n",
    "    MSE = torch.sum(torch.pow(flattened_vgg16 - flattened_quantized_vgg16, 2)) / model_size\n",
    "    # MAE = torch.sum(torch.abs(flattened_vgg16 - flattened_quantized_vgg16)) / model_size\n",
    "    print(f'{bit_length} model MSE: {MSE}')\n",
    "    output += f'{bit_length} model MSE: {MSE}\\n'\n",
    "print(output)"
   ]
  },
  {
   "cell_type": "code",
   "execution_count": null,
   "id": "4be1e841-2b0b-4d8e-898e-8413156f647f",
   "metadata": {},
   "outputs": [
    {
     "data": {
      "image/png": "[encoded data removed]",
      "text/plain": [
       "<Figure size 800x500 with 1 Axes>"
      ]
     },
     "metadata": {},
     "output_type": "display_data"
    }
   ],
   "source": [
    "\n",
    "import matplotlib.pyplot as plt\n",
    "\n",
    "# Data (number of bits in decreasing order)\n",
    "bits = [8, 7, 6, 5, 4, 3]\n",
    "accuracy = [87.13, 87.12, 87.12, 87.11, 87.05, 86.88]\n",
    "\n",
    "\n",
    "# Configure the plot\n",
    "plt.figure(figsize=(8, 5))\n",
    "plt.plot(bits, accuracy, marker='o', linestyle='-')\n",
    "plt.gca().invert_xaxis()\n",
    "\n",
    "plt.title(\"VGG16 Accuracy vs Number of DT Bits\")\n",
    "plt.xlabel(\"Number of Bits\")\n",
    "plt.ylabel(\"Accuracy (%)\")\n",
    "# plt.grid(True)\n",
    "\n",
    "# Display the plot\n",
    "plt.show()"
   ]
  },
  {
   "cell_type": "code",
   "execution_count": null,
   "id": "00e92549",
   "metadata": {},
   "outputs": [
    {
     "name": "stdout",
     "output_type": "stream",
     "text": [
      "0.00%        Bit Exponent Counts\n",
      "0.00 (63.24%), 1.00 (32.85%), 2.00 (3.52%), 3.00 (0.35%), 4.00 (0.04%), 5.00 (0.00%), 6.00 (0.00%), 7.00 (0.00%)       6\n",
      "0.00 (63.24%), 1.00 (32.85%), 2.00 (3.52%), 3.00 (0.35%), 4.00 (0.04%), 5.00 (0.00%), 6.00 (0.00%), 7.00 (0.00%)       5\n",
      "0.00 (63.24%), 1.00 (32.85%), 2.00 (3.52%), 3.00 (0.39%), 4.00 (0.00%), 5.00 (0.00%), 6.00 (0.00%), 7.00 (0.00%)       4\n",
      "0.00 (63.24%), 1.00 (32.85%), 2.00 (3.91%), 3.00 (0.00%), 4.00 (0.00%), 5.00 (0.00%), 6.00 (0.00%), 7.00 (0.00%)       3\n",
      "0.00 (63.24%), 1.00 (36.76%), 2.00 (0.00%), 3.00 (0.00%), 4.00 (0.00%), 5.00 (0.00%), 6.00 (0.00%), 7.00 (0.00%)       2\n",
      "0.00 (100.00%), 1.00 (0.00%), 2.00 (0.00%), 3.00 (0.00%), 4.00 (0.00%), 5.00 (0.00%), 6.00 (0.00%), 7.00 (0.00%)       1\n"
     ]
    }
   ],
   "source": [
    "data = {\n",
    "    6: {0: 87556523, 1: 45487232, 2: 4868056, 3: 486757, 4: 48823, 5: 5281, 6: 0, 7: 0},\n",
    "    5: {0: 87556523, 1: 45487232, 2: 4868056, 3: 486757, 4: 54104, 5: 0, 6: 0, 7: 0},\n",
    "    4: {0: 87556523, 1: 45487232, 2: 4868056, 3: 540861, 4: 0, 5: 0, 6: 0, 7: 0},\n",
    "    3: {0: 87556523, 1: 45487232, 2: 5408917, 3: 0, 4: 0, 5: 0, 6: 0, 7: 0},\n",
    "    2: {0: 87556523, 1: 50896149, 2: 0, 3: 0, 4: 0, 5: 0, 6: 0, 7: 0},\n",
    "    1: {0: 138452672, 1: 0, 2: 0, 3: 0, 4: 0, 5: 0, 6: 0, 7: 0},\n",
    "}\n",
    "\n",
    "# Get the total count for each bit exponent\n",
    "total_counts = {k: sum(v.values()) for k, v in data.items()}\n",
    "\n",
    "# Create the table header with 0.00% at the beginning\n",
    "print(\"0.00%        Bit Exponent Counts\")\n",
    "\n",
    "# Iterate through each bit exponent data\n",
    "for bit_exponent, counts in data.items():\n",
    "  # Calculate percentage for each count\n",
    "  percentages = {k: (v / total_counts[bit_exponent]) * 100 for k, v in counts.items()}\n",
    "\n",
    "  # Print bit exponent counts and percentages\n",
    "  print(f\"{', '.join([f'{count:.2f} ({percentages[count]:.2f}%)' for count in counts])}  {bit_exponent:6}\")"
   ]
  },
  {
   "cell_type": "code",
   "execution_count": 34,
   "id": "465040c2",
   "metadata": {},
   "outputs": [
    {
     "name": "stdout",
     "output_type": "stream",
     "text": [
      "Bit Len     63.239316%  32.853994%       3.52%       0.35%       0.04%       0.00%       0.00% 0.00003395%\n",
      "                63.24%      32.85%       3.52%       0.35%       0.04%       0.00%       0.00% 0.00000000%\n",
      "                63.24%      32.85%       3.52%       0.35%       0.04%       0.00%       0.00% 0.00000000%\n",
      "                63.24%      32.85%       3.52%       0.35%       0.04%       0.00%       0.00% 0.00000000%\n",
      "                63.24%      32.85%       3.52%       0.39%       0.00%       0.00%       0.00% 0.00000000%\n",
      "                63.24%      32.85%       3.91%       0.00%       0.00%       0.00%       0.00% 0.00000000%\n",
      "                63.24%      36.76%       0.00%       0.00%       0.00%       0.00%       0.00% 0.00000000%\n",
      "               100.00%       0.00%       0.00%       0.00%       0.00%       0.00%       0.00% 0.00000000%\n"
     ]
    }
   ],
   "source": [
    "import numpy as np\n",
    "\n",
    "data = np.array([\n",
    "    [87556523, 45487232, 4868056, 486757, 48823, 4728, 506, 47],\n",
    "    [87556523, 45487232, 4868056, 486757, 48823, 4728, 553, 0],\n",
    "    [87556523, 45487232, 4868056, 486757, 48823, 5281, 0, 0],\n",
    "    [87556523, 45487232, 4868056, 486757, 54104, 0, 0, 0],\n",
    "    [87556523, 45487232, 4868056, 540861, 0, 0, 0, 0],\n",
    "    [87556523, 45487232, 5408917, 0, 0, 0, 0, 0],\n",
    "    [87556523, 50896149, 0, 0, 0, 0, 0, 0],\n",
    "    [138452672, 0, 0, 0, 0, 0, 0, 0]\n",
    "])\n",
    "\n",
    "# Calculate percentages for each row\n",
    "percentages = data / data.sum(axis=1, keepdims=True) * 100\n",
    "\n",
    "# Print the table with percentages (formatted to 2 decimal places)\n",
    "print(\"{:10s} {:10.6f}% {:10.6f}% {:10.2f}% {:10.2f}% {:10.2f}% {:10.2f}% {:10.2f}% {:10.8f}%\".format(\"Bit Len\", *percentages[0]))\n",
    "for row in percentages[1:]:\n",
    "  print(\"{:10s} {:10.2f}% {:10.2f}% {:10.2f}% {:10.2f}% {:10.2f}% {:10.2f}% {:10.2f}% {:10.8f}%\".format(\" \", *row))\n"
   ]
  }
 ],
 "metadata": {
  "kernelspec": {
   "display_name": "Python 3 (ipykernel)",
   "language": "python",
   "name": "python3"
  },
  "language_info": {
   "codemirror_mode": {
    "name": "ipython",
    "version": 3
   },
   "file_extension": ".py",
   "mimetype": "text/x-python",
   "name": "python",
   "nbconvert_exporter": "python",
   "pygments_lexer": "ipython3",
   "version": "3.11.8"
  }
 },
 "nbformat": 4,
 "nbformat_minor": 5
}

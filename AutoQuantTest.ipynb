{
 "cells": [
  {
   "cell_type": "code",
   "execution_count": 1,
   "id": "5bbc5679-b34b-480b-96c7-c01b1c8c5c09",
   "metadata": {},
   "outputs": [],
   "source": [
    "import torch\n",
    "import torchvision\n",
    "import torchvision.transforms as transforms\n",
    "import torch.nn as nn\n",
    "import datetime\n",
    "from matplotlib import pyplot as plt\n",
    "import numpy as np\n",
    "from tqdm import tqdm\n",
    "\n",
    "from pathlib import Path\n",
    "import pickle\n",
    "from IPython.display import display, Markdown, Latex"
   ]
  },
  {
   "cell_type": "markdown",
   "id": "47d7ca3c-74e7-4b68-ae8f-220fd3c03d5c",
   "metadata": {},
   "source": [
    "# Initialize Model"
   ]
  },
  {
   "cell_type": "code",
   "execution_count": 4,
   "id": "1feb0a29-c9de-42be-9375-748444149300",
   "metadata": {},
   "outputs": [],
   "source": [
    "bit_lengths = [8,7,6,5,4,3]"
   ]
  },
  {
   "cell_type": "code",
   "execution_count": 5,
   "id": "3c0a39c3-d403-452f-8d57-165bd494a11a",
   "metadata": {},
   "outputs": [],
   "source": [
    "model_path = Path('./models')"
   ]
  },
  {
   "cell_type": "code",
   "execution_count": 6,
   "id": "607d97c0-7088-4769-9314-b9616f4bf353",
   "metadata": {},
   "outputs": [],
   "source": [
    "fig_path = Path('./figures')"
   ]
  },
  {
   "cell_type": "code",
   "execution_count": 7,
   "id": "e1f69351-69a2-4de4-b7ba-d44e2152e4b7",
   "metadata": {},
   "outputs": [],
   "source": [
    "transform = transforms.Compose([\n",
    "    transforms.Resize(256),\n",
    "    transforms.CenterCrop(224),\n",
    "    transforms.ToTensor(),\n",
    "    transforms.Normalize(mean=[0.485, 0.456, 0.406], std=[0.229, 0.224, 0.225]),\n",
    "])"
   ]
  },
  {
   "cell_type": "code",
   "execution_count": 8,
   "id": "a3ae5115-68f1-4c23-bc2b-ef53fc859e17",
   "metadata": {},
   "outputs": [
    {
     "name": "stdout",
     "output_type": "stream",
     "text": [
      "Files already downloaded and verified\n",
      "Files already downloaded and verified\n"
     ]
    }
   ],
   "source": [
    "train_data = torchvision.datasets.CIFAR10(root='../data', train=True, download=True, transform=transform)\n",
    "test_data = torchvision.datasets.CIFAR10(root='../data', train=False, download=True, transform=transform)\n",
    "\n",
    "trainloader = torch.utils.data.DataLoader(train_data, batch_size=4, shuffle=True, num_workers=2)\n",
    "testloader = torch.utils.data.DataLoader(test_data, batch_size=4, shuffle=False, num_workers=2)\n",
    "\n",
    "classes = ('Airplane', 'Car', 'Bird', 'Cat', 'Deer', 'Dog', 'Frog', 'Horse', 'Ship', 'Truck')"
   ]
  },
  {
   "cell_type": "code",
   "execution_count": 9,
   "id": "a1c3a5e0-a40f-4267-88b3-2a06d6bd2bf9",
   "metadata": {},
   "outputs": [],
   "source": [
    "device = torch.device(\"cuda:0\" if torch.cuda.is_available() else \"cpu\")"
   ]
  },
  {
   "cell_type": "code",
   "execution_count": 10,
   "id": "39017c41-3ccc-4504-bcfd-8d805a362d38",
   "metadata": {},
   "outputs": [],
   "source": [
    "def create_model(bit_length):\n",
    "    alexnet = torch.hub.load('pytorch/vision:v0.10.0', 'alexnet', pretrained=True)\n",
    "    \n",
    "    alexnet.classifier[4] = nn.Linear(4096,1024)\n",
    "    alexnet.classifier[6] = nn.Linear(1024,10)\n",
    "    \n",
    "    alexnet.load_state_dict(torch.load(model_path  / f'dt_quantized_model_bl_{bit_length}',map_location=device))\n",
    "    alexnet.eval()\n",
    "    return alexnet"
   ]
  },
  {
   "cell_type": "code",
   "execution_count": 106,
   "id": "f6f8e94a-3936-44da-b7cf-f33d300c4ee5",
   "metadata": {},
   "outputs": [
    {
     "name": "stdout",
     "output_type": "stream",
     "text": [
      "cuda:0\n"
     ]
    },
    {
     "name": "stderr",
     "output_type": "stream",
     "text": [
      "Using cache found in C:\\Users\\Elijah/.cache\\torch\\hub\\pytorch_vision_v0.10.0\n",
      "100%|██████████| 2500/2500 [00:20<00:00, 123.20it/s]\n",
      "Using cache found in C:\\Users\\Elijah/.cache\\torch\\hub\\pytorch_vision_v0.10.0\n"
     ]
    },
    {
     "name": "stdout",
     "output_type": "stream",
     "text": [
      "Bit Length 8 Accuracy of the network on the 10000 test images: 85.22 %\n"
     ]
    },
    {
     "name": "stderr",
     "output_type": "stream",
     "text": [
      "100%|██████████| 2500/2500 [00:16<00:00, 153.03it/s]\n",
      "Using cache found in C:\\Users\\Elijah/.cache\\torch\\hub\\pytorch_vision_v0.10.0\n"
     ]
    },
    {
     "name": "stdout",
     "output_type": "stream",
     "text": [
      "Bit Length 7 Accuracy of the network on the 10000 test images: 85.22 %\n"
     ]
    },
    {
     "name": "stderr",
     "output_type": "stream",
     "text": [
      "100%|██████████| 2500/2500 [00:16<00:00, 152.42it/s]\n",
      "Using cache found in C:\\Users\\Elijah/.cache\\torch\\hub\\pytorch_vision_v0.10.0\n"
     ]
    },
    {
     "name": "stdout",
     "output_type": "stream",
     "text": [
      "Bit Length 6 Accuracy of the network on the 10000 test images: 85.12 %\n"
     ]
    },
    {
     "name": "stderr",
     "output_type": "stream",
     "text": [
      "100%|██████████| 2500/2500 [00:17<00:00, 146.86it/s]\n",
      "Using cache found in C:\\Users\\Elijah/.cache\\torch\\hub\\pytorch_vision_v0.10.0\n"
     ]
    },
    {
     "name": "stdout",
     "output_type": "stream",
     "text": [
      "Bit Length 5 Accuracy of the network on the 10000 test images: 85.06 %\n"
     ]
    },
    {
     "name": "stderr",
     "output_type": "stream",
     "text": [
      "100%|██████████| 2500/2500 [00:16<00:00, 150.54it/s]\n",
      "Using cache found in C:\\Users\\Elijah/.cache\\torch\\hub\\pytorch_vision_v0.10.0\n"
     ]
    },
    {
     "name": "stdout",
     "output_type": "stream",
     "text": [
      "Bit Length 4 Accuracy of the network on the 10000 test images: 84.87 %\n"
     ]
    },
    {
     "name": "stderr",
     "output_type": "stream",
     "text": [
      "100%|██████████| 2500/2500 [00:16<00:00, 151.43it/s]\n",
      "Using cache found in C:\\Users\\Elijah/.cache\\torch\\hub\\pytorch_vision_v0.10.0\n"
     ]
    },
    {
     "name": "stdout",
     "output_type": "stream",
     "text": [
      "Bit Length 3 Accuracy of the network on the 10000 test images: 83.51 %\n"
     ]
    },
    {
     "name": "stderr",
     "output_type": "stream",
     "text": [
      "100%|██████████| 2500/2500 [00:18<00:00, 133.61it/s]\n",
      "Using cache found in C:\\Users\\Elijah/.cache\\torch\\hub\\pytorch_vision_v0.10.0\n"
     ]
    },
    {
     "name": "stdout",
     "output_type": "stream",
     "text": [
      "Bit Length 2 Accuracy of the network on the 10000 test images: 83.51 %\n"
     ]
    },
    {
     "name": "stderr",
     "output_type": "stream",
     "text": [
      "100%|██████████| 2500/2500 [00:17<00:00, 146.41it/s]\n"
     ]
    },
    {
     "name": "stdout",
     "output_type": "stream",
     "text": [
      "Bit Length 1 Accuracy of the network on the 10000 test images: 25.24 %\n"
     ]
    },
    {
     "ename": "IndexError",
     "evalue": "list index out of range",
     "output_type": "error",
     "traceback": [
      "\u001b[1;31m---------------------------------------------------------------------------\u001b[0m",
      "\u001b[1;31mIndexError\u001b[0m                                Traceback (most recent call last)",
      "Cell \u001b[1;32mIn[106], line 18\u001b[0m\n\u001b[0;32m     15\u001b[0m         correct \u001b[38;5;241m+\u001b[39m\u001b[38;5;241m=\u001b[39m (predicted \u001b[38;5;241m==\u001b[39m labels)\u001b[38;5;241m.\u001b[39msum()\u001b[38;5;241m.\u001b[39mitem()\n\u001b[0;32m     17\u001b[0m \u001b[38;5;28mprint\u001b[39m(\u001b[38;5;124mf\u001b[39m\u001b[38;5;124m'\u001b[39m\u001b[38;5;124mBit Length \u001b[39m\u001b[38;5;132;01m{\u001b[39;00mbit_length\u001b[38;5;132;01m}\u001b[39;00m\u001b[38;5;124m Accuracy of the network on the 10000 test images: \u001b[39m\u001b[38;5;132;01m{\u001b[39;00m\u001b[38;5;241m100\u001b[39m\u001b[38;5;250m \u001b[39m\u001b[38;5;241m*\u001b[39m\u001b[38;5;250m \u001b[39mcorrect\u001b[38;5;250m \u001b[39m\u001b[38;5;241m/\u001b[39m\u001b[38;5;250m \u001b[39mtotal\u001b[38;5;132;01m}\u001b[39;00m\u001b[38;5;124m %\u001b[39m\u001b[38;5;124m'\u001b[39m)\n\u001b[1;32m---> 18\u001b[0m mk_table \u001b[38;5;241m+\u001b[39m\u001b[38;5;241m=\u001b[39m \u001b[38;5;124mf\u001b[39m\u001b[38;5;124m'\u001b[39m\u001b[38;5;124m| \u001b[39m\u001b[38;5;132;01m{\u001b[39;00mbit_length\u001b[38;5;132;01m}\u001b[39;00m\u001b[38;5;124m | \u001b[39m\u001b[38;5;132;01m{\u001b[39;00m\u001b[38;5;241m100\u001b[39m\u001b[38;5;250m \u001b[39m\u001b[38;5;241m*\u001b[39m\u001b[38;5;250m \u001b[39mcorrect\u001b[38;5;250m \u001b[39m\u001b[38;5;241m/\u001b[39m\u001b[38;5;250m \u001b[39mtotal\u001b[38;5;132;01m}\u001b[39;00m\u001b[38;5;124m | \u001b[39m\u001b[38;5;132;01m{\u001b[39;00m\u001b[43mcompressed_sizes\u001b[49m\u001b[43m[\u001b[49m\u001b[43mcurr_val\u001b[49m\u001b[43m]\u001b[49m\u001b[38;5;132;01m}\u001b[39;00m\u001b[38;5;124m |\u001b[39m\u001b[38;5;130;01m\\n\u001b[39;00m\u001b[38;5;124m'\u001b[39m\n\u001b[0;32m     19\u001b[0m curr_val \u001b[38;5;241m+\u001b[39m\u001b[38;5;241m=\u001b[39m \u001b[38;5;241m1\u001b[39m\n",
      "\u001b[1;31mIndexError\u001b[0m: list index out of range"
     ]
    }
   ],
   "source": [
    "print(device)\n",
    "mk_table = '| Bit Length | Accuracy | Size (MB) |\\n| ----- | ----- | ----- |'\n",
    "curr_val = 0\n",
    "for bit_length in bit_lengths:\n",
    "    alexnet = create_model(bit_length)\n",
    "    alexnet.to(device)\n",
    "    correct = 0\n",
    "    total = 0\n",
    "    with torch.no_grad():\n",
    "        for data in tqdm(testloader):\n",
    "            images, labels = data[0].to(device), data[1].to(device)\n",
    "            outputs = alexnet(images)\n",
    "            _, predicted = torch.max(outputs.data, 1)\n",
    "            total += labels.size(0)\n",
    "            correct += (predicted == labels).sum().item()\n",
    "    \n",
    "    print(f'Bit Length {bit_length} Accuracy of the network on the 10000 test images: {100 * correct / total} %')\n",
    "    mk_table += f'| {bit_length} | {100 * correct / total} | {compressed_sizes[curr_val]} |\\n'\n",
    "    curr_val += 1"
   ]
  },
  {
   "cell_type": "code",
   "execution_count": 76,
   "id": "3cd31e5e-ccd6-48f4-8447-0802198aa1a2",
   "metadata": {},
   "outputs": [
    {
     "name": "stdout",
     "output_type": "stream",
     "text": [
      "| Bit Length | Accuracy | Size (MB) |\n",
      "| ----- | ----- | ----- || 7 | 85.22 | 41.89696675 |\n",
      "| 6 | 85.12 | 36.344238749999995 |\n",
      "| 5 | 85.06 | 30.79151075 |\n",
      "| 4 | 84.87 | 25.23878275 |\n",
      "| 3 | 83.51 | 19.686054749999997 |\n",
      "| 2 | 83.51 | 14.13332675 |\n",
      "| 1 | 25.24 | 8.58059875 |\n",
      "\n"
     ]
    }
   ],
   "source": [
    "print(mk_table)"
   ]
  },
  {
   "cell_type": "code",
   "execution_count": 110,
   "id": "a901b4ce-93b6-4eeb-a421-d33c0bc97245",
   "metadata": {},
   "outputs": [],
   "source": [
    "accuracies = {8: 85.22, 7: 85.22, 6: 85.12, 5: 85.06, 4: 84.87, 3: 83.51}"
   ]
  },
  {
   "cell_type": "code",
   "execution_count": 111,
   "id": "401ee329-5a88-43ff-a891-a36c61c8a59c",
   "metadata": {},
   "outputs": [
    {
     "data": {
      "image/png": "[encoded data removed]",
      "text/plain": [
       "<Figure size 640x480 with 1 Axes>"
      ]
     },
     "metadata": {},
     "output_type": "display_data"
    }
   ],
   "source": [
    "plt.plot(list(accuracies.keys()), list(accuracies.values()))\n",
    "plt.gca().invert_xaxis()\n",
    "plt.ylabel('Accuracy (%)')\n",
    "plt.xlabel('Number of bits')\n",
    "plt.title('AlexNet Accuracy vs Number of DT Bits')\n",
    "plt.savefig(fig_path / 'alex_accuracy_v_bits1.png')"
   ]
  },
  {
   "cell_type": "markdown",
   "id": "2bb73066-4699-433a-a5b1-9a218962e882",
   "metadata": {},
   "source": [
    "---"
   ]
  },
  {
   "cell_type": "code",
   "execution_count": 115,
   "id": "91b167bb-041e-4ab8-8de4-fa5dfae1ddd6",
   "metadata": {},
   "outputs": [],
   "source": [
    "counts_path = Path('./counts')"
   ]
  },
  {
   "cell_type": "code",
   "execution_count": 154,
   "id": "d2bd4726-be8d-49fd-a0aa-c247ce9a7cbc",
   "metadata": {},
   "outputs": [
    {
     "name": "stdout",
     "output_type": "stream",
     "text": [
      "8 bit exponent counts: {0: 30518764, 1: 12468009, 2: 1291749, 3: 129113, 4: 12769, 5: 1267, 6: 139, 7: 14}\n",
      "7 bit exponent counts: {0: 30518764, 1: 12468009, 2: 1291749, 3: 129113, 4: 12769, 5: 1267, 6: 153, 7: 0}\n",
      "6 bit exponent counts: {0: 30518764, 1: 12468009, 2: 1291749, 3: 129113, 4: 12769, 5: 1420, 6: 0, 7: 0}\n",
      "5 bit exponent counts: {0: 30518764, 1: 12468009, 2: 1291749, 3: 129113, 4: 14189, 5: 0, 6: 0, 7: 0}\n",
      "4 bit exponent counts: {0: 30518764, 1: 12468009, 2: 1291749, 3: 143302, 4: 0, 5: 0, 6: 0, 7: 0}\n",
      "3 bit exponent counts: {0: 30518764, 1: 12468009, 2: 1435051, 3: 0, 4: 0, 5: 0, 6: 0, 7: 0}\n"
     ]
    }
   ],
   "source": [
    "counts = []\n",
    "mk_counts_table = '| Bit Length | 0 | 1 | 2 | 3 | 4 | 5 | 6 | 7 |\\n| ----- | ----- | ----- | ----- | ----- | ----- | ----- | ----- | ----- |\\n'\n",
    "mk_percent_table = '| Bit Length | 0 | 1 | 2 | 3 | 4 | 5 | 6 | 7 |\\n| ----- | ----- | ----- | ----- | ----- | ----- | ----- | ----- | ----- |\\n'\n",
    "for bit_length in bit_lengths:\n",
    "    with open(counts_path / f'dt_counts_bl_{bit_length}.pkl', 'rb') as f:\n",
    "        counts.append(pickle.load(f))\n",
    "        print(f'{bit_length} bit exponent counts: {counts[-1]}')\n",
    "    extended_half = ''\n",
    "    extended_percent_half = ''\n",
    "    total = np.array(list(counts[-1].values())).sum()\n",
    "    for key in list(counts[-1].keys()):\n",
    "        extended_half += f' {counts[-1][key]} |'\n",
    "        per = np.format_float_positional(counts[-1][key]/total, precision=4, unique=False, fractional=False, trim='.')\n",
    "        extended_percent_half += f' {per}% |'\n",
    "    \n",
    "    mk_counts_table += f'| {bit_length} |' + extended_half + '\\n'\n",
    "    mk_percent_table += f'| {bit_length} |' + extended_percent_half + '\\n'"
   ]
  },
  {
   "cell_type": "code",
   "execution_count": 155,
   "id": "1e38da58-92bc-444b-b97f-639660d7e32d",
   "metadata": {},
   "outputs": [
    {
     "name": "stdout",
     "output_type": "stream",
     "text": [
      "| Bit Length | 0 | 1 | 2 | 3 | 4 | 5 | 6 | 7 |\n",
      "| ----- | ----- | ----- | ----- | ----- | ----- | ----- | ----- | ----- |\n",
      "| 8 | 30518764 | 12468009 | 1291749 | 129113 | 12769 | 1267 | 139 | 14 |\n",
      "| 7 | 30518764 | 12468009 | 1291749 | 129113 | 12769 | 1267 | 153 | 0 |\n",
      "| 6 | 30518764 | 12468009 | 1291749 | 129113 | 12769 | 1420 | 0 | 0 |\n",
      "| 5 | 30518764 | 12468009 | 1291749 | 129113 | 14189 | 0 | 0 | 0 |\n",
      "| 4 | 30518764 | 12468009 | 1291749 | 143302 | 0 | 0 | 0 | 0 |\n",
      "| 3 | 30518764 | 12468009 | 1435051 | 0 | 0 | 0 | 0 | 0 |\n",
      "\n"
     ]
    }
   ],
   "source": [
    "print(mk_counts_table)"
   ]
  },
  {
   "cell_type": "code",
   "execution_count": 156,
   "id": "0b91e1cc-8a98-468a-aefc-93a97cab4b72",
   "metadata": {},
   "outputs": [
    {
     "data": {
      "text/markdown": [
       "| Bit Length | 0 | 1 | 2 | 3 | 4 | 5 | 6 | 7 |\n",
       "| ----- | ----- | ----- | ----- | ----- | ----- | ----- | ----- | ----- |\n",
       "| 8 | 30518764 | 12468009 | 1291749 | 129113 | 12769 | 1267 | 139 | 14 |\n",
       "| 7 | 30518764 | 12468009 | 1291749 | 129113 | 12769 | 1267 | 153 | 0 |\n",
       "| 6 | 30518764 | 12468009 | 1291749 | 129113 | 12769 | 1420 | 0 | 0 |\n",
       "| 5 | 30518764 | 12468009 | 1291749 | 129113 | 14189 | 0 | 0 | 0 |\n",
       "| 4 | 30518764 | 12468009 | 1291749 | 143302 | 0 | 0 | 0 | 0 |\n",
       "| 3 | 30518764 | 12468009 | 1435051 | 0 | 0 | 0 | 0 | 0 |\n"
      ],
      "text/plain": [
       "<IPython.core.display.Markdown object>"
      ]
     },
     "metadata": {},
     "output_type": "display_data"
    }
   ],
   "source": [
    "display(Markdown(mk_counts_table))"
   ]
  },
  {
   "cell_type": "code",
   "execution_count": 152,
   "id": "ef7597da-a53a-4b28-be1e-536ba0742a5f",
   "metadata": {},
   "outputs": [
    {
     "name": "stdout",
     "output_type": "stream",
     "text": [
      "| Bit Length | 0 | 1 | 2 | 3 | 4 | 5 | 6 | 7 |\n",
      "| ----- | ----- | ----- | ----- | ----- | ----- | ----- | ----- | ----- |\n",
      "| 8 | 0.6870% | 0.2807% | 0.02908% | 0.002907% | 0.0002874% | 0.00002852% | 0.000003129% | 0.0000003152% |\n",
      "| 7 | 0.6870% | 0.2807% | 0.02908% | 0.002907% | 0.0002874% | 0.00002852% | 0.000003444% | 0.000% |\n",
      "| 6 | 0.6870% | 0.2807% | 0.02908% | 0.002907% | 0.0002874% | 0.00003197% | 0.000% | 0.000% |\n",
      "| 5 | 0.6870% | 0.2807% | 0.02908% | 0.002907% | 0.0003194% | 0.000% | 0.000% | 0.000% |\n",
      "| 4 | 0.6870% | 0.2807% | 0.02908% | 0.003226% | 0.000% | 0.000% | 0.000% | 0.000% |\n",
      "| 3 | 0.6870% | 0.2807% | 0.03231% | 0.000% | 0.000% | 0.000% | 0.000% | 0.000% |\n",
      "\n"
     ]
    }
   ],
   "source": [
    "print(mk_percent_table)"
   ]
  },
  {
   "cell_type": "code",
   "execution_count": 157,
   "id": "c7e6978c-7232-427f-aa93-9b76337e5930",
   "metadata": {},
   "outputs": [
    {
     "data": {
      "text/markdown": [
       "| Bit Length | 0 | 1 | 2 | 3 | 4 | 5 | 6 | 7 |\n",
       "| ----- | ----- | ----- | ----- | ----- | ----- | ----- | ----- | ----- |\n",
       "| 8 | 0.687% | 0.2807% | 0.02908% | 0.002907% | 0.0002874% | 0.00002852% | 0.000003129% | 0.0000003152% |\n",
       "| 7 | 0.687% | 0.2807% | 0.02908% | 0.002907% | 0.0002874% | 0.00002852% | 0.000003444% | 0.% |\n",
       "| 6 | 0.687% | 0.2807% | 0.02908% | 0.002907% | 0.0002874% | 0.00003197% | 0.% | 0.% |\n",
       "| 5 | 0.687% | 0.2807% | 0.02908% | 0.002907% | 0.0003194% | 0.% | 0.% | 0.% |\n",
       "| 4 | 0.687% | 0.2807% | 0.02908% | 0.003226% | 0.% | 0.% | 0.% | 0.% |\n",
       "| 3 | 0.687% | 0.2807% | 0.03231% | 0.% | 0.% | 0.% | 0.% | 0.% |\n"
      ],
      "text/plain": [
       "<IPython.core.display.Markdown object>"
      ]
     },
     "metadata": {},
     "output_type": "display_data"
    }
   ],
   "source": [
    "display(Markdown(mk_percent_table))"
   ]
  },
  {
   "cell_type": "code",
   "execution_count": 32,
   "id": "a8a6ca7b-7908-47b1-8c69-4c74fde9fa3b",
   "metadata": {},
   "outputs": [
    {
     "name": "stderr",
     "output_type": "stream",
     "text": [
      "Using cache found in C:\\Users\\Elijah/.cache\\torch\\hub\\pytorch_vision_v0.10.0\n",
      "Using cache found in C:\\Users\\Elijah/.cache\\torch\\hub\\pytorch_vision_v0.10.0\n",
      "Using cache found in C:\\Users\\Elijah/.cache\\torch\\hub\\pytorch_vision_v0.10.0\n"
     ]
    }
   ],
   "source": [
    "alexnetb4 = create_model(4)\n",
    "alexnetb3 = create_model(3)\n",
    "alexnetb1 = create_model(1)\n",
    "alexnetb2 = create_model(2)\n",
    "alexnetb5 = create_model(5)\n",
    "alexnetb6 = create_model(6)\n"
   ]
  },
  {
   "cell_type": "code",
   "execution_count": 33,
   "id": "949727dc-d481-4bb0-a1e1-0aa4ec27b980",
   "metadata": {},
   "outputs": [],
   "source": [
    "def num_unique_vals(model):\n",
    "    return np.unique(model.features[0].weight.flatten().detach().numpy()).shape"
   ]
  },
  {
   "cell_type": "code",
   "execution_count": null,
   "id": "f0969843-114b-42f7-a5fe-8256ab20553e",
   "metadata": {},
   "outputs": [],
   "source": [
    "np.unique(alexnetb2.features[0].weight.flatten().detach().numpy()).shape"
   ]
  },
  {
   "cell_type": "code",
   "execution_count": 34,
   "id": "45b52354-5900-46e3-a4e2-522899fb32e7",
   "metadata": {},
   "outputs": [
    {
     "data": {
      "text/plain": [
       "(20818,)"
      ]
     },
     "execution_count": 34,
     "metadata": {},
     "output_type": "execute_result"
    }
   ],
   "source": [
    "num_unique_vals(alexnetb4)"
   ]
  },
  {
   "cell_type": "code",
   "execution_count": 35,
   "id": "fd587958-6aad-4cb7-836d-44ba83a96433",
   "metadata": {},
   "outputs": [
    {
     "data": {
      "text/plain": [
       "(19494,)"
      ]
     },
     "execution_count": 35,
     "metadata": {},
     "output_type": "execute_result"
    }
   ],
   "source": [
    "num_unique_vals(alexnetb3)"
   ]
  },
  {
   "cell_type": "code",
   "execution_count": 36,
   "id": "c9975004-ed7d-4ea8-98b8-7ed0ad71e6c3",
   "metadata": {},
   "outputs": [
    {
     "data": {
      "text/plain": [
       "(22628,)"
      ]
     },
     "execution_count": 36,
     "metadata": {},
     "output_type": "execute_result"
    }
   ],
   "source": [
    "num_unique_vals(alexnetb2)"
   ]
  },
  {
   "cell_type": "code",
   "execution_count": 37,
   "id": "932a8348-787d-4f68-8a7e-e696d0395b59",
   "metadata": {},
   "outputs": [
    {
     "data": {
      "text/plain": [
       "(22628,)"
      ]
     },
     "execution_count": 37,
     "metadata": {},
     "output_type": "execute_result"
    }
   ],
   "source": [
    "num_unique_vals(alexnetb1)"
   ]
  },
  {
   "cell_type": "code",
   "execution_count": null,
   "id": "296891ba-680b-4636-9151-91dce7f895dd",
   "metadata": {},
   "outputs": [],
   "source": []
  },
  {
   "cell_type": "code",
   "execution_count": 18,
   "id": "64af68ca-cf77-409d-bd09-84c41da96e6f",
   "metadata": {
    "scrolled": true
   },
   "outputs": [
    {
     "name": "stderr",
     "output_type": "stream",
     "text": [
      "Using cache found in C:\\Users\\Elijah/.cache\\torch\\hub\\pytorch_vision_v0.10.0\n",
      "C:\\Users\\Elijah\\anaconda3\\envs\\cs190-project\\lib\\site-packages\\torchvision\\models\\_utils.py:208: UserWarning: The parameter 'pretrained' is deprecated since 0.13 and may be removed in the future, please use 'weights' instead.\n",
      "  warnings.warn(\n",
      "C:\\Users\\Elijah\\anaconda3\\envs\\cs190-project\\lib\\site-packages\\torchvision\\models\\_utils.py:223: UserWarning: Arguments other than a weight enum or `None` for 'weights' are deprecated since 0.13 and may be removed in the future. The current behavior is equivalent to passing `weights=AlexNet_Weights.IMAGENET1K_V1`. You can also use `weights=AlexNet_Weights.DEFAULT` to get the most up-to-date weights.\n",
      "  warnings.warn(msg)\n",
      "Using cache found in C:\\Users\\Elijah/.cache\\torch\\hub\\pytorch_vision_v0.10.0\n",
      "Using cache found in C:\\Users\\Elijah/.cache\\torch\\hub\\pytorch_vision_v0.10.0\n",
      "Using cache found in C:\\Users\\Elijah/.cache\\torch\\hub\\pytorch_vision_v0.10.0\n",
      "Using cache found in C:\\Users\\Elijah/.cache\\torch\\hub\\pytorch_vision_v0.10.0\n",
      "Using cache found in C:\\Users\\Elijah/.cache\\torch\\hub\\pytorch_vision_v0.10.0\n",
      "Using cache found in C:\\Users\\Elijah/.cache\\torch\\hub\\pytorch_vision_v0.10.0\n"
     ]
    }
   ],
   "source": [
    "models = {}\n",
    "for bit_length in bit_lengths:\n",
    "    models[bit_length] = create_model(bit_length);"
   ]
  },
  {
   "cell_type": "code",
   "execution_count": 46,
   "id": "62222afa-0628-40a0-b588-6b751687a30c",
   "metadata": {},
   "outputs": [
    {
     "name": "stdout",
     "output_type": "stream",
     "text": [
      "Number of unique values for 7 exponent dt quantization: (224503,)\n",
      "Number of unique values for 6 exponent dt quantization: (201257,)\n",
      "Number of unique values for 5 exponent dt quantization: (187139,)\n",
      "Number of unique values for 4 exponent dt quantization: (180995,)\n",
      "Number of unique values for 3 exponent dt quantization: (178947,)\n",
      "Number of unique values for 2 exponent dt quantization: (178947,)\n",
      "Number of unique values for 1 exponent dt quantization: (235959,)\n"
     ]
    }
   ],
   "source": [
    "def num_unique_vals(model):\n",
    "    return np.unique(model.classifier[4].weight.flatten().detach().numpy()).shape\n",
    "for bit_length in bit_lengths:\n",
    "    print(f'Number of unique values for {bit_length} exponent dt quantization: {num_unique_vals(models[bit_length])}')"
   ]
  },
  {
   "cell_type": "code",
   "execution_count": 43,
   "id": "557a2c3d-5a14-4dcc-af87-1d21fe68e98a",
   "metadata": {},
   "outputs": [
    {
     "data": {
      "text/plain": [
       "Sequential(\n",
       "  (0): Dropout(p=0.5, inplace=False)\n",
       "  (1): Linear(in_features=9216, out_features=4096, bias=True)\n",
       "  (2): ReLU(inplace=True)\n",
       "  (3): Dropout(p=0.5, inplace=False)\n",
       "  (4): Linear(in_features=4096, out_features=1024, bias=True)\n",
       "  (5): ReLU(inplace=True)\n",
       "  (6): Linear(in_features=1024, out_features=10, bias=True)\n",
       ")"
      ]
     },
     "execution_count": 43,
     "metadata": {},
     "output_type": "execute_result"
    }
   ],
   "source": [
    "alexnet.classifier"
   ]
  },
  {
   "cell_type": "code",
   "execution_count": 57,
   "id": "f7bb57f8-1cff-4b0e-a55b-6add36a373c0",
   "metadata": {},
   "outputs": [
    {
     "data": {
      "text/plain": [
       "(231,)"
      ]
     },
     "execution_count": 57,
     "metadata": {},
     "output_type": "execute_result"
    }
   ],
   "source": [
    "np.unique(models[1].classifier[4].weight[0].flatten().detach().numpy()).shape"
   ]
  },
  {
   "cell_type": "markdown",
   "id": "49019756-60ec-4918-b5ba-4b978a035e66",
   "metadata": {},
   "source": [
    "# Size Estimation"
   ]
  },
  {
   "cell_type": "code",
   "execution_count": 11,
   "id": "cd966420-7284-48aa-b0ce-3f5afdd008c5",
   "metadata": {},
   "outputs": [],
   "source": [
    "def estimate_model_size_change(alexnet, bit_length):\n",
    "    data_type_sizes = []\n",
    "    abs_max_sizes = []\n",
    "    count = 0\n",
    "    bits_in_fp32 = 8 + 23\n",
    "    for layer in [*alexnet.features,*alexnet.classifier]:\n",
    "        count += 1 \n",
    "        # curr_layer_path = curr_path / f'layer{count}.npy' \n",
    "        curr_data_size = 0\n",
    "        curr_abs_max_size = 0\n",
    "        try:\n",
    "            data_type_sizes.append(0)\n",
    "            abs_max_sizes.append(0)\n",
    "            if len(layer.weight.shape) == 4:\n",
    "                weights = layer.weight.detach()\n",
    "                # print(f'Layer {count}')# weights shape pre-quantization: {weights.shape}\\nWeights: {weights}')\n",
    "                for filter in range(0, weights.shape[0]):\n",
    "                    # print(f'Filter num {filter}')\n",
    "                    for channel in range(0, weights.shape[1]):\n",
    "                        # print(f'Channel num {channel}')\n",
    "                        # print(layer.weight[filter,channel])\n",
    "                        data_type_sizes[-1] += weights[filter,channel].numel()\n",
    "                        abs_max_sizes[-1] += weights[filter,channel].shape[0]\n",
    "                        # for row in range(0,weights.shape[2]):\n",
    "                        #     weights[filter,channel, row] = quantize_dequantize_dt(weights[filter,channel,row])\n",
    "                        # print(f'Finish window')\n",
    "                # print(f'Layer {count} weights shape post-quantization: {weights.shape}\\nWeights: {weights}')\n",
    "                # layer.weight = nn.parameter.Parameter(weights)\n",
    "                # print(f'Layer {count} weights shape post-quantization: {weights.shape}\\nWeights: {weights}')\n",
    "                # layer.weight = nn.parameter.Parameter(weights)\n",
    "            else:\n",
    "                weights = layer.weight.detach()\n",
    "                # print(f'Layer {count}')# weights shape pre-quantization: {layer.weight.shape}\\nWeights: {weights}')\n",
    "                data_type_sizes[-1] += weights.numel()\n",
    "                abs_max_sizes[-1] += weights.shape[0]\n",
    "                # print(weights.shape)\n",
    "                # for row in tqdm(range(0,weights.shape[0])):\n",
    "                #     weights[row] = quantize_dequantize_dt(weights[row])\n",
    "                # layer.weight = nn.parameter.Parameter(weights)\n",
    "                # print(f'Layer {count} weights shape post-quantization: {layer.weight.shape}\\nWeights: {weights}')\n",
    "                # print(layer.weight)\n",
    "        except (TypeError, AttributeError):\n",
    "            pass\n",
    "    return {'data_type_counts': np.array(data_type_sizes), 'data_type_sizes': np.array(data_type_sizes) * bit_length, 'abs_max_counts': np.array(abs_max_sizes), 'abs_max_sizes': np.array(abs_max_sizes) * bits_in_fp32,\n",
    "           'data_type_sizes_original': np.array(data_type_sizes) * bits_in_fp32}"
   ]
  },
  {
   "cell_type": "code",
   "execution_count": 12,
   "id": "46c071df-2735-45c6-80c7-e14691112f57",
   "metadata": {},
   "outputs": [],
   "source": [
    "def bits_to_mb(bits):\n",
    "    return bits / 8000000"
   ]
  },
  {
   "cell_type": "code",
   "execution_count": 13,
   "id": "c674c076-22bf-4aed-9cc4-6e4fc9b98560",
   "metadata": {},
   "outputs": [],
   "source": [
    "def compute_model_size(model, bit_len):\n",
    "    bits_in_fp32 = 32\n",
    "    results = estimate_model_size_change(model, bit_len)\n",
    "    data_type_size = results['data_type_sizes'].sum()\n",
    "    abs_max_size = results['abs_max_sizes'].sum()\n",
    "    dt_counts = results['data_type_counts'].sum()\n",
    "    display(Markdown(f'## {bit_len} bits'))\n",
    "    print(f'{data_type_size} bits to represent the {bit_len} quantized dt and {abs_max_size} bits to represent the maxes')\n",
    "    print(f'{bits_to_mb(data_type_size)} mb to represent the {bit_len} quantized dt and {bits_to_mb(abs_max_size)} mb to represent the maxes')\n",
    "    print(f'\\nOriginal Model Size: {bits_to_mb( dt_counts * bits_in_fp32)} MB')\n",
    "    print(f'Quantized Model Size: {bits_to_mb( data_type_size +abs_max_size)} MB')\n",
    "    print(f'This is a {bits_to_mb( dt_counts * bits_in_fp32) / (bits_to_mb(data_type_size)+bits_to_mb(abs_max_size))}x decrease in size')\n",
    "    return (bits_to_mb(data_type_size)+bits_to_mb(abs_max_size)), bits_to_mb(data_type_size),bits_to_mb(abs_max_size)"
   ]
  },
  {
   "cell_type": "code",
   "execution_count": 152,
   "id": "7dfd3ccd-a5b8-4c00-84c2-938f04e5fcf6",
   "metadata": {},
   "outputs": [],
   "source": [
    "# estimate_model_size_change(alexnet, 7)"
   ]
  },
  {
   "cell_type": "code",
   "execution_count": 147,
   "id": "49e684a5-c553-44bd-8228-7b943a27f198",
   "metadata": {},
   "outputs": [
    {
     "name": "stdout",
     "output_type": "stream",
     "text": [
      "133265472 bits to represent the 3 quantized dt and 24222966 bits to represent the maxes\n",
      "16.658184 mb to represent the 3 quantized dt and 3.02787075 mb to represent the maxes\n",
      "Original Model Size: 172.134568 mb\n",
      "This is a 8.743985028285062x decrease in size\n"
     ]
    }
   ],
   "source": [
    "compute_model_size(alexnet, 3)"
   ]
  },
  {
   "cell_type": "code",
   "execution_count": 14,
   "id": "79061612-8333-4b96-adc8-814ba0583598",
   "metadata": {},
   "outputs": [
    {
     "name": "stderr",
     "output_type": "stream",
     "text": [
      "Using cache found in C:\\Users\\Elijah/.cache\\torch\\hub\\pytorch_vision_v0.10.0\n",
      "C:\\Users\\Elijah\\anaconda3\\envs\\cs190-project\\lib\\site-packages\\torchvision\\models\\_utils.py:208: UserWarning: The parameter 'pretrained' is deprecated since 0.13 and may be removed in the future, please use 'weights' instead.\n",
      "  warnings.warn(\n",
      "C:\\Users\\Elijah\\anaconda3\\envs\\cs190-project\\lib\\site-packages\\torchvision\\models\\_utils.py:223: UserWarning: Arguments other than a weight enum or `None` for 'weights' are deprecated since 0.13 and may be removed in the future. The current behavior is equivalent to passing `weights=AlexNet_Weights.IMAGENET1K_V1`. You can also use `weights=AlexNet_Weights.DEFAULT` to get the most up-to-date weights.\n",
      "  warnings.warn(msg)\n"
     ]
    }
   ],
   "source": [
    "alexnet = create_model(7)"
   ]
  },
  {
   "cell_type": "code",
   "execution_count": 15,
   "id": "d338e03d-825b-47c9-926b-07b7812a1050",
   "metadata": {},
   "outputs": [
    {
     "data": {
      "text/markdown": [
       "## 8 bits"
      ],
      "text/plain": [
       "<IPython.core.display.Markdown object>"
      ]
     },
     "metadata": {},
     "output_type": "display_data"
    },
    {
     "name": "stdout",
     "output_type": "stream",
     "text": [
      "355374592 bits to represent the 8 quantized dt and 24222966 bits to represent the maxes\n",
      "44.421824 mb to represent the 8 quantized dt and 3.02787075 mb to represent the maxes\n",
      "\n",
      "Original Model Size: 172.134568 MB\n",
      "Quantized Model Size: 47.44969475 MB\n",
      "This is a 3.6277276156766005x decrease in size\n"
     ]
    },
    {
     "data": {
      "text/markdown": [
       "---"
      ],
      "text/plain": [
       "<IPython.core.display.Markdown object>"
      ]
     },
     "metadata": {},
     "output_type": "display_data"
    },
    {
     "data": {
      "text/markdown": [
       "## 7 bits"
      ],
      "text/plain": [
       "<IPython.core.display.Markdown object>"
      ]
     },
     "metadata": {},
     "output_type": "display_data"
    },
    {
     "name": "stdout",
     "output_type": "stream",
     "text": [
      "310952768 bits to represent the 7 quantized dt and 24222966 bits to represent the maxes\n",
      "38.869096 mb to represent the 7 quantized dt and 3.02787075 mb to represent the maxes\n",
      "\n",
      "Original Model Size: 172.134568 MB\n",
      "Quantized Model Size: 41.89696675 MB\n",
      "This is a 4.108521006475964x decrease in size\n"
     ]
    },
    {
     "data": {
      "text/markdown": [
       "---"
      ],
      "text/plain": [
       "<IPython.core.display.Markdown object>"
      ]
     },
     "metadata": {},
     "output_type": "display_data"
    },
    {
     "data": {
      "text/markdown": [
       "## 6 bits"
      ],
      "text/plain": [
       "<IPython.core.display.Markdown object>"
      ]
     },
     "metadata": {},
     "output_type": "display_data"
    },
    {
     "name": "stdout",
     "output_type": "stream",
     "text": [
      "266530944 bits to represent the 6 quantized dt and 24222966 bits to represent the maxes\n",
      "33.316368 mb to represent the 6 quantized dt and 3.02787075 mb to represent the maxes\n",
      "\n",
      "Original Model Size: 172.134568 MB\n",
      "Quantized Model Size: 36.34423875 MB\n",
      "This is a 4.736227086335658x decrease in size\n"
     ]
    },
    {
     "data": {
      "text/markdown": [
       "---"
      ],
      "text/plain": [
       "<IPython.core.display.Markdown object>"
      ]
     },
     "metadata": {},
     "output_type": "display_data"
    },
    {
     "data": {
      "text/markdown": [
       "## 5 bits"
      ],
      "text/plain": [
       "<IPython.core.display.Markdown object>"
      ]
     },
     "metadata": {},
     "output_type": "display_data"
    },
    {
     "name": "stdout",
     "output_type": "stream",
     "text": [
      "222109120 bits to represent the 5 quantized dt and 24222966 bits to represent the maxes\n",
      "27.76364 mb to represent the 5 quantized dt and 3.02787075 mb to represent the maxes\n",
      "\n",
      "Original Model Size: 172.134568 MB\n",
      "Quantized Model Size: 30.79151075 MB\n",
      "This is a 5.590325508793036x decrease in size\n"
     ]
    },
    {
     "data": {
      "text/markdown": [
       "---"
      ],
      "text/plain": [
       "<IPython.core.display.Markdown object>"
      ]
     },
     "metadata": {},
     "output_type": "display_data"
    },
    {
     "data": {
      "text/markdown": [
       "## 4 bits"
      ],
      "text/plain": [
       "<IPython.core.display.Markdown object>"
      ]
     },
     "metadata": {},
     "output_type": "display_data"
    },
    {
     "name": "stdout",
     "output_type": "stream",
     "text": [
      "177687296 bits to represent the 4 quantized dt and 24222966 bits to represent the maxes\n",
      "22.210912 mb to represent the 4 quantized dt and 3.02787075 mb to represent the maxes\n",
      "\n",
      "Original Model Size: 172.134568 MB\n",
      "Quantized Model Size: 25.23878275 MB\n",
      "This is a 6.82024048881676x decrease in size\n"
     ]
    },
    {
     "data": {
      "text/markdown": [
       "---"
      ],
      "text/plain": [
       "<IPython.core.display.Markdown object>"
      ]
     },
     "metadata": {},
     "output_type": "display_data"
    },
    {
     "data": {
      "text/markdown": [
       "## 3 bits"
      ],
      "text/plain": [
       "<IPython.core.display.Markdown object>"
      ]
     },
     "metadata": {},
     "output_type": "display_data"
    },
    {
     "name": "stdout",
     "output_type": "stream",
     "text": [
      "133265472 bits to represent the 3 quantized dt and 24222966 bits to represent the maxes\n",
      "16.658184 mb to represent the 3 quantized dt and 3.02787075 mb to represent the maxes\n",
      "\n",
      "Original Model Size: 172.134568 MB\n",
      "Quantized Model Size: 19.68605475 MB\n",
      "This is a 8.743985028285062x decrease in size\n"
     ]
    },
    {
     "data": {
      "text/markdown": [
       "---"
      ],
      "text/plain": [
       "<IPython.core.display.Markdown object>"
      ]
     },
     "metadata": {},
     "output_type": "display_data"
    }
   ],
   "source": [
    "compressed_sizes = []\n",
    "for bit_length in bit_lengths:\n",
    "    compressed_sizes.append(compute_model_size(alexnet, bit_length))\n",
    "    display(Markdown('---'))"
   ]
  },
  {
   "cell_type": "code",
   "execution_count": 16,
   "id": "e44250c6-3e9d-4ac1-9b9e-67de3d296510",
   "metadata": {},
   "outputs": [
    {
     "data": {
      "text/plain": [
       "[(47.44969475, 44.421824, 3.02787075),\n",
       " (41.89696675, 38.869096, 3.02787075),\n",
       " (36.344238749999995, 33.316368, 3.02787075),\n",
       " (30.79151075, 27.76364, 3.02787075),\n",
       " (25.23878275, 22.210912, 3.02787075),\n",
       " (19.686054749999997, 16.658184, 3.02787075)]"
      ]
     },
     "execution_count": 16,
     "metadata": {},
     "output_type": "execute_result"
    }
   ],
   "source": [
    "compressed_sizes"
   ]
  },
  {
   "cell_type": "code",
   "execution_count": 23,
   "id": "057bb8e5-29c6-458c-b01e-4a7c1ecc5e5e",
   "metadata": {},
   "outputs": [
    {
     "data": {
      "image/png": "[encoded data removed]",
      "text/plain": [
       "<Figure size 640x480 with 1 Axes>"
      ]
     },
     "metadata": {},
     "output_type": "display_data"
    }
   ],
   "source": [
    "plt.plot(bit_lengths,[i[1] for i in compressed_sizes], label = 'Weights')\n",
    "plt.plot(bit_lengths,[i[2] for i in compressed_sizes],label = 'Maximums')\n",
    "plt.gca().invert_xaxis()\n",
    "plt.xlabel('Number of Bits')\n",
    "plt.ylabel('Size (MB)')\n",
    "plt.title('Alexnet Size vs Number of DT Bits')\n",
    "plt.legend()\n",
    "plt.locator_params(axis='y', nbins=10)\n",
    "plt.savefig(fig_path / 'alex_weights_v_bits2.png')"
   ]
  },
  {
   "cell_type": "code",
   "execution_count": 86,
   "id": "ec27cebe-a2f1-45c2-906f-004866019372",
   "metadata": {},
   "outputs": [
    {
     "data": {
      "text/plain": [
       "[(41.89696675, 38.869096, 3.02787075),\n",
       " (36.344238749999995, 33.316368, 3.02787075),\n",
       " (30.79151075, 27.76364, 3.02787075),\n",
       " (25.23878275, 22.210912, 3.02787075),\n",
       " (19.686054749999997, 16.658184, 3.02787075),\n",
       " (14.13332675, 11.105456, 3.02787075),\n",
       " (8.58059875, 5.552728, 3.02787075)]"
      ]
     },
     "execution_count": 86,
     "metadata": {},
     "output_type": "execute_result"
    }
   ],
   "source": [
    "compressed_sizes"
   ]
  },
  {
   "cell_type": "markdown",
   "id": "377897bc-a19b-4546-a76e-b007f6d13b69",
   "metadata": {},
   "source": [
    "# MSE Computer"
   ]
  },
  {
   "cell_type": "code",
   "execution_count": null,
   "id": "6e7e30e2-0d5d-4c69-87b3-256d90a9ae28",
   "metadata": {},
   "outputs": [],
   "source": [
    "# Flatten and Concatenate Entire Network"
   ]
  },
  {
   "cell_type": "code",
   "execution_count": 50,
   "id": "b3efee42-2804-43f8-a808-2cc8696ded3a",
   "metadata": {},
   "outputs": [],
   "source": [
    "x = torch.tensor([[0,1,2],[3,4,5]])\n",
    "y = torch.tensor([[6,7,8],[9,10,11]])\n",
    "z = torch.tensor([[0,1,2],[3,4,5]])\n",
    "a = torch.tensor([[6,7,8],[9,10,11]])"
   ]
  },
  {
   "cell_type": "code",
   "execution_count": 51,
   "id": "35833fdb-73ae-48c7-acd7-f9087fd97959",
   "metadata": {},
   "outputs": [],
   "source": [
    "z = torch.tensor([])"
   ]
  },
  {
   "cell_type": "code",
   "execution_count": 52,
   "id": "00d5a342-094d-48bc-98bc-0d8c7fd729d2",
   "metadata": {},
   "outputs": [
    {
     "data": {
      "text/plain": [
       "tensor([0., 1., 2., 3., 4., 5.])"
      ]
     },
     "execution_count": 52,
     "metadata": {},
     "output_type": "execute_result"
    }
   ],
   "source": [
    "z = torch.concatenate((z.flatten(),x.flatten()))\n",
    "z"
   ]
  },
  {
   "cell_type": "code",
   "execution_count": 53,
   "id": "02523309-7145-42fd-a183-f99cb7a8df9a",
   "metadata": {},
   "outputs": [
    {
     "data": {
      "text/plain": [
       "tensor([ 0.,  1.,  2.,  3.,  4.,  5.,  6.,  7.,  8.,  9., 10., 11.])"
      ]
     },
     "execution_count": 53,
     "metadata": {},
     "output_type": "execute_result"
    }
   ],
   "source": [
    "z = torch.concatenate((z.flatten(),y.flatten()))\n",
    "z"
   ]
  },
  {
   "cell_type": "code",
   "execution_count": 49,
   "id": "e726247e-e5b0-466c-9c31-9064f697615d",
   "metadata": {},
   "outputs": [
    {
     "data": {
      "text/plain": [
       "tensor([ 0,  1,  2,  3,  4,  5,  6,  7,  8,  9, 10, 11,  6,  7,  8,  9, 10, 11])"
      ]
     },
     "execution_count": 49,
     "metadata": {},
     "output_type": "execute_result"
    }
   ],
   "source": [
    "z = torch.concatenate((z,a.flatten()))\n",
    "z"
   ]
  },
  {
   "cell_type": "code",
   "execution_count": 19,
   "id": "574ba859-e04e-4857-9fd5-e17aa3f1c25a",
   "metadata": {},
   "outputs": [],
   "source": [
    "def flatten_model(model):\n",
    "    flattened_model = torch.tensor([])\n",
    "    for layer in [*model.features,*model.classifier]:\n",
    "        try:\n",
    "            weights = layer.weight.detach()\n",
    "            flattened_model = torch.concatenate((flattened_model, weights.flatten()))\n",
    "        except (TypeError, AttributeError):\n",
    "            pass\n",
    "    return flattened_model"
   ]
  },
  {
   "cell_type": "code",
   "execution_count": 65,
   "id": "a2275c5c-465a-4465-8e30-5ee2ac11f800",
   "metadata": {},
   "outputs": [
    {
     "data": {
      "text/plain": [
       "torch.Size([44421824])"
      ]
     },
     "execution_count": 65,
     "metadata": {},
     "output_type": "execute_result"
    }
   ],
   "source": [
    "flatten_model(alexnet).shape"
   ]
  },
  {
   "cell_type": "code",
   "execution_count": 20,
   "id": "274f0aae-4cdf-4be8-aced-ea01b04cf793",
   "metadata": {},
   "outputs": [
    {
     "name": "stderr",
     "output_type": "stream",
     "text": [
      "Using cache found in C:\\Users\\Elijah/.cache\\torch\\hub\\pytorch_vision_v0.10.0\n",
      "Using cache found in C:\\Users\\Elijah/.cache\\torch\\hub\\pytorch_vision_v0.10.0\n"
     ]
    },
    {
     "name": "stdout",
     "output_type": "stream",
     "text": [
      "8 model MSE: 3.278678661899903e-08\n"
     ]
    },
    {
     "name": "stderr",
     "output_type": "stream",
     "text": [
      "Using cache found in C:\\Users\\Elijah/.cache\\torch\\hub\\pytorch_vision_v0.10.0\n"
     ]
    },
    {
     "name": "stdout",
     "output_type": "stream",
     "text": [
      "7 model MSE: 3.9068904555961126e-08\n"
     ]
    },
    {
     "name": "stderr",
     "output_type": "stream",
     "text": [
      "Using cache found in C:\\Users\\Elijah/.cache\\torch\\hub\\pytorch_vision_v0.10.0\n"
     ]
    },
    {
     "name": "stdout",
     "output_type": "stream",
     "text": [
      "6 model MSE: 6.442089528491124e-08\n"
     ]
    },
    {
     "name": "stderr",
     "output_type": "stream",
     "text": [
      "Using cache found in C:\\Users\\Elijah/.cache\\torch\\hub\\pytorch_vision_v0.10.0\n"
     ]
    },
    {
     "name": "stdout",
     "output_type": "stream",
     "text": [
      "5 model MSE: 1.7218215475622856e-07\n"
     ]
    },
    {
     "name": "stderr",
     "output_type": "stream",
     "text": [
      "Using cache found in C:\\Users\\Elijah/.cache\\torch\\hub\\pytorch_vision_v0.10.0\n"
     ]
    },
    {
     "name": "stdout",
     "output_type": "stream",
     "text": [
      "4 model MSE: 5.99545160184789e-07\n"
     ]
    },
    {
     "name": "stderr",
     "output_type": "stream",
     "text": [
      "Using cache found in C:\\Users\\Elijah/.cache\\torch\\hub\\pytorch_vision_v0.10.0\n"
     ]
    },
    {
     "name": "stdout",
     "output_type": "stream",
     "text": [
      "3 model MSE: 2.2738106508768396e-06\n",
      "8 model MSE: 3.278678661899903e-08\n",
      "7 model MSE: 3.9068904555961126e-08\n",
      "6 model MSE: 6.442089528491124e-08\n",
      "5 model MSE: 1.7218215475622856e-07\n",
      "4 model MSE: 5.99545160184789e-07\n",
      "3 model MSE: 2.2738106508768396e-06\n",
      "\n"
     ]
    }
   ],
   "source": [
    "alexnet = torch.hub.load('pytorch/vision:v0.10.0', 'alexnet', pretrained=True)\n",
    "    \n",
    "alexnet.classifier[4] = nn.Linear(4096,1024)\n",
    "alexnet.classifier[6] = nn.Linear(1024,10)\n",
    "\n",
    "alexnet.load_state_dict(torch.load(f'./model_20240603_151633_final_frozen_alexnet',map_location=device))\n",
    "alexnet.eval()\n",
    "output = ''\n",
    "MSEs = []\n",
    "for bit_length in bit_lengths:\n",
    "    model = create_model(bit_length)\n",
    "    flattened_alexnet = flatten_model(alexnet)\n",
    "    flattened_quantized_alexnet = flatten_model(model)\n",
    "    model_size = flattened_alexnet.shape[0]\n",
    "    MSE = torch.sum(torch.pow(flattened_alexnet - flattened_quantized_alexnet, 2)) / model_size\n",
    "    print(f'{bit_length} model MSE: {MSE}')\n",
    "    MSEs.append(MSE)\n",
    "    output += f'{bit_length} model MSE: {MSE}\\n'\n",
    "print(output)"
   ]
  },
  {
   "cell_type": "code",
   "execution_count": 26,
   "id": "2f6b32c6-50f5-4835-ab7c-53cda54896a6",
   "metadata": {},
   "outputs": [],
   "source": [
    "split_compression_table = '''| Bit Length | Weights Size (MB) | Maxes Size (MB) | Total Size (MB) | MSE |\\n| ---------- | ----------------- | --------------- | --------------- | --- |\\n'''\n",
    "count = 0\n",
    "for bit_length in bit_lengths:\n",
    "    curr_sizes = compressed_sizes[count]\n",
    "    curr_mse = np.format_float_positional(MSEs[count], precision=4, unique=False, fractional=False, trim='.')\n",
    "    curr_row = f'| {bit_length} | {curr_sizes[1]} | {curr_sizes[2]} | {curr_sizes[0]} | {curr_mse} |\\n'\n",
    "    count += 1\n",
    "    split_compression_table += curr_row"
   ]
  },
  {
   "cell_type": "code",
   "execution_count": 27,
   "id": "02915a98-ec44-4382-ad3a-d30dbf1c80d9",
   "metadata": {},
   "outputs": [
    {
     "data": {
      "text/markdown": [
       "| Bit Length | Weights Size (MB) | Maxes Size (MB) | Total Size (MB) | MSE |\n",
       "| ---------- | ----------------- | --------------- | --------------- | --- |\n",
       "| 8 | 44.421824 | 3.02787075 | 47.44969475 | 0.00000003279 |\n",
       "| 7 | 38.869096 | 3.02787075 | 41.89696675 | 0.00000003907 |\n",
       "| 6 | 33.316368 | 3.02787075 | 36.344238749999995 | 0.00000006442 |\n",
       "| 5 | 27.76364 | 3.02787075 | 30.79151075 | 0.0000001722 |\n",
       "| 4 | 22.210912 | 3.02787075 | 25.23878275 | 0.0000005995 |\n",
       "| 3 | 16.658184 | 3.02787075 | 19.686054749999997 | 0.000002274 |\n"
      ],
      "text/plain": [
       "<IPython.core.display.Markdown object>"
      ]
     },
     "metadata": {},
     "output_type": "display_data"
    }
   ],
   "source": [
    "display(Markdown(split_compression_table))"
   ]
  },
  {
   "cell_type": "code",
   "execution_count": null,
   "id": "10085e70-d5af-4e81-a715-3b5ea3cf658f",
   "metadata": {},
   "outputs": [],
   "source": []
  },
  {
   "cell_type": "code",
   "execution_count": 69,
   "id": "4549de63-6f46-4822-8a19-4b4bba85db76",
   "metadata": {},
   "outputs": [
    {
     "name": "stderr",
     "output_type": "stream",
     "text": [
      "Using cache found in C:\\Users\\Elijah/.cache\\torch\\hub\\pytorch_vision_v0.10.0\n",
      "Using cache found in C:\\Users\\Elijah/.cache\\torch\\hub\\pytorch_vision_v0.10.0\n"
     ]
    },
    {
     "name": "stdout",
     "output_type": "stream",
     "text": [
      "7 model MAE: 0.00016158449579961598\n"
     ]
    },
    {
     "name": "stderr",
     "output_type": "stream",
     "text": [
      "Using cache found in C:\\Users\\Elijah/.cache\\torch\\hub\\pytorch_vision_v0.10.0\n"
     ]
    },
    {
     "name": "stdout",
     "output_type": "stream",
     "text": [
      "6 model MAE: 0.0002035994693869725\n"
     ]
    },
    {
     "name": "stderr",
     "output_type": "stream",
     "text": [
      "Using cache found in C:\\Users\\Elijah/.cache\\torch\\hub\\pytorch_vision_v0.10.0\n"
     ]
    },
    {
     "name": "stdout",
     "output_type": "stream",
     "text": [
      "5 model MAE: 0.00029426516266539693\n"
     ]
    },
    {
     "name": "stderr",
     "output_type": "stream",
     "text": [
      "Using cache found in C:\\Users\\Elijah/.cache\\torch\\hub\\pytorch_vision_v0.10.0\n"
     ]
    },
    {
     "name": "stdout",
     "output_type": "stream",
     "text": [
      "4 model MAE: 0.00047445064410567284\n"
     ]
    },
    {
     "name": "stderr",
     "output_type": "stream",
     "text": [
      "Using cache found in C:\\Users\\Elijah/.cache\\torch\\hub\\pytorch_vision_v0.10.0\n"
     ]
    },
    {
     "name": "stdout",
     "output_type": "stream",
     "text": [
      "3 model MAE: 0.0008231321698985994\n"
     ]
    },
    {
     "name": "stderr",
     "output_type": "stream",
     "text": [
      "Using cache found in C:\\Users\\Elijah/.cache\\torch\\hub\\pytorch_vision_v0.10.0\n"
     ]
    },
    {
     "name": "stdout",
     "output_type": "stream",
     "text": [
      "2 model MAE: 0.0008231321698985994\n"
     ]
    },
    {
     "name": "stderr",
     "output_type": "stream",
     "text": [
      "Using cache found in C:\\Users\\Elijah/.cache\\torch\\hub\\pytorch_vision_v0.10.0\n"
     ]
    },
    {
     "name": "stdout",
     "output_type": "stream",
     "text": [
      "1 model MAE: 0.007130596786737442\n",
      "7 model MAE: 0.00016158449579961598\n",
      "6 model MAE: 0.0002035994693869725\n",
      "5 model MAE: 0.00029426516266539693\n",
      "4 model MAE: 0.00047445064410567284\n",
      "3 model MAE: 0.0008231321698985994\n",
      "2 model MAE: 0.0008231321698985994\n",
      "1 model MAE: 0.007130596786737442\n",
      "\n"
     ]
    }
   ],
   "source": [
    "alexnet = torch.hub.load('pytorch/vision:v0.10.0', 'alexnet', pretrained=True)\n",
    "    \n",
    "alexnet.classifier[4] = nn.Linear(4096,1024)\n",
    "alexnet.classifier[6] = nn.Linear(1024,10)\n",
    "\n",
    "alexnet.load_state_dict(torch.load(f'./model_20240603_151633_final_frozen_alexnet',map_location=device))\n",
    "alexnet.eval()\n",
    "output = ''\n",
    "for bit_length in bit_lengths:\n",
    "    model = create_model(bit_length)\n",
    "    flattened_alexnet = flatten_model(alexnet)\n",
    "    flattened_quantized_alexnet = flatten_model(model)\n",
    "    model_size = flattened_alexnet.shape[0]\n",
    "    MSE = torch.sum(torch.abs(flattened_alexnet - flattened_quantized_alexnet)) / model_size\n",
    "    print(f'{bit_length} model MAE: {MSE}')\n",
    "    output += f'{bit_length} model MAE: {MSE}\\n'\n",
    "print(output)"
   ]
  },
  {
   "cell_type": "code",
   "execution_count": 97,
   "id": "4be1e841-2b0b-4d8e-898e-8413156f647f",
   "metadata": {},
   "outputs": [
    {
     "data": {
      "text/plain": [
       "[<matplotlib.lines.Line2D at 0x26a3e2b5240>]"
      ]
     },
     "execution_count": 97,
     "metadata": {},
     "output_type": "execute_result"
    },
    {
     "data": {
      "image/png": "[encoded data removed]",
      "text/plain": [
       "<Figure size 640x480 with 1 Axes>"
      ]
     },
     "metadata": {},
     "output_type": "display_data"
    }
   ],
   "source": [
    "plt.plot(bit_lengths[:6], MSEs[:6])"
   ]
  },
  {
   "cell_type": "code",
   "execution_count": null,
   "id": "6c21f044-c898-483d-ab46-70773d64d78b",
   "metadata": {},
   "outputs": [],
   "source": []
  }
 ],
 "metadata": {
  "kernelspec": {
   "display_name": "Python 3 (ipykernel)",
   "language": "python",
   "name": "python3"
  },
  "language_info": {
   "codemirror_mode": {
    "name": "ipython",
    "version": 3
   },
   "file_extension": ".py",
   "mimetype": "text/x-python",
   "name": "python",
   "nbconvert_exporter": "python",
   "pygments_lexer": "ipython3",
   "version": "3.10.13"
  }
 },
 "nbformat": 4,
 "nbformat_minor": 5
}

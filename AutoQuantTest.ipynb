{
 "cells": [
  {
   "cell_type": "code",
   "execution_count": 1,
   "id": "5bbc5679-b34b-480b-96c7-c01b1c8c5c09",
   "metadata": {},
   "outputs": [],
   "source": [
    "import torch\n",
    "import torchvision\n",
    "import torchvision.transforms as transforms\n",
    "import torch.nn as nn\n",
    "import datetime\n",
    "from matplotlib import pyplot as plt\n",
    "import numpy as np\n",
    "from tqdm import tqdm\n",
    "\n",
    "from pathlib import Path\n",
    "import pickle\n",
    "from IPython.display import display, Markdown, Latex"
   ]
  },
  {
   "cell_type": "markdown",
   "id": "47d7ca3c-74e7-4b68-ae8f-220fd3c03d5c",
   "metadata": {},
   "source": [
    "# Initialize Model"
   ]
  },
  {
   "cell_type": "code",
   "execution_count": 2,
   "id": "1feb0a29-c9de-42be-9375-748444149300",
   "metadata": {},
   "outputs": [],
   "source": [
    "bit_lengths = [7,6,5,4,3,2,1]"
   ]
  },
  {
   "cell_type": "code",
   "execution_count": 3,
   "id": "3c0a39c3-d403-452f-8d57-165bd494a11a",
   "metadata": {},
   "outputs": [],
   "source": [
    "model_path = Path('./models')"
   ]
  },
  {
   "cell_type": "code",
   "execution_count": 21,
   "id": "607d97c0-7088-4769-9314-b9616f4bf353",
   "metadata": {},
   "outputs": [],
   "source": [
    "fig_path = Path('./figures')"
   ]
  },
  {
   "cell_type": "code",
   "execution_count": 4,
   "id": "e1f69351-69a2-4de4-b7ba-d44e2152e4b7",
   "metadata": {},
   "outputs": [],
   "source": [
    "transform = transforms.Compose([\n",
    "    transforms.Resize(256),\n",
    "    transforms.CenterCrop(224),\n",
    "    transforms.ToTensor(),\n",
    "    transforms.Normalize(mean=[0.485, 0.456, 0.406], std=[0.229, 0.224, 0.225]),\n",
    "])"
   ]
  },
  {
   "cell_type": "code",
   "execution_count": 5,
   "id": "a3ae5115-68f1-4c23-bc2b-ef53fc859e17",
   "metadata": {},
   "outputs": [
    {
     "name": "stdout",
     "output_type": "stream",
     "text": [
      "Files already downloaded and verified\n",
      "Files already downloaded and verified\n"
     ]
    }
   ],
   "source": [
    "train_data = torchvision.datasets.CIFAR10(root='../data', train=True, download=True, transform=transform)\n",
    "test_data = torchvision.datasets.CIFAR10(root='../data', train=False, download=True, transform=transform)\n",
    "\n",
    "trainloader = torch.utils.data.DataLoader(train_data, batch_size=4, shuffle=True, num_workers=2)\n",
    "testloader = torch.utils.data.DataLoader(test_data, batch_size=4, shuffle=False, num_workers=2)\n",
    "\n",
    "classes = ('Airplane', 'Car', 'Bird', 'Cat', 'Deer', 'Dog', 'Frog', 'Horse', 'Ship', 'Truck')"
   ]
  },
  {
   "cell_type": "code",
   "execution_count": 6,
   "id": "a1c3a5e0-a40f-4267-88b3-2a06d6bd2bf9",
   "metadata": {},
   "outputs": [],
   "source": [
    "device = torch.device(\"cuda:0\" if torch.cuda.is_available() else \"cpu\")"
   ]
  },
  {
   "cell_type": "code",
   "execution_count": 7,
   "id": "39017c41-3ccc-4504-bcfd-8d805a362d38",
   "metadata": {},
   "outputs": [],
   "source": [
    "def create_model(bit_length):\n",
    "    alexnet = torch.hub.load('pytorch/vision:v0.10.0', 'alexnet', pretrained=True)\n",
    "    \n",
    "    alexnet.classifier[4] = nn.Linear(4096,1024)\n",
    "    alexnet.classifier[6] = nn.Linear(1024,10)\n",
    "    \n",
    "    alexnet.load_state_dict(torch.load(model_path  / f'dt_quantized_model_bl_{bit_length}',map_location=device))\n",
    "    alexnet.eval()\n",
    "    return alexnet"
   ]
  },
  {
   "cell_type": "code",
   "execution_count": 15,
   "id": "f6f8e94a-3936-44da-b7cf-f33d300c4ee5",
   "metadata": {},
   "outputs": [
    {
     "name": "stdout",
     "output_type": "stream",
     "text": [
      "cuda:0\n"
     ]
    },
    {
     "name": "stderr",
     "output_type": "stream",
     "text": [
      "Using cache found in C:\\Users\\Elijah/.cache\\torch\\hub\\pytorch_vision_v0.10.0\n",
      "100%|██████████| 2500/2500 [00:40<00:00, 61.72it/s] \n",
      "Using cache found in C:\\Users\\Elijah/.cache\\torch\\hub\\pytorch_vision_v0.10.0\n"
     ]
    },
    {
     "name": "stdout",
     "output_type": "stream",
     "text": [
      "Bit Length 7 Accuracy of the network on the 10000 test images: 85.22 %\n"
     ]
    },
    {
     "name": "stderr",
     "output_type": "stream",
     "text": [
      "100%|██████████| 2500/2500 [00:18<00:00, 134.15it/s]\n",
      "Using cache found in C:\\Users\\Elijah/.cache\\torch\\hub\\pytorch_vision_v0.10.0\n"
     ]
    },
    {
     "name": "stdout",
     "output_type": "stream",
     "text": [
      "Bit Length 6 Accuracy of the network on the 10000 test images: 85.12 %\n"
     ]
    },
    {
     "name": "stderr",
     "output_type": "stream",
     "text": [
      "100%|██████████| 2500/2500 [00:17<00:00, 143.96it/s]\n",
      "Using cache found in C:\\Users\\Elijah/.cache\\torch\\hub\\pytorch_vision_v0.10.0\n"
     ]
    },
    {
     "name": "stdout",
     "output_type": "stream",
     "text": [
      "Bit Length 5 Accuracy of the network on the 10000 test images: 85.06 %\n"
     ]
    },
    {
     "name": "stderr",
     "output_type": "stream",
     "text": [
      "100%|██████████| 2500/2500 [00:16<00:00, 151.91it/s]\n",
      "Using cache found in C:\\Users\\Elijah/.cache\\torch\\hub\\pytorch_vision_v0.10.0\n"
     ]
    },
    {
     "name": "stdout",
     "output_type": "stream",
     "text": [
      "Bit Length 4 Accuracy of the network on the 10000 test images: 84.87 %\n"
     ]
    },
    {
     "name": "stderr",
     "output_type": "stream",
     "text": [
      "100%|██████████| 2500/2500 [00:17<00:00, 143.64it/s]\n",
      "Using cache found in C:\\Users\\Elijah/.cache\\torch\\hub\\pytorch_vision_v0.10.0\n"
     ]
    },
    {
     "name": "stdout",
     "output_type": "stream",
     "text": [
      "Bit Length 3 Accuracy of the network on the 10000 test images: 83.51 %\n"
     ]
    },
    {
     "name": "stderr",
     "output_type": "stream",
     "text": [
      "100%|██████████| 2500/2500 [00:17<00:00, 145.43it/s]\n",
      "Using cache found in C:\\Users\\Elijah/.cache\\torch\\hub\\pytorch_vision_v0.10.0\n"
     ]
    },
    {
     "name": "stdout",
     "output_type": "stream",
     "text": [
      "Bit Length 2 Accuracy of the network on the 10000 test images: 83.51 %\n"
     ]
    },
    {
     "name": "stderr",
     "output_type": "stream",
     "text": [
      "100%|██████████| 2500/2500 [00:16<00:00, 147.20it/s]"
     ]
    },
    {
     "name": "stdout",
     "output_type": "stream",
     "text": [
      "Bit Length 1 Accuracy of the network on the 10000 test images: 25.24 %\n"
     ]
    },
    {
     "name": "stderr",
     "output_type": "stream",
     "text": [
      "\n"
     ]
    }
   ],
   "source": [
    "print(device)\n",
    "for bit_length in bit_lengths:\n",
    "    alexnet = create_model(bit_length)\n",
    "    alexnet.to(device)\n",
    "    correct = 0\n",
    "    total = 0\n",
    "    with torch.no_grad():\n",
    "        for data in tqdm(testloader):\n",
    "            images, labels = data[0].to(device), data[1].to(device)\n",
    "            outputs = alexnet(images)\n",
    "            _, predicted = torch.max(outputs.data, 1)\n",
    "            total += labels.size(0)\n",
    "            correct += (predicted == labels).sum().item()\n",
    "    \n",
    "    print(f'Bit Length {bit_length} Accuracy of the network on the 10000 test images: {100 * correct / total} %')"
   ]
  },
  {
   "cell_type": "code",
   "execution_count": 26,
   "id": "a901b4ce-93b6-4eeb-a421-d33c0bc97245",
   "metadata": {},
   "outputs": [],
   "source": [
    "accuracies = {7: 85.22, 6: 85.12, 5: 85.06, 4: 84.87, 3: 83.51, 2: 83.51}#, 1: 25.24}"
   ]
  },
  {
   "cell_type": "code",
   "execution_count": 30,
   "id": "401ee329-5a88-43ff-a891-a36c61c8a59c",
   "metadata": {},
   "outputs": [
    {
     "data": {
      "image/png": "[encoded data removed]",
      "text/plain": [
       "<Figure size 640x480 with 1 Axes>"
      ]
     },
     "metadata": {},
     "output_type": "display_data"
    }
   ],
   "source": [
    "plt.plot(list(accuracies.keys()), list(accuracies.values()))\n",
    "plt.gca().invert_xaxis()\n",
    "plt.ylabel('Accuracy (%)')\n",
    "plt.xlabel('Number of bits')\n",
    "plt.title('AlexNet Accuracy vs Number of DT Bits')\n",
    "plt.savefig(fig_path / 'alex_accuracy_v_bits.png')"
   ]
  },
  {
   "cell_type": "markdown",
   "id": "2bb73066-4699-433a-a5b1-9a218962e882",
   "metadata": {},
   "source": [
    "---"
   ]
  },
  {
   "cell_type": "code",
   "execution_count": 17,
   "id": "91b167bb-041e-4ab8-8de4-fa5dfae1ddd6",
   "metadata": {},
   "outputs": [],
   "source": [
    "counts_path = Path('./counts')"
   ]
  },
  {
   "cell_type": "code",
   "execution_count": 18,
   "id": "d2bd4726-be8d-49fd-a0aa-c247ce9a7cbc",
   "metadata": {},
   "outputs": [
    {
     "name": "stdout",
     "output_type": "stream",
     "text": [
      "7 bit exponent counts: {0: 30518764, 1: 12468009, 2: 1291749, 3: 129113, 4: 12769, 5: 1267, 6: 153, 7: 0}\n",
      "6 bit exponent counts: {0: 30518764, 1: 12468009, 2: 1291749, 3: 129113, 4: 12769, 5: 1420, 6: 0, 7: 0}\n",
      "5 bit exponent counts: {0: 30518764, 1: 12468009, 2: 1291749, 3: 129113, 4: 14189, 5: 0, 6: 0, 7: 0}\n",
      "4 bit exponent counts: {0: 30518764, 1: 12468009, 2: 1291749, 3: 143302, 4: 0, 5: 0, 6: 0, 7: 0}\n",
      "3 bit exponent counts: {0: 30518764, 1: 12468009, 2: 1435051, 3: 0, 4: 0, 5: 0, 6: 0, 7: 0}\n",
      "2 bit exponent counts: {0: 30518764, 1: 13903060, 2: 0, 3: 0, 4: 0, 5: 0, 6: 0, 7: 0}\n",
      "1 bit exponent counts: {0: 44421824, 1: 0, 2: 0, 3: 0, 4: 0, 5: 0, 6: 0, 7: 0}\n"
     ]
    }
   ],
   "source": [
    "counts = []\n",
    "for bit_length in bit_lengths:\n",
    "    with open(counts_path / f'dt_counts_bl_{bit_length}.pkl', 'rb') as f:\n",
    "        counts.append(pickle.load(f))\n",
    "        print(f'{bit_length} bit exponent counts: {counts[-1]}')"
   ]
  },
  {
   "cell_type": "code",
   "execution_count": 19,
   "id": "4da4641a-2c93-4a8b-b216-0da63e2163f8",
   "metadata": {},
   "outputs": [
    {
     "name": "stderr",
     "output_type": "stream",
     "text": [
      "Using cache found in C:\\Users\\Elijah/.cache\\torch\\hub\\pytorch_vision_v0.10.0\n",
      "Using cache found in C:\\Users\\Elijah/.cache\\torch\\hub\\pytorch_vision_v0.10.0\n"
     ]
    }
   ],
   "source": [
    "alexnetb7 = create_model(7)\n",
    "alexnetb2 = create_model(2)"
   ]
  },
  {
   "cell_type": "code",
   "execution_count": 21,
   "id": "6fd7062f-73fd-4ad9-9b83-43aa7b8e67ff",
   "metadata": {
    "scrolled": true
   },
   "outputs": [
    {
     "data": {
      "text/plain": [
       "Parameter containing:\n",
       "tensor([[[[ 1.1771e-01,  9.3614e-02,  9.4541e-02,  ...,  5.5612e-02,\n",
       "            2.1318e-02,  4.9124e-02],\n",
       "          [ 7.4768e-02,  3.8571e-02,  5.2812e-02,  ...,  2.5516e-02,\n",
       "           -1.1275e-02,  3.7977e-03],\n",
       "          [ 7.4836e-02,  3.8302e-02,  5.4801e-02,  ...,  4.3016e-02,\n",
       "            1.0017e-02,  1.2964e-02],\n",
       "          ...,\n",
       "          [ 9.1878e-02,  1.0297e-01,  6.6533e-02,  ..., -2.0118e-01,\n",
       "           -1.2831e-01, -1.1089e-01],\n",
       "          [ 4.1965e-02,  6.4854e-02,  3.4335e-02,  ..., -2.0219e-01,\n",
       "           -1.1254e-01, -1.0682e-01],\n",
       "          [ 4.7127e-02,  6.2411e-02,  2.4200e-02,  ..., -1.1718e-01,\n",
       "           -9.5527e-02, -8.2790e-02]],\n",
       "\n",
       "         [[-7.2491e-02, -5.7711e-02, -8.0233e-02,  ..., -5.6304e-04,\n",
       "           -2.4633e-02,  2.5337e-02],\n",
       "          [-6.8611e-02, -6.7417e-02, -7.5770e-02,  ..., -3.8183e-03,\n",
       "           -2.9831e-02,  1.0142e-02],\n",
       "          [-9.9456e-02, -8.5483e-02, -1.0439e-01,  ..., -2.6303e-02,\n",
       "           -2.2193e-02,  6.5756e-03],\n",
       "          ...,\n",
       "          [-1.4747e-01, -8.4908e-02, -9.3845e-02,  ...,  3.0835e-01,\n",
       "            1.7875e-01,  8.0439e-02],\n",
       "          [-1.4296e-01, -7.3647e-02, -7.1480e-02,  ...,  2.0361e-01,\n",
       "            1.6246e-01,  9.3141e-02],\n",
       "          [-8.5466e-02, -3.9976e-02, -5.1004e-02,  ...,  1.6266e-01,\n",
       "            1.4750e-01,  1.0063e-01]],\n",
       "\n",
       "         [[-2.3477e-02, -1.8781e-03, -2.7702e-02,  ...,  3.9910e-02,\n",
       "           -7.0430e-03,  3.1928e-02],\n",
       "          [ 2.3885e-04,  2.2392e-02,  8.5836e-03,  ...,  1.8660e-02,\n",
       "           -1.3808e-02,  1.7914e-02],\n",
       "          [ 5.1651e-03,  2.9360e-02,  3.0447e-04,  ...,  1.1961e-02,\n",
       "           -2.3923e-03,  8.1555e-03],\n",
       "          ...,\n",
       "          [-6.1340e-02, -9.8144e-03, -6.1340e-02,  ...,  1.0121e-01,\n",
       "           -7.3608e-03, -7.6675e-02],\n",
       "          [-4.5361e-02,  3.3424e-03, -3.9393e-02,  ..., -2.6262e-02,\n",
       "           -3.3424e-02, -7.5801e-02],\n",
       "          [-1.8413e-02,  1.1286e-02, -3.9203e-02,  ..., -6.8308e-02,\n",
       "           -4.0985e-02, -5.5240e-02]]],\n",
       "\n",
       "\n",
       "        [[[-1.9188e-03,  2.6864e-03,  4.7971e-02,  ...,  6.0923e-02,\n",
       "            2.5904e-02,  1.9188e-02],\n",
       "          [-1.2207e-02, -4.7146e-03,  1.8101e-02,  ...,  5.3460e-02,\n",
       "            1.5996e-02,  2.3573e-02],\n",
       "          [ 3.4762e-03, -7.7248e-04,  2.6071e-02,  ..., -2.5588e-02,\n",
       "           -6.1316e-02,  2.6071e-02],\n",
       "          ...,\n",
       "          [-1.0713e-02, -4.2851e-03,  1.4998e-02,  ...,  2.9460e-02,\n",
       "            5.1421e-03,  6.8026e-02],\n",
       "          [ 2.6242e-04, -1.4761e-02,  7.7907e-03,  ...,  2.7063e-02,\n",
       "           -1.8042e-02,  5.2075e-02],\n",
       "          [-5.2060e-02, -4.6321e-02, -1.0658e-02,  ...,  4.2632e-03,\n",
       "           -2.6235e-03,  1.4347e-02]],\n",
       "\n",
       "         [[ 2.3724e-02,  2.2678e-02,  5.5822e-03,  ...,  6.9777e-03,\n",
       "           -2.4422e-02,  4.4309e-02],\n",
       "          [ 2.6723e-02,  4.4874e-02, -8.0672e-04,  ...,  4.3865e-02,\n",
       "           -2.0672e-02,  6.4033e-02],\n",
       "          [ 1.2221e-02,  1.0184e-02, -4.0736e-02,  ..., -1.2093e-01,\n",
       "           -1.6167e-01,  2.5460e-02],\n",
       "          ...,\n",
       "          [ 3.5579e-02,  5.3033e-02,  1.0741e-02,  ...,  1.2083e-02,\n",
       "           -2.9537e-02,  8.5255e-02],\n",
       "          [ 1.5309e-02,  2.1613e-02, -8.1048e-03,  ..., -3.2419e-03,\n",
       "           -5.4032e-02,  5.7184e-02],\n",
       "          [ 7.4533e-02,  8.7686e-02,  5.5534e-02,  ...,  5.2611e-02,\n",
       "            1.0230e-02,  9.2801e-02]],\n",
       "\n",
       "         [[-3.6247e-02,  6.4995e-03, -3.8747e-02,  ..., -1.5624e-02,\n",
       "           -7.9369e-02, -4.9996e-04],\n",
       "          [-5.0989e-03,  5.7363e-02,  8.6914e-03,  ...,  7.3587e-02,\n",
       "           -2.7812e-03,  4.2298e-02],\n",
       "          [-7.8748e-02, -2.2211e-02, -7.2691e-02,  ..., -5.6537e-02,\n",
       "           -1.2822e-01,  1.8173e-02],\n",
       "          ...,\n",
       "          [-3.9187e-02,  3.0390e-02, -2.7191e-02,  ..., -1.5995e-02,\n",
       "           -1.0157e-01,  3.9986e-02],\n",
       "          [-6.0730e-02, -2.2774e-02, -7.5913e-02,  ..., -7.8443e-02,\n",
       "           -1.6068e-01, -1.3158e-02],\n",
       "          [ 7.5617e-03,  4.6473e-02, -1.1815e-02,  ..., -4.6473e-02,\n",
       "           -1.0004e-01,  1.9692e-02]]],\n",
       "\n",
       "\n",
       "        [[[-5.0615e-02,  1.3497e-02,  8.0984e-03,  ..., -9.6169e-02,\n",
       "           -1.1135e-01, -2.1427e-01],\n",
       "          [-8.8960e-02, -1.3110e-02, -3.2775e-02,  ..., -7.4914e-02,\n",
       "           -1.4749e-01, -2.9732e-01],\n",
       "          [-1.3064e-01, -4.0644e-02, -4.7176e-02,  ...,  2.1411e-01,\n",
       "            3.1935e-02, -1.7056e-01],\n",
       "          ...,\n",
       "          [-1.0420e-01, -9.7823e-02, -2.5519e-01,  ...,  1.2122e-01,\n",
       "            1.9139e-01,  1.2547e-01],\n",
       "          [-8.0310e-02, -6.0722e-02, -2.2134e-01,  ...,  3.5258e-02,\n",
       "            1.0381e-01,  1.0577e-01],\n",
       "          [ 3.7257e-02,  4.8596e-02, -1.2797e-01,  ..., -3.2397e-02,\n",
       "            1.8143e-02,  4.6976e-02]],\n",
       "\n",
       "         [[ 3.8994e-02,  6.2391e-03, -2.7729e-03,  ..., -2.0797e-02,\n",
       "            3.9861e-02,  1.1005e-01],\n",
       "          [ 6.5041e-02,  2.1383e-02,  6.4150e-03,  ..., -3.9203e-02,\n",
       "            2.7620e-02,  1.1315e-01],\n",
       "          [ 7.7085e-02,  4.0218e-02,  1.3406e-02,  ..., -1.5417e-01,\n",
       "           -9.2167e-02,  3.3515e-02],\n",
       "          ...,\n",
       "          [ 1.2826e-01,  9.3907e-02,  1.4544e-01,  ..., -5.9551e-02,\n",
       "           -9.0472e-02, -6.0696e-02],\n",
       "          [ 1.2653e-01,  1.0007e-01,  1.3688e-01,  ..., -2.1855e-02,\n",
       "           -6.5566e-02, -1.9555e-02],\n",
       "          [ 7.9702e-02,  7.7576e-02,  9.8830e-02,  ...,  8.5015e-03,\n",
       "           -3.4006e-02, -1.1902e-02]],\n",
       "\n",
       "         [[ 1.1291e-02, -2.6347e-02,  1.4114e-02,  ...,  9.4095e-02,\n",
       "            1.1950e-01,  1.1009e-01],\n",
       "          [ 9.0245e-03, -2.5381e-02,  1.1281e-02,  ...,  8.6015e-02,\n",
       "            1.5370e-01,  1.7908e-01],\n",
       "          [ 6.7982e-02,  1.2797e-02,  4.7988e-02,  ..., -5.5985e-02,\n",
       "            3.1992e-02,  1.6796e-01],\n",
       "          ...,\n",
       "          [-1.1626e-02, -3.3218e-02,  1.1211e-01,  ..., -6.7474e-02,\n",
       "           -1.0173e-01, -7.5779e-02],\n",
       "          [-5.2069e-03, -2.8204e-02,  1.1607e-01,  ..., -6.0747e-03,\n",
       "           -4.3391e-02, -3.0374e-02],\n",
       "          [-1.3320e-01, -1.4710e-01, -9.2659e-04,  ...,  1.8532e-02,\n",
       "           -5.5595e-03, -2.6639e-02]]],\n",
       "\n",
       "\n",
       "        ...,\n",
       "\n",
       "\n",
       "        [[[ 9.0439e-03,  1.4587e-02,  4.6678e-03,  ...,  1.5462e-02,\n",
       "           -4.6678e-04, -1.9838e-02],\n",
       "          [ 2.6537e-04,  2.1064e-02, -1.3103e-02,  ...,  2.3220e-03,\n",
       "           -5.8049e-03, -2.0234e-02],\n",
       "          [-1.0987e-02,  9.9404e-03, -2.9560e-02,  ..., -1.4387e-02,\n",
       "           -1.7003e-02, -3.0344e-02],\n",
       "          ...,\n",
       "          [ 9.8398e-02,  9.0972e-02,  1.2996e-01,  ...,  1.5781e-01,\n",
       "            8.9115e-02,  7.7976e-02],\n",
       "          [ 1.1519e-01,  8.1633e-02,  8.2540e-02,  ..., -5.9864e-02,\n",
       "           -6.8935e-02, -4.9887e-02],\n",
       "          [-1.0552e-01, -1.1794e-01, -1.7587e-01,  ..., -2.0691e-01,\n",
       "           -1.8001e-01, -1.6553e-01]],\n",
       "\n",
       "         [[-1.1390e-02,  2.4531e-03, -8.2356e-03,  ..., -7.5347e-03,\n",
       "           -1.7347e-02, -1.6997e-02],\n",
       "          [-2.6482e-03, -1.1255e-02, -5.9585e-03,  ..., -2.8027e-02,\n",
       "           -2.2510e-02, -2.2510e-02],\n",
       "          [-8.2636e-03, -2.1155e-03, -3.5699e-02,  ..., -1.8180e-02,\n",
       "           -1.9502e-02, -2.4791e-02],\n",
       "          ...,\n",
       "          [ 1.2955e-01,  9.6649e-02,  1.4806e-01,  ...,  1.5628e-01,\n",
       "            7.8142e-02,  9.6649e-02],\n",
       "          [ 1.5954e-01,  1.0427e-01,  1.0175e-01,  ..., -6.4068e-02,\n",
       "           -6.4068e-02, -3.8943e-02],\n",
       "          [-1.2776e-01, -1.4634e-01, -1.9280e-01,  ..., -2.4158e-01,\n",
       "           -2.0209e-01, -1.9280e-01]],\n",
       "\n",
       "         [[-5.3685e-03, -1.7220e-03,  4.2543e-03,  ...,  9.7241e-03,\n",
       "            5.1659e-03,  6.2801e-03],\n",
       "          [ 9.3181e-03,  1.4909e-03, -2.1503e-03,  ...,  7.0244e-03,\n",
       "            9.1747e-04, -5.7342e-03],\n",
       "          [-1.2423e-03,  3.8823e-03, -7.5705e-03,  ...,  2.9117e-03,\n",
       "            1.4947e-02, -8.1528e-03],\n",
       "          ...,\n",
       "          [ 4.2973e-02,  6.8756e-04,  6.0162e-02,  ...,  7.4128e-02,\n",
       "            4.2973e-02,  5.5865e-02],\n",
       "          [ 1.0020e-01,  7.4509e-02,  1.0877e-01,  ...,  4.7960e-03,\n",
       "            1.0277e-02,  1.2846e-02],\n",
       "          [-8.7944e-02, -7.2689e-02, -9.2431e-02,  ..., -6.6407e-02,\n",
       "           -3.8588e-02, -4.7562e-02]]],\n",
       "\n",
       "\n",
       "        [[[ 4.3976e-03,  4.6542e-02, -1.5758e-02,  ...,  7.6958e-03,\n",
       "           -1.9789e-02,  6.5964e-03],\n",
       "          [ 6.2382e-02,  4.4640e-02,  4.6929e-02,  ...,  6.0092e-02,\n",
       "            2.9188e-02,  5.5514e-02],\n",
       "          [ 3.6054e-03,  1.2876e-02,  0.0000e+00,  ..., -8.2409e-03,\n",
       "           -1.9315e-03,  7.9834e-03],\n",
       "          ...,\n",
       "          [-4.4144e-02, -5.8398e-02, -2.4371e-02,  ..., -2.8050e-02,\n",
       "           -3.0809e-02, -5.2880e-02],\n",
       "          [-9.4560e-03, -4.2889e-02,  8.7805e-03,  ..., -4.2552e-02,\n",
       "           -1.7899e-02, -2.7692e-02],\n",
       "          [-2.1928e-02, -3.3298e-02,  1.3400e-02,  ..., -4.1420e-02,\n",
       "           -1.7461e-02, -5.1571e-02]],\n",
       "\n",
       "         [[-9.0011e-02, -5.1435e-02, -1.6331e-01,  ..., -1.1959e-01,\n",
       "           -1.1058e-01, -4.3720e-02],\n",
       "          [ 1.3572e-02,  2.5871e-02, -1.9085e-02,  ...,  2.3751e-02,\n",
       "            6.3618e-03,  5.3863e-02],\n",
       "          [-9.2481e-02, -4.6681e-02, -1.1186e-01,  ..., -8.6316e-02,\n",
       "           -7.3104e-02, -6.6058e-02],\n",
       "          ...,\n",
       "          [ 2.7123e-02,  1.0084e-02,  4.3814e-02,  ...,  2.6776e-02,\n",
       "            4.4162e-02,  1.5648e-02],\n",
       "          [ 9.8077e-02,  6.0629e-02,  1.1323e-01,  ...,  9.6293e-02,\n",
       "            1.0699e-01,  9.5402e-02],\n",
       "          [-1.4821e-02, -1.1579e-02,  4.8169e-02,  ...,  2.8716e-02,\n",
       "            5.6042e-02, -1.8526e-03]],\n",
       "\n",
       "         [[-1.3610e-01, -7.8009e-02, -2.1079e-01,  ..., -1.3610e-01,\n",
       "           -1.5104e-01, -6.3071e-02],\n",
       "          [ 1.5253e-02,  5.1250e-02, -1.7693e-02,  ...,  4.8809e-02,\n",
       "            1.9524e-02,  7.7485e-02],\n",
       "          [-1.7058e-01, -8.8700e-02, -1.7331e-01,  ..., -1.4329e-01,\n",
       "           -1.3237e-01, -1.1872e-01],\n",
       "          ...,\n",
       "          [ 5.1960e-02,  1.5861e-02,  6.9462e-02,  ...,  4.4303e-02,\n",
       "            6.5087e-02,  2.6800e-02],\n",
       "          [ 1.3028e-01,  9.0688e-02,  1.6222e-01,  ...,  1.4178e-01,\n",
       "            1.5455e-01,  1.3795e-01],\n",
       "          [ 3.1490e-03, -1.9681e-02,  7.7740e-02,  ...,  8.5613e-02,\n",
       "            1.2497e-01,  3.8378e-02]]],\n",
       "\n",
       "\n",
       "        [[[-9.4168e-02,  5.5844e-02,  1.3906e-01,  ..., -1.4235e-02,\n",
       "            9.6358e-03, -3.5039e-03],\n",
       "          [ 5.9756e-02,  1.2515e-01, -1.2289e-01,  ...,  7.7795e-02,\n",
       "           -9.9217e-03, -2.1422e-02],\n",
       "          [ 1.0260e-01, -1.3629e-01, -1.9448e-01,  ..., -5.0533e-02,\n",
       "           -8.2691e-02,  3.8283e-02],\n",
       "          ...,\n",
       "          [-1.8513e-01,  1.5113e-02,  3.3625e-01,  ...,  2.7203e-01,\n",
       "            1.0201e-01, -1.6624e-01],\n",
       "          [ 6.6474e-02,  1.3960e-01,  1.0636e-02,  ..., -7.6446e-02,\n",
       "           -2.4928e-01, -7.9769e-02],\n",
       "          [ 4.9318e-03, -6.7813e-02, -9.0417e-02,  ..., -1.0686e-01,\n",
       "            8.6307e-02,  1.0069e-01]],\n",
       "\n",
       "         [[-9.7891e-02,  6.1967e-02,  1.1406e-01,  ..., -1.2573e-02,\n",
       "            1.8860e-02, -1.0058e-03],\n",
       "          [ 8.2581e-02,  1.0289e-01, -1.5298e-01,  ...,  1.0830e-01,\n",
       "            1.1913e-02, -1.8953e-02],\n",
       "          [ 1.1208e-01, -1.6812e-01, -1.8729e-01,  ..., -6.3412e-02,\n",
       "           -9.2906e-02,  4.8665e-02],\n",
       "          ...,\n",
       "          [-1.8831e-01,  6.4562e-02,  4.7884e-01,  ...,  3.1205e-01,\n",
       "            1.5603e-01, -1.2912e-01],\n",
       "          [ 1.0879e-01,  2.0593e-01,  4.6625e-02,  ..., -6.2167e-03,\n",
       "           -2.2924e-01, -6.6053e-02],\n",
       "          [ 1.5723e-02, -9.0410e-02, -1.5920e-01,  ..., -7.8617e-02,\n",
       "            7.8617e-02,  1.1793e-01]],\n",
       "\n",
       "         [[-1.0500e-01,  5.4027e-02,  1.2946e-01,  ..., -3.8736e-02,\n",
       "            1.1417e-02, -2.4465e-03],\n",
       "          [ 5.7140e-02,  1.0581e-01, -1.3438e-01,  ...,  1.0581e-01,\n",
       "            1.7988e-02, -1.1851e-03],\n",
       "          [ 1.0343e-01, -1.0736e-01, -1.6627e-01,  ..., -4.1895e-02,\n",
       "           -8.5100e-02,  5.2369e-02],\n",
       "          ...,\n",
       "          [-1.7943e-01,  5.0074e-02,  3.9225e-01,  ...,  2.4203e-01,\n",
       "            1.0015e-01, -1.2519e-01],\n",
       "          [ 8.5327e-02,  1.8330e-01,  4.7404e-02,  ..., -4.4244e-02,\n",
       "           -2.1490e-01, -4.1083e-02],\n",
       "          [ 3.9183e-02, -7.5352e-02, -1.3413e-01,  ..., -4.8225e-02,\n",
       "            9.9465e-02,  8.8916e-02]]]], requires_grad=True)"
      ]
     },
     "execution_count": 21,
     "metadata": {},
     "output_type": "execute_result"
    }
   ],
   "source": [
    "alexnetb7.features[0].weight"
   ]
  },
  {
   "cell_type": "code",
   "execution_count": 22,
   "id": "fbfeea83-fa87-4f48-ac4e-46def1b1b49c",
   "metadata": {
    "jupyter": {
     "source_hidden": true
    },
    "scrolled": true
   },
   "outputs": [
    {
     "data": {
      "text/plain": [
       "Parameter containing:\n",
       "tensor([[[[ 0.1177,  0.0936,  0.0945,  ...,  0.0556,  0.0213,  0.0491],\n",
       "          [ 0.0748,  0.0386,  0.0528,  ...,  0.0255, -0.0113,  0.0000],\n",
       "          [ 0.0748,  0.0383,  0.0548,  ...,  0.0430,  0.0100,  0.0130],\n",
       "          ...,\n",
       "          [ 0.0919,  0.1030,  0.0665,  ..., -0.2012, -0.1283, -0.1109],\n",
       "          [ 0.0420,  0.0649,  0.0343,  ..., -0.2022, -0.1125, -0.1068],\n",
       "          [ 0.0471,  0.0624,  0.0242,  ..., -0.1172, -0.0955, -0.0828]],\n",
       "\n",
       "         [[-0.0725, -0.0577, -0.0802,  ..., -0.0000, -0.0246,  0.0253],\n",
       "          [-0.0686, -0.0674, -0.0758,  ..., -0.0000, -0.0298,  0.0101],\n",
       "          [-0.0995, -0.0855, -0.1044,  ..., -0.0263, -0.0222,  0.0000],\n",
       "          ...,\n",
       "          [-0.1475, -0.0849, -0.0938,  ...,  0.3083,  0.1788,  0.0804],\n",
       "          [-0.1430, -0.0736, -0.0715,  ...,  0.2036,  0.1625,  0.0931],\n",
       "          [-0.0855, -0.0400, -0.0510,  ...,  0.1627,  0.1475,  0.1006]],\n",
       "\n",
       "         [[-0.0235, -0.0000, -0.0277,  ...,  0.0399, -0.0070,  0.0319],\n",
       "          [ 0.0000,  0.0224,  0.0086,  ...,  0.0187, -0.0138,  0.0179],\n",
       "          [ 0.0052,  0.0294,  0.0000,  ...,  0.0120, -0.0000,  0.0082],\n",
       "          ...,\n",
       "          [-0.0613, -0.0000, -0.0613,  ...,  0.1012, -0.0000, -0.0767],\n",
       "          [-0.0454,  0.0000, -0.0394,  ..., -0.0263, -0.0334, -0.0758],\n",
       "          [-0.0184,  0.0113, -0.0392,  ..., -0.0683, -0.0410, -0.0552]]],\n",
       "\n",
       "\n",
       "        [[[-0.0000,  0.0000,  0.0480,  ...,  0.0609,  0.0259,  0.0192],\n",
       "          [-0.0122, -0.0000,  0.0181,  ...,  0.0535,  0.0160,  0.0236],\n",
       "          [ 0.0000, -0.0000,  0.0261,  ..., -0.0256, -0.0613,  0.0261],\n",
       "          ...,\n",
       "          [-0.0107, -0.0000,  0.0150,  ...,  0.0295,  0.0000,  0.0680],\n",
       "          [ 0.0000, -0.0148,  0.0078,  ...,  0.0271, -0.0180,  0.0521],\n",
       "          [-0.0521, -0.0463, -0.0107,  ...,  0.0000, -0.0000,  0.0143]],\n",
       "\n",
       "         [[ 0.0237,  0.0227,  0.0056,  ...,  0.0070, -0.0244,  0.0443],\n",
       "          [ 0.0267,  0.0449, -0.0000,  ...,  0.0439, -0.0207,  0.0640],\n",
       "          [ 0.0000,  0.0000, -0.0407,  ..., -0.1209, -0.1617,  0.0255],\n",
       "          ...,\n",
       "          [ 0.0356,  0.0530,  0.0107,  ...,  0.0121, -0.0295,  0.0853],\n",
       "          [ 0.0153,  0.0216, -0.0081,  ..., -0.0000, -0.0540,  0.0572],\n",
       "          [ 0.0745,  0.0877,  0.0555,  ...,  0.0526,  0.0102,  0.0928]],\n",
       "\n",
       "         [[-0.0362,  0.0000, -0.0387,  ..., -0.0156, -0.0794, -0.0000],\n",
       "          [-0.0000,  0.0574,  0.0087,  ...,  0.0736, -0.0000,  0.0423],\n",
       "          [-0.0787, -0.0222, -0.0727,  ..., -0.0565, -0.1282,  0.0182],\n",
       "          ...,\n",
       "          [-0.0392,  0.0304, -0.0272,  ..., -0.0160, -0.1016,  0.0400],\n",
       "          [-0.0607, -0.0228, -0.0759,  ..., -0.0784, -0.1607, -0.0000],\n",
       "          [ 0.0000,  0.0465, -0.0118,  ..., -0.0465, -0.1000,  0.0197]]],\n",
       "\n",
       "\n",
       "        [[[-0.0506,  0.0000,  0.0000,  ..., -0.0962, -0.1114, -0.2143],\n",
       "          [-0.0890, -0.0000, -0.0328,  ..., -0.0749, -0.1475, -0.2973],\n",
       "          [-0.1306, -0.0000, -0.0472,  ...,  0.2141,  0.0000, -0.1706],\n",
       "          ...,\n",
       "          [-0.1042, -0.0978, -0.2552,  ...,  0.1212,  0.1914,  0.1255],\n",
       "          [-0.0803, -0.0607, -0.2213,  ...,  0.0353,  0.1038,  0.1058],\n",
       "          [ 0.0373,  0.0486, -0.1280,  ..., -0.0324,  0.0000,  0.0470]],\n",
       "\n",
       "         [[ 0.0390,  0.0000, -0.0000,  ..., -0.0208,  0.0399,  0.1100],\n",
       "          [ 0.0650,  0.0214,  0.0000,  ..., -0.0392,  0.0276,  0.1132],\n",
       "          [ 0.0771,  0.0402,  0.0000,  ..., -0.1542, -0.0922,  0.0335],\n",
       "          ...,\n",
       "          [ 0.1283,  0.0939,  0.1454,  ..., -0.0596, -0.0905, -0.0607],\n",
       "          [ 0.1265,  0.1001,  0.1369,  ..., -0.0219, -0.0656, -0.0196],\n",
       "          [ 0.0797,  0.0776,  0.0988,  ...,  0.0000, -0.0340, -0.0000]],\n",
       "\n",
       "         [[ 0.0000, -0.0263,  0.0141,  ...,  0.0941,  0.1195,  0.1101],\n",
       "          [ 0.0000, -0.0254,  0.0000,  ...,  0.0860,  0.1537,  0.1791],\n",
       "          [ 0.0680,  0.0000,  0.0480,  ..., -0.0560,  0.0320,  0.1680],\n",
       "          ...,\n",
       "          [-0.0000, -0.0332,  0.1121,  ..., -0.0675, -0.1017, -0.0758],\n",
       "          [-0.0000, -0.0282,  0.1161,  ..., -0.0000, -0.0434, -0.0304],\n",
       "          [-0.1332, -0.1471, -0.0000,  ...,  0.0185, -0.0000, -0.0266]]],\n",
       "\n",
       "\n",
       "        ...,\n",
       "\n",
       "\n",
       "        [[[ 0.0090,  0.0146,  0.0047,  ...,  0.0155, -0.0000, -0.0198],\n",
       "          [ 0.0000,  0.0211, -0.0131,  ...,  0.0023, -0.0058, -0.0202],\n",
       "          [-0.0110,  0.0099, -0.0296,  ..., -0.0144, -0.0170, -0.0303],\n",
       "          ...,\n",
       "          [ 0.0984,  0.0910,  0.1300,  ...,  0.1578,  0.0891,  0.0780],\n",
       "          [ 0.1152,  0.0816,  0.0825,  ..., -0.0599, -0.0689, -0.0499],\n",
       "          [-0.1055, -0.1179, -0.1759,  ..., -0.2069, -0.1800, -0.1655]],\n",
       "\n",
       "         [[-0.0114,  0.0025, -0.0082,  ..., -0.0075, -0.0173, -0.0170],\n",
       "          [-0.0000, -0.0113, -0.0060,  ..., -0.0280, -0.0225, -0.0225],\n",
       "          [-0.0083, -0.0000, -0.0357,  ..., -0.0182, -0.0195, -0.0248],\n",
       "          ...,\n",
       "          [ 0.1296,  0.0966,  0.1481,  ...,  0.1563,  0.0781,  0.0966],\n",
       "          [ 0.1595,  0.1043,  0.1018,  ..., -0.0641, -0.0641, -0.0389],\n",
       "          [-0.1278, -0.1463, -0.1928,  ..., -0.2416, -0.2021, -0.1928]],\n",
       "\n",
       "         [[-0.0054, -0.0017,  0.0043,  ...,  0.0097,  0.0052,  0.0063],\n",
       "          [ 0.0093,  0.0000, -0.0022,  ...,  0.0070,  0.0000, -0.0057],\n",
       "          [-0.0000,  0.0039, -0.0076,  ...,  0.0029,  0.0149, -0.0082],\n",
       "          ...,\n",
       "          [ 0.0430,  0.0000,  0.0602,  ...,  0.0741,  0.0430,  0.0559],\n",
       "          [ 0.1002,  0.0745,  0.1088,  ...,  0.0000,  0.0000,  0.0128],\n",
       "          [-0.0879, -0.0727, -0.0924,  ..., -0.0664, -0.0386, -0.0476]]],\n",
       "\n",
       "\n",
       "        [[[ 0.0000,  0.0465, -0.0158,  ...,  0.0077, -0.0198,  0.0066],\n",
       "          [ 0.0624,  0.0446,  0.0469,  ...,  0.0601,  0.0292,  0.0555],\n",
       "          [ 0.0036,  0.0129,  0.0000,  ..., -0.0082, -0.0019,  0.0080],\n",
       "          ...,\n",
       "          [-0.0441, -0.0584, -0.0244,  ..., -0.0280, -0.0308, -0.0529],\n",
       "          [-0.0095, -0.0429,  0.0088,  ..., -0.0426, -0.0179, -0.0277],\n",
       "          [-0.0219, -0.0333,  0.0134,  ..., -0.0414, -0.0175, -0.0516]],\n",
       "\n",
       "         [[-0.0900, -0.0514, -0.1633,  ..., -0.1196, -0.1106, -0.0437],\n",
       "          [ 0.0136,  0.0259, -0.0191,  ...,  0.0238,  0.0064,  0.0539],\n",
       "          [-0.0925, -0.0467, -0.1119,  ..., -0.0863, -0.0731, -0.0661],\n",
       "          ...,\n",
       "          [ 0.0271,  0.0101,  0.0438,  ...,  0.0268,  0.0442,  0.0156],\n",
       "          [ 0.0981,  0.0606,  0.1132,  ...,  0.0963,  0.1070,  0.0954],\n",
       "          [-0.0148, -0.0116,  0.0482,  ...,  0.0287,  0.0560, -0.0000]],\n",
       "\n",
       "         [[-0.1361, -0.0780, -0.2108,  ..., -0.1361, -0.1510, -0.0631],\n",
       "          [ 0.0153,  0.0512, -0.0177,  ...,  0.0488,  0.0195,  0.0775],\n",
       "          [-0.1706, -0.0887, -0.1733,  ..., -0.1433, -0.1324, -0.1187],\n",
       "          ...,\n",
       "          [ 0.0520,  0.0159,  0.0695,  ...,  0.0443,  0.0651,  0.0268],\n",
       "          [ 0.1303,  0.0907,  0.1622,  ...,  0.1418,  0.1546,  0.1379],\n",
       "          [ 0.0000, -0.0197,  0.0777,  ...,  0.0856,  0.1250,  0.0384]]],\n",
       "\n",
       "\n",
       "        [[[-0.0942,  0.0558,  0.1391,  ..., -0.0142,  0.0000, -0.0000],\n",
       "          [ 0.0598,  0.1251, -0.1229,  ...,  0.0778, -0.0000, -0.0214],\n",
       "          [ 0.1026, -0.1363, -0.1945,  ..., -0.0505, -0.0827,  0.0383],\n",
       "          ...,\n",
       "          [-0.1851,  0.0000,  0.3363,  ...,  0.2720,  0.1020, -0.1662],\n",
       "          [ 0.0665,  0.1396,  0.0000,  ..., -0.0764, -0.2493, -0.0798],\n",
       "          [ 0.0000, -0.0678, -0.0904,  ..., -0.1069,  0.0863,  0.1007]],\n",
       "\n",
       "         [[-0.0979,  0.0620,  0.1141,  ..., -0.0126,  0.0189, -0.0000],\n",
       "          [ 0.0826,  0.1029, -0.1530,  ...,  0.1083,  0.0000, -0.0190],\n",
       "          [ 0.1121, -0.1681, -0.1873,  ..., -0.0634, -0.0929,  0.0487],\n",
       "          ...,\n",
       "          [-0.1883,  0.0000,  0.4788,  ...,  0.3121,  0.1560, -0.1291],\n",
       "          [ 0.1088,  0.2059,  0.0000,  ..., -0.0000, -0.2292, -0.0661],\n",
       "          [ 0.0000, -0.0904, -0.1592,  ..., -0.0786,  0.0786,  0.1179]],\n",
       "\n",
       "         [[-0.1050,  0.0540,  0.1295,  ..., -0.0387,  0.0000, -0.0000],\n",
       "          [ 0.0571,  0.1058, -0.1344,  ...,  0.1058,  0.0180, -0.0000],\n",
       "          [ 0.1034, -0.1074, -0.1663,  ..., -0.0419, -0.0851,  0.0524],\n",
       "          ...,\n",
       "          [-0.1794,  0.0501,  0.3922,  ...,  0.2420,  0.1001, -0.1252],\n",
       "          [ 0.0853,  0.1833,  0.0474,  ..., -0.0442, -0.2149, -0.0411],\n",
       "          [ 0.0392, -0.0754, -0.1341,  ..., -0.0482,  0.0995,  0.0889]]]],\n",
       "       requires_grad=True)"
      ]
     },
     "execution_count": 22,
     "metadata": {},
     "output_type": "execute_result"
    }
   ],
   "source": [
    "alexnetb2.features[0].weight"
   ]
  },
  {
   "cell_type": "code",
   "execution_count": 23,
   "id": "3b5be5f2-b7af-4770-b605-dfa31cbfeba8",
   "metadata": {},
   "outputs": [
    {
     "name": "stderr",
     "output_type": "stream",
     "text": [
      "Using cache found in C:\\Users\\Elijah/.cache\\torch\\hub\\pytorch_vision_v0.10.0\n"
     ]
    }
   ],
   "source": [
    "alexnetb2 = create_model(1)"
   ]
  },
  {
   "cell_type": "code",
   "execution_count": 24,
   "id": "053084e5-3fa1-43bf-a534-43933e2233d2",
   "metadata": {
    "scrolled": true
   },
   "outputs": [
    {
     "data": {
      "text/plain": [
       "Parameter containing:\n",
       "tensor([[[[ 0.1177,  0.0936,  0.0945,  ...,  0.0556,  0.0213,  0.0491],\n",
       "          [ 0.0748,  0.0386,  0.0528,  ...,  0.0255, -0.0113,  0.0415],\n",
       "          [ 0.0748,  0.0383,  0.0548,  ...,  0.0430,  0.0100,  0.0130],\n",
       "          ...,\n",
       "          [ 0.0919,  0.1030,  0.0665,  ..., -0.2012, -0.1283, -0.1109],\n",
       "          [ 0.0420,  0.0649,  0.0343,  ..., -0.2022, -0.1125, -0.1068],\n",
       "          [ 0.0471,  0.0624,  0.0242,  ..., -0.1172, -0.0955, -0.0828]],\n",
       "\n",
       "         [[-0.0725, -0.0577, -0.0802,  ..., -0.0598, -0.0246,  0.0253],\n",
       "          [-0.0686, -0.0674, -0.0758,  ..., -0.0394, -0.0298,  0.0101],\n",
       "          [-0.0995, -0.0855, -0.1044,  ..., -0.0263, -0.0222,  0.0658],\n",
       "          ...,\n",
       "          [-0.1475, -0.0849, -0.0938,  ...,  0.3083,  0.1788,  0.0804],\n",
       "          [-0.1430, -0.0736, -0.0715,  ...,  0.2036,  0.1625,  0.0931],\n",
       "          [-0.0855, -0.0400, -0.0510,  ...,  0.1627,  0.1475,  0.1006]],\n",
       "\n",
       "         [[-0.0235, -0.0211, -0.0277,  ...,  0.0399, -0.0070,  0.0319],\n",
       "          [ 0.0254,  0.0224,  0.0086,  ...,  0.0187, -0.0138,  0.0179],\n",
       "          [ 0.0052,  0.0294,  0.0329,  ...,  0.0120, -0.0250,  0.0082],\n",
       "          ...,\n",
       "          [-0.0613, -0.1165, -0.0613,  ...,  0.1012, -0.0920, -0.0767],\n",
       "          [-0.0454,  0.0334, -0.0394,  ..., -0.0263, -0.0334, -0.0758],\n",
       "          [-0.0184,  0.0113, -0.0392,  ..., -0.0683, -0.0410, -0.0552]]],\n",
       "\n",
       "\n",
       "        [[[-0.0197,  0.0288,  0.0480,  ...,  0.0609,  0.0259,  0.0192],\n",
       "          [-0.0122, -0.0488,  0.0181,  ...,  0.0535,  0.0160,  0.0236],\n",
       "          [ 0.0362, -0.0077,  0.0261,  ..., -0.0256, -0.0613,  0.0261],\n",
       "          ...,\n",
       "          [-0.0107, -0.0455,  0.0150,  ...,  0.0295,  0.0530,  0.0680],\n",
       "          [ 0.0271, -0.0148,  0.0078,  ...,  0.0271, -0.0180,  0.0521],\n",
       "          [-0.0521, -0.0463, -0.0107,  ...,  0.0426, -0.0262,  0.0143]],\n",
       "\n",
       "         [[ 0.0237,  0.0227,  0.0056,  ...,  0.0070, -0.0244,  0.0443],\n",
       "          [ 0.0267,  0.0449, -0.0106,  ...,  0.0439, -0.0207,  0.0640],\n",
       "          [ 0.1235,  0.1018, -0.0407,  ..., -0.1209, -0.1617,  0.0255],\n",
       "          ...,\n",
       "          [ 0.0356,  0.0530,  0.0107,  ...,  0.0121, -0.0295,  0.0853],\n",
       "          [ 0.0153,  0.0216, -0.0081,  ..., -0.0324, -0.0540,  0.0572],\n",
       "          [ 0.0745,  0.0877,  0.0555,  ...,  0.0526,  0.0102,  0.0928]],\n",
       "\n",
       "         [[-0.0362,  0.0662, -0.0387,  ..., -0.0156, -0.0794, -0.0087],\n",
       "          [-0.0516,  0.0574,  0.0087,  ...,  0.0736, -0.0313,  0.0423],\n",
       "          [-0.0787, -0.0222, -0.0727,  ..., -0.0565, -0.1282,  0.0182],\n",
       "          ...,\n",
       "          [-0.0392,  0.0304, -0.0272,  ..., -0.0160, -0.1016,  0.0400],\n",
       "          [-0.0607, -0.0228, -0.0759,  ..., -0.0784, -0.1607, -0.1366],\n",
       "          [ 0.0788,  0.0465, -0.0118,  ..., -0.0465, -0.1000,  0.0197]]],\n",
       "\n",
       "\n",
       "        [[[-0.0506,  0.1367,  0.0894,  ..., -0.0962, -0.1114, -0.2143],\n",
       "          [-0.0890, -0.1311, -0.0328,  ..., -0.0749, -0.1475, -0.2973],\n",
       "          [-0.1306, -0.4246, -0.0472,  ...,  0.2141,  0.3230, -0.1706],\n",
       "          ...,\n",
       "          [-0.1042, -0.0978, -0.2552,  ...,  0.1212,  0.1914,  0.1255],\n",
       "          [-0.0803, -0.0607, -0.2213,  ...,  0.0353,  0.1038,  0.1058],\n",
       "          [ 0.0373,  0.0486, -0.1280,  ..., -0.0324,  0.1863,  0.0470]],\n",
       "\n",
       "         [[ 0.0390,  0.0641, -0.0312,  ..., -0.0208,  0.0399,  0.1100],\n",
       "          [ 0.0650,  0.0214,  0.0659,  ..., -0.0392,  0.0276,  0.1132],\n",
       "          [ 0.0771,  0.0402,  0.1391,  ..., -0.1542, -0.0922,  0.0335],\n",
       "          ...,\n",
       "          [ 0.1283,  0.0939,  0.1454,  ..., -0.0596, -0.0905, -0.0607],\n",
       "          [ 0.1265,  0.1001,  0.1369,  ..., -0.0219, -0.0656, -0.0196],\n",
       "          [ 0.0797,  0.0776,  0.0988,  ...,  0.0925, -0.0340, -0.1233]],\n",
       "\n",
       "         [[ 0.1148, -0.0263,  0.0141,  ...,  0.0941,  0.1195,  0.1101],\n",
       "          [ 0.0917, -0.0254,  0.1213,  ...,  0.0860,  0.1537,  0.1791],\n",
       "          [ 0.0680,  0.1320,  0.0480,  ..., -0.0560,  0.0320,  0.1680],\n",
       "          ...,\n",
       "          [-0.1215, -0.0332,  0.1121,  ..., -0.0675, -0.1017, -0.0758],\n",
       "          [-0.0597, -0.0282,  0.1161,  ..., -0.0673, -0.0434, -0.0304],\n",
       "          [-0.1332, -0.1471, -0.0996,  ...,  0.0185, -0.0637, -0.0266]]],\n",
       "\n",
       "\n",
       "        ...,\n",
       "\n",
       "\n",
       "        [[[ 0.0090,  0.0146,  0.0047,  ...,  0.0155, -0.0058, -0.0198],\n",
       "          [ 0.0028,  0.0211, -0.0131,  ...,  0.0023, -0.0058, -0.0202],\n",
       "          [-0.0110,  0.0099, -0.0296,  ..., -0.0144, -0.0170, -0.0303],\n",
       "          ...,\n",
       "          [ 0.0984,  0.0910,  0.1300,  ...,  0.1578,  0.0891,  0.0780],\n",
       "          [ 0.1152,  0.0816,  0.0825,  ..., -0.0599, -0.0689, -0.0499],\n",
       "          [-0.1055, -0.1179, -0.1759,  ..., -0.2069, -0.1800, -0.1655]],\n",
       "\n",
       "         [[-0.0114,  0.0025, -0.0082,  ..., -0.0075, -0.0173, -0.0170],\n",
       "          [-0.0274, -0.0113, -0.0060,  ..., -0.0280, -0.0225, -0.0225],\n",
       "          [-0.0083, -0.0221, -0.0357,  ..., -0.0182, -0.0195, -0.0248],\n",
       "          ...,\n",
       "          [ 0.1296,  0.0966,  0.1481,  ...,  0.1563,  0.0781,  0.0966],\n",
       "          [ 0.1595,  0.1043,  0.1018,  ..., -0.0641, -0.0641, -0.0389],\n",
       "          [-0.1278, -0.1463, -0.1928,  ..., -0.2416, -0.2021, -0.1928]],\n",
       "\n",
       "         [[-0.0054, -0.0017,  0.0043,  ...,  0.0097,  0.0052,  0.0063],\n",
       "          [ 0.0093,  0.0159, -0.0022,  ...,  0.0070,  0.0093, -0.0057],\n",
       "          [-0.0136,  0.0039, -0.0076,  ...,  0.0029,  0.0149, -0.0082],\n",
       "          ...,\n",
       "          [ 0.0430,  0.0795,  0.0602,  ...,  0.0741,  0.0430,  0.0559],\n",
       "          [ 0.1002,  0.0745,  0.1088,  ...,  0.0497,  0.1071,  0.0128],\n",
       "          [-0.0879, -0.0727, -0.0924,  ..., -0.0664, -0.0386, -0.0476]]],\n",
       "\n",
       "\n",
       "        [[[ 0.0454,  0.0465, -0.0158,  ...,  0.0077, -0.0198,  0.0066],\n",
       "          [ 0.0624,  0.0446,  0.0469,  ...,  0.0601,  0.0292,  0.0555],\n",
       "          [ 0.0036,  0.0129,  0.0018,  ..., -0.0082, -0.0019,  0.0080],\n",
       "          ...,\n",
       "          [-0.0441, -0.0584, -0.0244,  ..., -0.0280, -0.0308, -0.0529],\n",
       "          [-0.0095, -0.0429,  0.0088,  ..., -0.0426, -0.0179, -0.0277],\n",
       "          [-0.0219, -0.0333,  0.0134,  ..., -0.0414, -0.0175, -0.0516]],\n",
       "\n",
       "         [[-0.0900, -0.0514, -0.1633,  ..., -0.1196, -0.1106, -0.0437],\n",
       "          [ 0.0136,  0.0259, -0.0191,  ...,  0.0238,  0.0064,  0.0539],\n",
       "          [-0.0925, -0.0467, -0.1119,  ..., -0.0863, -0.0731, -0.0661],\n",
       "          ...,\n",
       "          [ 0.0271,  0.0101,  0.0438,  ...,  0.0268,  0.0442,  0.0156],\n",
       "          [ 0.0981,  0.0606,  0.1132,  ...,  0.0963,  0.1070,  0.0954],\n",
       "          [-0.0148, -0.0116,  0.0482,  ...,  0.0287,  0.0560, -0.0213]],\n",
       "\n",
       "         [[-0.1361, -0.0780, -0.2108,  ..., -0.1361, -0.1510, -0.0631],\n",
       "          [ 0.0153,  0.0512, -0.0177,  ...,  0.0488,  0.0195,  0.0775],\n",
       "          [-0.1706, -0.0887, -0.1733,  ..., -0.1433, -0.1324, -0.1187],\n",
       "          ...,\n",
       "          [ 0.0520,  0.0159,  0.0695,  ...,  0.0443,  0.0651,  0.0268],\n",
       "          [ 0.1303,  0.0907,  0.1622,  ...,  0.1418,  0.1546,  0.1379],\n",
       "          [ 0.0374, -0.0197,  0.0777,  ...,  0.0856,  0.1250,  0.0384]]],\n",
       "\n",
       "\n",
       "        [[[-0.0942,  0.0558,  0.1391,  ..., -0.0142,  0.1040, -0.0372],\n",
       "          [ 0.0598,  0.1251, -0.1229,  ...,  0.0778, -0.1049, -0.0214],\n",
       "          [ 0.1026, -0.1363, -0.1945,  ..., -0.0505, -0.0827,  0.0383],\n",
       "          ...,\n",
       "          [-0.1851,  0.1511,  0.3363,  ...,  0.2720,  0.1020, -0.1662],\n",
       "          [ 0.0665,  0.1396,  0.1130,  ..., -0.0764, -0.2493, -0.0798],\n",
       "          [ 0.0514, -0.0678, -0.0904,  ..., -0.1069,  0.0863,  0.1007]],\n",
       "\n",
       "         [[-0.0979,  0.0620,  0.1141,  ..., -0.0126,  0.0189, -0.1078],\n",
       "          [ 0.0826,  0.1029, -0.1530,  ...,  0.1083,  0.1259, -0.0190],\n",
       "          [ 0.1121, -0.1681, -0.1873,  ..., -0.0634, -0.0929,  0.0487],\n",
       "          ...,\n",
       "          [-0.1883,  0.6725,  0.4788,  ...,  0.3121,  0.1560, -0.1291],\n",
       "          [ 0.1088,  0.2059,  0.4663,  ..., -0.0699, -0.2292, -0.0661],\n",
       "          [ 0.1710, -0.0904, -0.1592,  ..., -0.0786,  0.0786,  0.1179]],\n",
       "\n",
       "         [[-0.1050,  0.0540,  0.1295,  ..., -0.0387,  0.1182, -0.0275],\n",
       "          [ 0.0571,  0.1058, -0.1344,  ...,  0.1058,  0.0180, -0.1323],\n",
       "          [ 0.1034, -0.1074, -0.1663,  ..., -0.0419, -0.0851,  0.0524],\n",
       "          ...,\n",
       "          [-0.1794,  0.0501,  0.3922,  ...,  0.2420,  0.1001, -0.1252],\n",
       "          [ 0.0853,  0.1833,  0.0474,  ..., -0.0442, -0.2149, -0.0411],\n",
       "          [ 0.0392, -0.0754, -0.1341,  ..., -0.0482,  0.0995,  0.0889]]]],\n",
       "       requires_grad=True)"
      ]
     },
     "execution_count": 24,
     "metadata": {},
     "output_type": "execute_result"
    }
   ],
   "source": [
    "alexnetb2.features[0].weight"
   ]
  },
  {
   "cell_type": "code",
   "execution_count": 31,
   "id": "311b50c4-1166-4b57-af7c-23b4b3d91ca7",
   "metadata": {},
   "outputs": [
    {
     "data": {
      "text/plain": [
       "(22628,)"
      ]
     },
     "execution_count": 31,
     "metadata": {},
     "output_type": "execute_result"
    }
   ],
   "source": [
    "np.unique(alexnetb2.features[0].weight.flatten().detach().numpy()).shape"
   ]
  },
  {
   "cell_type": "code",
   "execution_count": 32,
   "id": "a8a6ca7b-7908-47b1-8c69-4c74fde9fa3b",
   "metadata": {},
   "outputs": [
    {
     "name": "stderr",
     "output_type": "stream",
     "text": [
      "Using cache found in C:\\Users\\Elijah/.cache\\torch\\hub\\pytorch_vision_v0.10.0\n",
      "Using cache found in C:\\Users\\Elijah/.cache\\torch\\hub\\pytorch_vision_v0.10.0\n",
      "Using cache found in C:\\Users\\Elijah/.cache\\torch\\hub\\pytorch_vision_v0.10.0\n"
     ]
    }
   ],
   "source": [
    "alexnetb4 = create_model(4)\n",
    "alexnetb3 = create_model(3)\n",
    "alexnetb1 = create_model(1)\n",
    "alexnetb2 = create_model(2)\n",
    "alexnetb5 = create_model(5)\n",
    "alexnetb6 = create_model(6)\n"
   ]
  },
  {
   "cell_type": "code",
   "execution_count": 33,
   "id": "949727dc-d481-4bb0-a1e1-0aa4ec27b980",
   "metadata": {},
   "outputs": [],
   "source": [
    "def num_unique_vals(model):\n",
    "    return np.unique(model.features[0].weight.flatten().detach().numpy()).shape"
   ]
  },
  {
   "cell_type": "code",
   "execution_count": null,
   "id": "f0969843-114b-42f7-a5fe-8256ab20553e",
   "metadata": {},
   "outputs": [],
   "source": [
    "np.unique(alexnetb2.features[0].weight.flatten().detach().numpy()).shape"
   ]
  },
  {
   "cell_type": "code",
   "execution_count": 34,
   "id": "45b52354-5900-46e3-a4e2-522899fb32e7",
   "metadata": {},
   "outputs": [
    {
     "data": {
      "text/plain": [
       "(20818,)"
      ]
     },
     "execution_count": 34,
     "metadata": {},
     "output_type": "execute_result"
    }
   ],
   "source": [
    "num_unique_vals(alexnetb4)"
   ]
  },
  {
   "cell_type": "code",
   "execution_count": 35,
   "id": "fd587958-6aad-4cb7-836d-44ba83a96433",
   "metadata": {},
   "outputs": [
    {
     "data": {
      "text/plain": [
       "(19494,)"
      ]
     },
     "execution_count": 35,
     "metadata": {},
     "output_type": "execute_result"
    }
   ],
   "source": [
    "num_unique_vals(alexnetb3)"
   ]
  },
  {
   "cell_type": "code",
   "execution_count": 36,
   "id": "c9975004-ed7d-4ea8-98b8-7ed0ad71e6c3",
   "metadata": {},
   "outputs": [
    {
     "data": {
      "text/plain": [
       "(22628,)"
      ]
     },
     "execution_count": 36,
     "metadata": {},
     "output_type": "execute_result"
    }
   ],
   "source": [
    "num_unique_vals(alexnetb2)"
   ]
  },
  {
   "cell_type": "code",
   "execution_count": 37,
   "id": "932a8348-787d-4f68-8a7e-e696d0395b59",
   "metadata": {},
   "outputs": [
    {
     "data": {
      "text/plain": [
       "(22628,)"
      ]
     },
     "execution_count": 37,
     "metadata": {},
     "output_type": "execute_result"
    }
   ],
   "source": [
    "num_unique_vals(alexnetb1)"
   ]
  },
  {
   "cell_type": "code",
   "execution_count": null,
   "id": "296891ba-680b-4636-9151-91dce7f895dd",
   "metadata": {},
   "outputs": [],
   "source": []
  },
  {
   "cell_type": "code",
   "execution_count": 18,
   "id": "64af68ca-cf77-409d-bd09-84c41da96e6f",
   "metadata": {
    "scrolled": true
   },
   "outputs": [
    {
     "name": "stderr",
     "output_type": "stream",
     "text": [
      "Using cache found in C:\\Users\\Elijah/.cache\\torch\\hub\\pytorch_vision_v0.10.0\n",
      "C:\\Users\\Elijah\\anaconda3\\envs\\cs190-project\\lib\\site-packages\\torchvision\\models\\_utils.py:208: UserWarning: The parameter 'pretrained' is deprecated since 0.13 and may be removed in the future, please use 'weights' instead.\n",
      "  warnings.warn(\n",
      "C:\\Users\\Elijah\\anaconda3\\envs\\cs190-project\\lib\\site-packages\\torchvision\\models\\_utils.py:223: UserWarning: Arguments other than a weight enum or `None` for 'weights' are deprecated since 0.13 and may be removed in the future. The current behavior is equivalent to passing `weights=AlexNet_Weights.IMAGENET1K_V1`. You can also use `weights=AlexNet_Weights.DEFAULT` to get the most up-to-date weights.\n",
      "  warnings.warn(msg)\n",
      "Using cache found in C:\\Users\\Elijah/.cache\\torch\\hub\\pytorch_vision_v0.10.0\n",
      "Using cache found in C:\\Users\\Elijah/.cache\\torch\\hub\\pytorch_vision_v0.10.0\n",
      "Using cache found in C:\\Users\\Elijah/.cache\\torch\\hub\\pytorch_vision_v0.10.0\n",
      "Using cache found in C:\\Users\\Elijah/.cache\\torch\\hub\\pytorch_vision_v0.10.0\n",
      "Using cache found in C:\\Users\\Elijah/.cache\\torch\\hub\\pytorch_vision_v0.10.0\n",
      "Using cache found in C:\\Users\\Elijah/.cache\\torch\\hub\\pytorch_vision_v0.10.0\n"
     ]
    }
   ],
   "source": [
    "models = {}\n",
    "for bit_length in bit_lengths:\n",
    "    models[bit_length] = create_model(bit_length);"
   ]
  },
  {
   "cell_type": "code",
   "execution_count": 46,
   "id": "62222afa-0628-40a0-b588-6b751687a30c",
   "metadata": {},
   "outputs": [
    {
     "name": "stdout",
     "output_type": "stream",
     "text": [
      "Number of unique values for 7 exponent dt quantization: (224503,)\n",
      "Number of unique values for 6 exponent dt quantization: (201257,)\n",
      "Number of unique values for 5 exponent dt quantization: (187139,)\n",
      "Number of unique values for 4 exponent dt quantization: (180995,)\n",
      "Number of unique values for 3 exponent dt quantization: (178947,)\n",
      "Number of unique values for 2 exponent dt quantization: (178947,)\n",
      "Number of unique values for 1 exponent dt quantization: (235959,)\n"
     ]
    }
   ],
   "source": [
    "def num_unique_vals(model):\n",
    "    return np.unique(model.classifier[4].weight.flatten().detach().numpy()).shape\n",
    "for bit_length in bit_lengths:\n",
    "    print(f'Number of unique values for {bit_length} exponent dt quantization: {num_unique_vals(models[bit_length])}')"
   ]
  },
  {
   "cell_type": "code",
   "execution_count": 43,
   "id": "557a2c3d-5a14-4dcc-af87-1d21fe68e98a",
   "metadata": {
    "collapsed": true,
    "jupyter": {
     "outputs_hidden": true
    }
   },
   "outputs": [
    {
     "data": {
      "text/plain": [
       "Sequential(\n",
       "  (0): Dropout(p=0.5, inplace=False)\n",
       "  (1): Linear(in_features=9216, out_features=4096, bias=True)\n",
       "  (2): ReLU(inplace=True)\n",
       "  (3): Dropout(p=0.5, inplace=False)\n",
       "  (4): Linear(in_features=4096, out_features=1024, bias=True)\n",
       "  (5): ReLU(inplace=True)\n",
       "  (6): Linear(in_features=1024, out_features=10, bias=True)\n",
       ")"
      ]
     },
     "execution_count": 43,
     "metadata": {},
     "output_type": "execute_result"
    }
   ],
   "source": [
    "alexnet.classifier"
   ]
  },
  {
   "cell_type": "code",
   "execution_count": 57,
   "id": "f7bb57f8-1cff-4b0e-a55b-6add36a373c0",
   "metadata": {
    "collapsed": true,
    "jupyter": {
     "outputs_hidden": true
    }
   },
   "outputs": [
    {
     "data": {
      "text/plain": [
       "(231,)"
      ]
     },
     "execution_count": 57,
     "metadata": {},
     "output_type": "execute_result"
    }
   ],
   "source": [
    "np.unique(models[1].classifier[4].weight[0].flatten().detach().numpy()).shape"
   ]
  },
  {
   "cell_type": "code",
   "execution_count": 70,
   "id": "eb2f38aa-3066-4dc1-aefc-53c27b131809",
   "metadata": {
    "collapsed": true,
    "jupyter": {
     "outputs_hidden": true
    }
   },
   "outputs": [
    {
     "data": {
      "text/plain": [
       "array([[0.04341245],\n",
       "       [0.04641441],\n",
       "       [0.05061795],\n",
       "       ...,\n",
       "       [0.03959356],\n",
       "       [0.04256794],\n",
       "       [0.03307443]], dtype=float32)"
      ]
     },
     "execution_count": 70,
     "metadata": {},
     "output_type": "execute_result"
    }
   ],
   "source": [
    "l1 = np.load('./layers/4-bit-layers/layer15.npy')\n",
    "l1"
   ]
  },
  {
   "cell_type": "code",
   "execution_count": 60,
   "id": "1539fa82-f665-44b4-b766-f6ecac6e9453",
   "metadata": {
    "collapsed": true,
    "jupyter": {
     "outputs_hidden": true
    }
   },
   "outputs": [
    {
     "data": {
      "text/plain": [
       "array([[0.13047954],\n",
       "       [0.13544217],\n",
       "       [0.16758148],\n",
       "       [0.11127453],\n",
       "       [0.11510195],\n",
       "       [0.3035147 ],\n",
       "       [0.44895065],\n",
       "       [0.6782765 ],\n",
       "       [0.534125  ],\n",
       "       [0.40451404],\n",
       "       [0.19290188]], dtype=float32)"
      ]
     },
     "execution_count": 60,
     "metadata": {},
     "output_type": "execute_result"
    }
   ],
   "source": [
    "l1"
   ]
  },
  {
   "cell_type": "markdown",
   "id": "49019756-60ec-4918-b5ba-4b978a035e66",
   "metadata": {},
   "source": [
    "# Size Estimation"
   ]
  },
  {
   "cell_type": "code",
   "execution_count": 9,
   "id": "cd966420-7284-48aa-b0ce-3f5afdd008c5",
   "metadata": {},
   "outputs": [],
   "source": [
    "def estimate_model_size_change(alexnet, bit_length):\n",
    "    data_type_sizes = []\n",
    "    abs_max_sizes = []\n",
    "    count = 0\n",
    "    bits_in_fp32 = 8 + 23\n",
    "    for layer in [*alexnet.features,*alexnet.classifier]:\n",
    "        count += 1 \n",
    "        # curr_layer_path = curr_path / f'layer{count}.npy' \n",
    "        curr_data_size = 0\n",
    "        curr_abs_max_size = 0\n",
    "        try:\n",
    "            data_type_sizes.append(0)\n",
    "            abs_max_sizes.append(0)\n",
    "            if len(layer.weight.shape) == 4:\n",
    "                weights = layer.weight.detach()\n",
    "                # print(f'Layer {count}')# weights shape pre-quantization: {weights.shape}\\nWeights: {weights}')\n",
    "                for filter in range(0, weights.shape[0]):\n",
    "                    # print(f'Filter num {filter}')\n",
    "                    for channel in range(0, weights.shape[1]):\n",
    "                        # print(f'Channel num {channel}')\n",
    "                        # print(layer.weight[filter,channel])\n",
    "                        data_type_sizes[-1] += weights[filter,channel].numel()\n",
    "                        abs_max_sizes[-1] += weights[filter,channel].shape[0]\n",
    "                        # for row in range(0,weights.shape[2]):\n",
    "                        #     weights[filter,channel, row] = quantize_dequantize_dt(weights[filter,channel,row])\n",
    "                        # print(f'Finish window')\n",
    "                # print(f'Layer {count} weights shape post-quantization: {weights.shape}\\nWeights: {weights}')\n",
    "                # layer.weight = nn.parameter.Parameter(weights)\n",
    "                # print(f'Layer {count} weights shape post-quantization: {weights.shape}\\nWeights: {weights}')\n",
    "                # layer.weight = nn.parameter.Parameter(weights)\n",
    "            else:\n",
    "                weights = layer.weight.detach()\n",
    "                # print(f'Layer {count}')# weights shape pre-quantization: {layer.weight.shape}\\nWeights: {weights}')\n",
    "                data_type_sizes[-1] += weights.numel()\n",
    "                abs_max_sizes[-1] += weights.shape[0]\n",
    "                # print(weights.shape)\n",
    "                # for row in tqdm(range(0,weights.shape[0])):\n",
    "                #     weights[row] = quantize_dequantize_dt(weights[row])\n",
    "                # layer.weight = nn.parameter.Parameter(weights)\n",
    "                # print(f'Layer {count} weights shape post-quantization: {layer.weight.shape}\\nWeights: {weights}')\n",
    "                # print(layer.weight)\n",
    "        except (TypeError, AttributeError):\n",
    "            pass\n",
    "    return {'data_type_counts': np.array(data_type_sizes), 'data_type_sizes': np.array(data_type_sizes) * bit_length, 'abs_max_counts': np.array(abs_max_sizes), 'abs_max_sizes': np.array(abs_max_sizes) * bits_in_fp32,\n",
    "           'data_type_sizes_original': np.array(data_type_sizes) * bits_in_fp32}"
   ]
  },
  {
   "cell_type": "code",
   "execution_count": 10,
   "id": "46c071df-2735-45c6-80c7-e14691112f57",
   "metadata": {},
   "outputs": [],
   "source": [
    "def bits_to_mb(bits):\n",
    "    return bits / 8000000"
   ]
  },
  {
   "cell_type": "code",
   "execution_count": 11,
   "id": "c674c076-22bf-4aed-9cc4-6e4fc9b98560",
   "metadata": {},
   "outputs": [],
   "source": [
    "def compute_model_size(model, bit_len):\n",
    "    bits_in_fp32 = 8 + 23\n",
    "    results = estimate_model_size_change(model, bit_len)\n",
    "    data_type_size = results['data_type_sizes'].sum()\n",
    "    abs_max_size = results['abs_max_sizes'].sum()\n",
    "    dt_counts = results['data_type_counts'].sum()\n",
    "    display(Markdown(f'## {bit_len} bits'))\n",
    "    print(f'{data_type_size} bits to represent the {bit_len} quantized dt and {abs_max_size} bits to represent the maxes')\n",
    "    print(f'{bits_to_mb(data_type_size)} mb to represent the {bit_len} quantized dt and {bits_to_mb(abs_max_size)} mb to represent the maxes')\n",
    "    print(f'\\nOriginal Model Size: {bits_to_mb( dt_counts * bits_in_fp32)} MB')\n",
    "    print(f'Quantized Model Size: {bits_to_mb( data_type_size +abs_max_size)} MB')\n",
    "    print(f'This is a {bits_to_mb( dt_counts * bits_in_fp32) / (bits_to_mb(data_type_size)+bits_to_mb(abs_max_size))}x decrease in size')\n",
    "    return (bits_to_mb(data_type_size)+bits_to_mb(abs_max_size))"
   ]
  },
  {
   "cell_type": "code",
   "execution_count": 152,
   "id": "7dfd3ccd-a5b8-4c00-84c2-938f04e5fcf6",
   "metadata": {},
   "outputs": [],
   "source": [
    "# estimate_model_size_change(alexnet, 7)"
   ]
  },
  {
   "cell_type": "code",
   "execution_count": 147,
   "id": "49e684a5-c553-44bd-8228-7b943a27f198",
   "metadata": {},
   "outputs": [
    {
     "name": "stdout",
     "output_type": "stream",
     "text": [
      "133265472 bits to represent the 3 quantized dt and 24222966 bits to represent the maxes\n",
      "16.658184 mb to represent the 3 quantized dt and 3.02787075 mb to represent the maxes\n",
      "Original Model Size: 172.134568 mb\n",
      "This is a 8.743985028285062x decrease in size\n"
     ]
    }
   ],
   "source": [
    "compute_model_size(alexnet, 3)"
   ]
  },
  {
   "cell_type": "code",
   "execution_count": 12,
   "id": "79061612-8333-4b96-adc8-814ba0583598",
   "metadata": {},
   "outputs": [
    {
     "name": "stderr",
     "output_type": "stream",
     "text": [
      "Using cache found in C:\\Users\\Elijah/.cache\\torch\\hub\\pytorch_vision_v0.10.0\n",
      "C:\\Users\\Elijah\\anaconda3\\envs\\cs190-project\\lib\\site-packages\\torchvision\\models\\_utils.py:208: UserWarning: The parameter 'pretrained' is deprecated since 0.13 and may be removed in the future, please use 'weights' instead.\n",
      "  warnings.warn(\n",
      "C:\\Users\\Elijah\\anaconda3\\envs\\cs190-project\\lib\\site-packages\\torchvision\\models\\_utils.py:223: UserWarning: Arguments other than a weight enum or `None` for 'weights' are deprecated since 0.13 and may be removed in the future. The current behavior is equivalent to passing `weights=AlexNet_Weights.IMAGENET1K_V1`. You can also use `weights=AlexNet_Weights.DEFAULT` to get the most up-to-date weights.\n",
      "  warnings.warn(msg)\n"
     ]
    }
   ],
   "source": [
    "alexnet = create_model(7)"
   ]
  },
  {
   "cell_type": "code",
   "execution_count": 13,
   "id": "d338e03d-825b-47c9-926b-07b7812a1050",
   "metadata": {},
   "outputs": [
    {
     "data": {
      "text/markdown": [
       "## 7 bits"
      ],
      "text/plain": [
       "<IPython.core.display.Markdown object>"
      ]
     },
     "metadata": {},
     "output_type": "display_data"
    },
    {
     "name": "stdout",
     "output_type": "stream",
     "text": [
      "310952768 bits to represent the 7 quantized dt and 24222966 bits to represent the maxes\n",
      "38.869096 mb to represent the 7 quantized dt and 3.02787075 mb to represent the maxes\n",
      "\n",
      "Original Model Size: 172.134568 MB\n",
      "Quantized Model Size: 41.89696675 MB\n",
      "This is a 4.108521006475964x decrease in size\n"
     ]
    },
    {
     "data": {
      "text/markdown": [
       "---"
      ],
      "text/plain": [
       "<IPython.core.display.Markdown object>"
      ]
     },
     "metadata": {},
     "output_type": "display_data"
    },
    {
     "data": {
      "text/markdown": [
       "## 6 bits"
      ],
      "text/plain": [
       "<IPython.core.display.Markdown object>"
      ]
     },
     "metadata": {},
     "output_type": "display_data"
    },
    {
     "name": "stdout",
     "output_type": "stream",
     "text": [
      "266530944 bits to represent the 6 quantized dt and 24222966 bits to represent the maxes\n",
      "33.316368 mb to represent the 6 quantized dt and 3.02787075 mb to represent the maxes\n",
      "\n",
      "Original Model Size: 172.134568 MB\n",
      "Quantized Model Size: 36.34423875 MB\n",
      "This is a 4.736227086335658x decrease in size\n"
     ]
    },
    {
     "data": {
      "text/markdown": [
       "---"
      ],
      "text/plain": [
       "<IPython.core.display.Markdown object>"
      ]
     },
     "metadata": {},
     "output_type": "display_data"
    },
    {
     "data": {
      "text/markdown": [
       "## 5 bits"
      ],
      "text/plain": [
       "<IPython.core.display.Markdown object>"
      ]
     },
     "metadata": {},
     "output_type": "display_data"
    },
    {
     "name": "stdout",
     "output_type": "stream",
     "text": [
      "222109120 bits to represent the 5 quantized dt and 24222966 bits to represent the maxes\n",
      "27.76364 mb to represent the 5 quantized dt and 3.02787075 mb to represent the maxes\n",
      "\n",
      "Original Model Size: 172.134568 MB\n",
      "Quantized Model Size: 30.79151075 MB\n",
      "This is a 5.590325508793036x decrease in size\n"
     ]
    },
    {
     "data": {
      "text/markdown": [
       "---"
      ],
      "text/plain": [
       "<IPython.core.display.Markdown object>"
      ]
     },
     "metadata": {},
     "output_type": "display_data"
    },
    {
     "data": {
      "text/markdown": [
       "## 4 bits"
      ],
      "text/plain": [
       "<IPython.core.display.Markdown object>"
      ]
     },
     "metadata": {},
     "output_type": "display_data"
    },
    {
     "name": "stdout",
     "output_type": "stream",
     "text": [
      "177687296 bits to represent the 4 quantized dt and 24222966 bits to represent the maxes\n",
      "22.210912 mb to represent the 4 quantized dt and 3.02787075 mb to represent the maxes\n",
      "\n",
      "Original Model Size: 172.134568 MB\n",
      "Quantized Model Size: 25.23878275 MB\n",
      "This is a 6.82024048881676x decrease in size\n"
     ]
    },
    {
     "data": {
      "text/markdown": [
       "---"
      ],
      "text/plain": [
       "<IPython.core.display.Markdown object>"
      ]
     },
     "metadata": {},
     "output_type": "display_data"
    },
    {
     "data": {
      "text/markdown": [
       "## 3 bits"
      ],
      "text/plain": [
       "<IPython.core.display.Markdown object>"
      ]
     },
     "metadata": {},
     "output_type": "display_data"
    },
    {
     "name": "stdout",
     "output_type": "stream",
     "text": [
      "133265472 bits to represent the 3 quantized dt and 24222966 bits to represent the maxes\n",
      "16.658184 mb to represent the 3 quantized dt and 3.02787075 mb to represent the maxes\n",
      "\n",
      "Original Model Size: 172.134568 MB\n",
      "Quantized Model Size: 19.68605475 MB\n",
      "This is a 8.743985028285062x decrease in size\n"
     ]
    },
    {
     "data": {
      "text/markdown": [
       "---"
      ],
      "text/plain": [
       "<IPython.core.display.Markdown object>"
      ]
     },
     "metadata": {},
     "output_type": "display_data"
    },
    {
     "data": {
      "text/markdown": [
       "## 2 bits"
      ],
      "text/plain": [
       "<IPython.core.display.Markdown object>"
      ]
     },
     "metadata": {},
     "output_type": "display_data"
    },
    {
     "name": "stdout",
     "output_type": "stream",
     "text": [
      "88843648 bits to represent the 2 quantized dt and 24222966 bits to represent the maxes\n",
      "11.105456 mb to represent the 2 quantized dt and 3.02787075 mb to represent the maxes\n",
      "\n",
      "Original Model Size: 172.134568 MB\n",
      "Quantized Model Size: 14.13332675 MB\n",
      "This is a 12.1793383146682x decrease in size\n"
     ]
    },
    {
     "data": {
      "text/markdown": [
       "---"
      ],
      "text/plain": [
       "<IPython.core.display.Markdown object>"
      ]
     },
     "metadata": {},
     "output_type": "display_data"
    },
    {
     "data": {
      "text/markdown": [
       "## 1 bits"
      ],
      "text/plain": [
       "<IPython.core.display.Markdown object>"
      ]
     },
     "metadata": {},
     "output_type": "display_data"
    },
    {
     "name": "stdout",
     "output_type": "stream",
     "text": [
      "44421824 bits to represent the 1 quantized dt and 24222966 bits to represent the maxes\n",
      "5.552728 mb to represent the 1 quantized dt and 3.02787075 mb to represent the maxes\n",
      "\n",
      "Original Model Size: 172.134568 MB\n",
      "Quantized Model Size: 8.58059875 MB\n",
      "This is a 20.060904024908517x decrease in size\n"
     ]
    },
    {
     "data": {
      "text/markdown": [
       "---"
      ],
      "text/plain": [
       "<IPython.core.display.Markdown object>"
      ]
     },
     "metadata": {},
     "output_type": "display_data"
    }
   ],
   "source": [
    "compressed_sizes = []\n",
    "for bit_length in bit_lengths:\n",
    "    compressed_sizes.append(compute_model_size(alexnet, bit_length))\n",
    "    display(Markdown('---'))"
   ]
  },
  {
   "cell_type": "code",
   "execution_count": 31,
   "id": "057bb8e5-29c6-458c-b01e-4a7c1ecc5e5e",
   "metadata": {},
   "outputs": [
    {
     "data": {
      "image/png": "[encoded data removed]",
      "text/plain": [
       "<Figure size 640x480 with 1 Axes>"
      ]
     },
     "metadata": {},
     "output_type": "display_data"
    }
   ],
   "source": [
    "plt.plot(bit_lengths,compressed_sizes)\n",
    "plt.gca().invert_xaxis()\n",
    "plt.xlabel('Number of Bits')\n",
    "plt.ylabel('Alexnet Weights Size (MB)')\n",
    "plt.title('Alexnet Weights Size vs Number of Bits')\n",
    "plt.savefig(fig_path / 'alex_weights_v_bits.png')"
   ]
  },
  {
   "cell_type": "markdown",
   "id": "377897bc-a19b-4546-a76e-b007f6d13b69",
   "metadata": {},
   "source": [
    "# MSE Computer"
   ]
  },
  {
   "cell_type": "code",
   "execution_count": null,
   "id": "6e7e30e2-0d5d-4c69-87b3-256d90a9ae28",
   "metadata": {},
   "outputs": [],
   "source": [
    "# Flatten and Concatenate Entire Network"
   ]
  },
  {
   "cell_type": "code",
   "execution_count": 50,
   "id": "b3efee42-2804-43f8-a808-2cc8696ded3a",
   "metadata": {},
   "outputs": [],
   "source": [
    "x = torch.tensor([[0,1,2],[3,4,5]])\n",
    "y = torch.tensor([[6,7,8],[9,10,11]])\n",
    "z = torch.tensor([[0,1,2],[3,4,5]])\n",
    "a = torch.tensor([[6,7,8],[9,10,11]])"
   ]
  },
  {
   "cell_type": "code",
   "execution_count": 51,
   "id": "35833fdb-73ae-48c7-acd7-f9087fd97959",
   "metadata": {},
   "outputs": [],
   "source": [
    "z = torch.tensor([])"
   ]
  },
  {
   "cell_type": "code",
   "execution_count": 52,
   "id": "00d5a342-094d-48bc-98bc-0d8c7fd729d2",
   "metadata": {},
   "outputs": [
    {
     "data": {
      "text/plain": [
       "tensor([0., 1., 2., 3., 4., 5.])"
      ]
     },
     "execution_count": 52,
     "metadata": {},
     "output_type": "execute_result"
    }
   ],
   "source": [
    "z = torch.concatenate((z.flatten(),x.flatten()))\n",
    "z"
   ]
  },
  {
   "cell_type": "code",
   "execution_count": 53,
   "id": "02523309-7145-42fd-a183-f99cb7a8df9a",
   "metadata": {},
   "outputs": [
    {
     "data": {
      "text/plain": [
       "tensor([ 0.,  1.,  2.,  3.,  4.,  5.,  6.,  7.,  8.,  9., 10., 11.])"
      ]
     },
     "execution_count": 53,
     "metadata": {},
     "output_type": "execute_result"
    }
   ],
   "source": [
    "z = torch.concatenate((z.flatten(),y.flatten()))\n",
    "z"
   ]
  },
  {
   "cell_type": "code",
   "execution_count": 49,
   "id": "e726247e-e5b0-466c-9c31-9064f697615d",
   "metadata": {},
   "outputs": [
    {
     "data": {
      "text/plain": [
       "tensor([ 0,  1,  2,  3,  4,  5,  6,  7,  8,  9, 10, 11,  6,  7,  8,  9, 10, 11])"
      ]
     },
     "execution_count": 49,
     "metadata": {},
     "output_type": "execute_result"
    }
   ],
   "source": [
    "z = torch.concatenate((z,a.flatten()))\n",
    "z"
   ]
  },
  {
   "cell_type": "code",
   "execution_count": 63,
   "id": "574ba859-e04e-4857-9fd5-e17aa3f1c25a",
   "metadata": {},
   "outputs": [],
   "source": [
    "def flatten_model(model):\n",
    "    flattened_model = torch.tensor([])\n",
    "    for layer in [*model.features,*model.classifier]:\n",
    "        try:\n",
    "            weights = layer.weight.detach()\n",
    "            flattened_model = torch.concatenate((flattened_model, weights.flatten()))\n",
    "        except (TypeError, AttributeError):\n",
    "            pass\n",
    "    return flattened_model"
   ]
  },
  {
   "cell_type": "code",
   "execution_count": 65,
   "id": "a2275c5c-465a-4465-8e30-5ee2ac11f800",
   "metadata": {},
   "outputs": [
    {
     "data": {
      "text/plain": [
       "torch.Size([44421824])"
      ]
     },
     "execution_count": 65,
     "metadata": {},
     "output_type": "execute_result"
    }
   ],
   "source": [
    "flatten_model(alexnet).shape"
   ]
  },
  {
   "cell_type": "code",
   "execution_count": 68,
   "id": "274f0aae-4cdf-4be8-aced-ea01b04cf793",
   "metadata": {},
   "outputs": [
    {
     "name": "stderr",
     "output_type": "stream",
     "text": [
      "Using cache found in C:\\Users\\Elijah/.cache\\torch\\hub\\pytorch_vision_v0.10.0\n",
      "Using cache found in C:\\Users\\Elijah/.cache\\torch\\hub\\pytorch_vision_v0.10.0\n"
     ]
    },
    {
     "name": "stdout",
     "output_type": "stream",
     "text": [
      "7 model MSE: 3.9068904555961126e-08\n"
     ]
    },
    {
     "name": "stderr",
     "output_type": "stream",
     "text": [
      "Using cache found in C:\\Users\\Elijah/.cache\\torch\\hub\\pytorch_vision_v0.10.0\n"
     ]
    },
    {
     "name": "stdout",
     "output_type": "stream",
     "text": [
      "6 model MSE: 6.442089528491124e-08\n"
     ]
    },
    {
     "name": "stderr",
     "output_type": "stream",
     "text": [
      "Using cache found in C:\\Users\\Elijah/.cache\\torch\\hub\\pytorch_vision_v0.10.0\n"
     ]
    },
    {
     "name": "stdout",
     "output_type": "stream",
     "text": [
      "5 model MSE: 1.7218215475622856e-07\n"
     ]
    },
    {
     "name": "stderr",
     "output_type": "stream",
     "text": [
      "Using cache found in C:\\Users\\Elijah/.cache\\torch\\hub\\pytorch_vision_v0.10.0\n"
     ]
    },
    {
     "name": "stdout",
     "output_type": "stream",
     "text": [
      "4 model MSE: 5.99545160184789e-07\n"
     ]
    },
    {
     "name": "stderr",
     "output_type": "stream",
     "text": [
      "Using cache found in C:\\Users\\Elijah/.cache\\torch\\hub\\pytorch_vision_v0.10.0\n"
     ]
    },
    {
     "name": "stdout",
     "output_type": "stream",
     "text": [
      "3 model MSE: 2.2738106508768396e-06\n"
     ]
    },
    {
     "name": "stderr",
     "output_type": "stream",
     "text": [
      "Using cache found in C:\\Users\\Elijah/.cache\\torch\\hub\\pytorch_vision_v0.10.0\n"
     ]
    },
    {
     "name": "stdout",
     "output_type": "stream",
     "text": [
      "2 model MSE: 2.2738106508768396e-06\n"
     ]
    },
    {
     "name": "stderr",
     "output_type": "stream",
     "text": [
      "Using cache found in C:\\Users\\Elijah/.cache\\torch\\hub\\pytorch_vision_v0.10.0\n"
     ]
    },
    {
     "name": "stdout",
     "output_type": "stream",
     "text": [
      "1 model MSE: 0.0002048963215202093\n",
      "7 model MSE: 3.9068904555961126e-08\n",
      "6 model MSE: 6.442089528491124e-08\n",
      "5 model MSE: 1.7218215475622856e-07\n",
      "4 model MSE: 5.99545160184789e-07\n",
      "3 model MSE: 2.2738106508768396e-06\n",
      "2 model MSE: 2.2738106508768396e-06\n",
      "1 model MSE: 0.0002048963215202093\n",
      "\n"
     ]
    }
   ],
   "source": [
    "alexnet = torch.hub.load('pytorch/vision:v0.10.0', 'alexnet', pretrained=True)\n",
    "    \n",
    "alexnet.classifier[4] = nn.Linear(4096,1024)\n",
    "alexnet.classifier[6] = nn.Linear(1024,10)\n",
    "\n",
    "alexnet.load_state_dict(torch.load(f'./model_20240603_151633_final_frozen_alexnet',map_location=device))\n",
    "alexnet.eval()\n",
    "output = ''\n",
    "for bit_length in bit_lengths:\n",
    "    model = create_model(bit_length)\n",
    "    flattened_alexnet = flatten_model(alexnet)\n",
    "    flattened_quantized_alexnet = flatten_model(model)\n",
    "    model_size = flattened_alexnet.shape[0]\n",
    "    MSE = torch.sum(torch.pow(flattened_alexnet - flattened_quantized_alexnet, 2)) / model_size\n",
    "    print(f'{bit_length} model MSE: {MSE}')\n",
    "    output += f'{bit_length} model MSE: {MSE}\\n'\n",
    "print(output)"
   ]
  },
  {
   "cell_type": "code",
   "execution_count": 69,
   "id": "4549de63-6f46-4822-8a19-4b4bba85db76",
   "metadata": {},
   "outputs": [
    {
     "name": "stderr",
     "output_type": "stream",
     "text": [
      "Using cache found in C:\\Users\\Elijah/.cache\\torch\\hub\\pytorch_vision_v0.10.0\n",
      "Using cache found in C:\\Users\\Elijah/.cache\\torch\\hub\\pytorch_vision_v0.10.0\n"
     ]
    },
    {
     "name": "stdout",
     "output_type": "stream",
     "text": [
      "7 model MAE: 0.00016158449579961598\n"
     ]
    },
    {
     "name": "stderr",
     "output_type": "stream",
     "text": [
      "Using cache found in C:\\Users\\Elijah/.cache\\torch\\hub\\pytorch_vision_v0.10.0\n"
     ]
    },
    {
     "name": "stdout",
     "output_type": "stream",
     "text": [
      "6 model MAE: 0.0002035994693869725\n"
     ]
    },
    {
     "name": "stderr",
     "output_type": "stream",
     "text": [
      "Using cache found in C:\\Users\\Elijah/.cache\\torch\\hub\\pytorch_vision_v0.10.0\n"
     ]
    },
    {
     "name": "stdout",
     "output_type": "stream",
     "text": [
      "5 model MAE: 0.00029426516266539693\n"
     ]
    },
    {
     "name": "stderr",
     "output_type": "stream",
     "text": [
      "Using cache found in C:\\Users\\Elijah/.cache\\torch\\hub\\pytorch_vision_v0.10.0\n"
     ]
    },
    {
     "name": "stdout",
     "output_type": "stream",
     "text": [
      "4 model MAE: 0.00047445064410567284\n"
     ]
    },
    {
     "name": "stderr",
     "output_type": "stream",
     "text": [
      "Using cache found in C:\\Users\\Elijah/.cache\\torch\\hub\\pytorch_vision_v0.10.0\n"
     ]
    },
    {
     "name": "stdout",
     "output_type": "stream",
     "text": [
      "3 model MAE: 0.0008231321698985994\n"
     ]
    },
    {
     "name": "stderr",
     "output_type": "stream",
     "text": [
      "Using cache found in C:\\Users\\Elijah/.cache\\torch\\hub\\pytorch_vision_v0.10.0\n"
     ]
    },
    {
     "name": "stdout",
     "output_type": "stream",
     "text": [
      "2 model MAE: 0.0008231321698985994\n"
     ]
    },
    {
     "name": "stderr",
     "output_type": "stream",
     "text": [
      "Using cache found in C:\\Users\\Elijah/.cache\\torch\\hub\\pytorch_vision_v0.10.0\n"
     ]
    },
    {
     "name": "stdout",
     "output_type": "stream",
     "text": [
      "1 model MAE: 0.007130596786737442\n",
      "7 model MAE: 0.00016158449579961598\n",
      "6 model MAE: 0.0002035994693869725\n",
      "5 model MAE: 0.00029426516266539693\n",
      "4 model MAE: 0.00047445064410567284\n",
      "3 model MAE: 0.0008231321698985994\n",
      "2 model MAE: 0.0008231321698985994\n",
      "1 model MAE: 0.007130596786737442\n",
      "\n"
     ]
    }
   ],
   "source": [
    "alexnet = torch.hub.load('pytorch/vision:v0.10.0', 'alexnet', pretrained=True)\n",
    "    \n",
    "alexnet.classifier[4] = nn.Linear(4096,1024)\n",
    "alexnet.classifier[6] = nn.Linear(1024,10)\n",
    "\n",
    "alexnet.load_state_dict(torch.load(f'./model_20240603_151633_final_frozen_alexnet',map_location=device))\n",
    "alexnet.eval()\n",
    "output = ''\n",
    "for bit_length in bit_lengths:\n",
    "    model = create_model(bit_length)\n",
    "    flattened_alexnet = flatten_model(alexnet)\n",
    "    flattened_quantized_alexnet = flatten_model(model)\n",
    "    model_size = flattened_alexnet.shape[0]\n",
    "    MSE = torch.sum(torch.abs(flattened_alexnet - flattened_quantized_alexnet)) / model_size\n",
    "    print(f'{bit_length} model MAE: {MSE}')\n",
    "    output += f'{bit_length} model MAE: {MSE}\\n'\n",
    "print(output)"
   ]
  },
  {
   "cell_type": "code",
   "execution_count": null,
   "id": "4be1e841-2b0b-4d8e-898e-8413156f647f",
   "metadata": {},
   "outputs": [],
   "source": []
  }
 ],
 "metadata": {
  "kernelspec": {
   "display_name": "Python 3 (ipykernel)",
   "language": "python",
   "name": "python3"
  },
  "language_info": {
   "codemirror_mode": {
    "name": "ipython",
    "version": 3
   },
   "file_extension": ".py",
   "mimetype": "text/x-python",
   "name": "python",
   "nbconvert_exporter": "python",
   "pygments_lexer": "ipython3",
   "version": "3.10.13"
  }
 },
 "nbformat": 4,
 "nbformat_minor": 5
}
